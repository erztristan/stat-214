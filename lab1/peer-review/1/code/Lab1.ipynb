{
 "cells": [
  {
   "cell_type": "markdown",
   "metadata": {},
   "source": [
    "# Lab1 - STAT214\n",
    "\n",
    "Xuanlin Mao 3040748116"
   ]
  },
  {
   "cell_type": "code",
   "execution_count": 1,
   "metadata": {},
   "outputs": [],
   "source": [
    "import pandas as pd\n",
    "import numpy as np\n",
    "import matplotlib.pyplot as plt\n",
    "import seaborn as sns\n",
    "from scipy.interpolate import UnivariateSpline\n",
    "import warnings\n",
    "warnings.filterwarnings(\"ignore\")"
   ]
  },
  {
   "cell_type": "code",
   "execution_count": 2,
   "metadata": {},
   "outputs": [
    {
     "data": {
      "text/html": [
       "<div>\n",
       "<style scoped>\n",
       "    .dataframe tbody tr th:only-of-type {\n",
       "        vertical-align: middle;\n",
       "    }\n",
       "\n",
       "    .dataframe tbody tr th {\n",
       "        vertical-align: top;\n",
       "    }\n",
       "\n",
       "    .dataframe thead th {\n",
       "        text-align: right;\n",
       "    }\n",
       "</style>\n",
       "<table border=\"1\" class=\"dataframe\">\n",
       "  <thead>\n",
       "    <tr style=\"text-align: right;\">\n",
       "      <th></th>\n",
       "      <th>PatNum</th>\n",
       "      <th>EmplType</th>\n",
       "      <th>Certification</th>\n",
       "      <th>InjuryMech</th>\n",
       "      <th>High_impact_InjSev</th>\n",
       "      <th>Amnesia_verb</th>\n",
       "      <th>LOCSeparate</th>\n",
       "      <th>LocLen</th>\n",
       "      <th>Seiz</th>\n",
       "      <th>SeizOccur</th>\n",
       "      <th>...</th>\n",
       "      <th>Finding20</th>\n",
       "      <th>Finding21</th>\n",
       "      <th>Finding22</th>\n",
       "      <th>Finding23</th>\n",
       "      <th>DeathTBI</th>\n",
       "      <th>HospHead</th>\n",
       "      <th>HospHeadPosCT</th>\n",
       "      <th>Intub24Head</th>\n",
       "      <th>Neurosurgery</th>\n",
       "      <th>PosIntFinal</th>\n",
       "    </tr>\n",
       "  </thead>\n",
       "  <tbody>\n",
       "    <tr>\n",
       "      <th>0</th>\n",
       "      <td>1</td>\n",
       "      <td>3.0</td>\n",
       "      <td>3</td>\n",
       "      <td>11.0</td>\n",
       "      <td>2.0</td>\n",
       "      <td>0.0</td>\n",
       "      <td>0.0</td>\n",
       "      <td>92.0</td>\n",
       "      <td>0.0</td>\n",
       "      <td>92.0</td>\n",
       "      <td>...</td>\n",
       "      <td>92</td>\n",
       "      <td>92</td>\n",
       "      <td>92</td>\n",
       "      <td>92</td>\n",
       "      <td>0.0</td>\n",
       "      <td>0.0</td>\n",
       "      <td>0</td>\n",
       "      <td>0.0</td>\n",
       "      <td>0.0</td>\n",
       "      <td>0.0</td>\n",
       "    </tr>\n",
       "    <tr>\n",
       "      <th>1</th>\n",
       "      <td>2</td>\n",
       "      <td>5.0</td>\n",
       "      <td>3</td>\n",
       "      <td>8.0</td>\n",
       "      <td>2.0</td>\n",
       "      <td>0.0</td>\n",
       "      <td>0.0</td>\n",
       "      <td>92.0</td>\n",
       "      <td>0.0</td>\n",
       "      <td>92.0</td>\n",
       "      <td>...</td>\n",
       "      <td>0</td>\n",
       "      <td>0</td>\n",
       "      <td>0</td>\n",
       "      <td>0</td>\n",
       "      <td>0.0</td>\n",
       "      <td>0.0</td>\n",
       "      <td>0</td>\n",
       "      <td>0.0</td>\n",
       "      <td>0.0</td>\n",
       "      <td>0.0</td>\n",
       "    </tr>\n",
       "    <tr>\n",
       "      <th>2</th>\n",
       "      <td>3</td>\n",
       "      <td>5.0</td>\n",
       "      <td>3</td>\n",
       "      <td>5.0</td>\n",
       "      <td>2.0</td>\n",
       "      <td>NaN</td>\n",
       "      <td>NaN</td>\n",
       "      <td>92.0</td>\n",
       "      <td>NaN</td>\n",
       "      <td>92.0</td>\n",
       "      <td>...</td>\n",
       "      <td>0</td>\n",
       "      <td>0</td>\n",
       "      <td>0</td>\n",
       "      <td>0</td>\n",
       "      <td>0.0</td>\n",
       "      <td>1.0</td>\n",
       "      <td>0</td>\n",
       "      <td>0.0</td>\n",
       "      <td>0.0</td>\n",
       "      <td>0.0</td>\n",
       "    </tr>\n",
       "  </tbody>\n",
       "</table>\n",
       "<p>3 rows × 125 columns</p>\n",
       "</div>"
      ],
      "text/plain": [
       "   PatNum  EmplType  Certification  InjuryMech  High_impact_InjSev  \\\n",
       "0       1       3.0              3        11.0                 2.0   \n",
       "1       2       5.0              3         8.0                 2.0   \n",
       "2       3       5.0              3         5.0                 2.0   \n",
       "\n",
       "   Amnesia_verb  LOCSeparate  LocLen  Seiz  SeizOccur  ...  Finding20  \\\n",
       "0           0.0          0.0    92.0   0.0       92.0  ...         92   \n",
       "1           0.0          0.0    92.0   0.0       92.0  ...          0   \n",
       "2           NaN          NaN    92.0   NaN       92.0  ...          0   \n",
       "\n",
       "   Finding21  Finding22  Finding23  DeathTBI  HospHead  HospHeadPosCT  \\\n",
       "0         92         92         92       0.0       0.0              0   \n",
       "1          0          0          0       0.0       0.0              0   \n",
       "2          0          0          0       0.0       1.0              0   \n",
       "\n",
       "   Intub24Head  Neurosurgery  PosIntFinal  \n",
       "0          0.0           0.0          0.0  \n",
       "1          0.0           0.0          0.0  \n",
       "2          0.0           0.0          0.0  \n",
       "\n",
       "[3 rows x 125 columns]"
      ]
     },
     "execution_count": 2,
     "metadata": {},
     "output_type": "execute_result"
    }
   ],
   "source": [
    "df0 = pd.read_csv('../data/TBI PUD 10-08-2013.csv')\n",
    "df0.head(3)"
   ]
  },
  {
   "cell_type": "markdown",
   "metadata": {},
   "source": [
    "---\n",
    "\n",
    "EDA"
   ]
  },
  {
   "cell_type": "code",
   "execution_count": 3,
   "metadata": {},
   "outputs": [
    {
     "data": {
      "text/html": [
       "<div>\n",
       "<style scoped>\n",
       "    .dataframe tbody tr th:only-of-type {\n",
       "        vertical-align: middle;\n",
       "    }\n",
       "\n",
       "    .dataframe tbody tr th {\n",
       "        vertical-align: top;\n",
       "    }\n",
       "\n",
       "    .dataframe thead th {\n",
       "        text-align: right;\n",
       "    }\n",
       "</style>\n",
       "<table border=\"1\" class=\"dataframe\">\n",
       "  <thead>\n",
       "    <tr style=\"text-align: right;\">\n",
       "      <th></th>\n",
       "      <th>PatNum</th>\n",
       "      <th>EmplType</th>\n",
       "      <th>Certification</th>\n",
       "      <th>InjuryMech</th>\n",
       "      <th>High_impact_InjSev</th>\n",
       "      <th>Amnesia_verb</th>\n",
       "      <th>LOCSeparate</th>\n",
       "      <th>LocLen</th>\n",
       "      <th>Seiz</th>\n",
       "      <th>SeizOccur</th>\n",
       "      <th>...</th>\n",
       "      <th>Finding20</th>\n",
       "      <th>Finding21</th>\n",
       "      <th>Finding22</th>\n",
       "      <th>Finding23</th>\n",
       "      <th>DeathTBI</th>\n",
       "      <th>HospHead</th>\n",
       "      <th>HospHeadPosCT</th>\n",
       "      <th>Intub24Head</th>\n",
       "      <th>Neurosurgery</th>\n",
       "      <th>PosIntFinal</th>\n",
       "    </tr>\n",
       "  </thead>\n",
       "  <tbody>\n",
       "    <tr>\n",
       "      <th>0</th>\n",
       "      <td>1</td>\n",
       "      <td>3.0</td>\n",
       "      <td>3</td>\n",
       "      <td>11.0</td>\n",
       "      <td>2.0</td>\n",
       "      <td>0.0</td>\n",
       "      <td>0.0</td>\n",
       "      <td>92.0</td>\n",
       "      <td>0.0</td>\n",
       "      <td>92.0</td>\n",
       "      <td>...</td>\n",
       "      <td>92</td>\n",
       "      <td>92</td>\n",
       "      <td>92</td>\n",
       "      <td>92</td>\n",
       "      <td>0.0</td>\n",
       "      <td>0.0</td>\n",
       "      <td>0</td>\n",
       "      <td>0.0</td>\n",
       "      <td>0.0</td>\n",
       "      <td>0.0</td>\n",
       "    </tr>\n",
       "    <tr>\n",
       "      <th>1</th>\n",
       "      <td>2</td>\n",
       "      <td>5.0</td>\n",
       "      <td>3</td>\n",
       "      <td>8.0</td>\n",
       "      <td>2.0</td>\n",
       "      <td>0.0</td>\n",
       "      <td>0.0</td>\n",
       "      <td>92.0</td>\n",
       "      <td>0.0</td>\n",
       "      <td>92.0</td>\n",
       "      <td>...</td>\n",
       "      <td>0</td>\n",
       "      <td>0</td>\n",
       "      <td>0</td>\n",
       "      <td>0</td>\n",
       "      <td>0.0</td>\n",
       "      <td>0.0</td>\n",
       "      <td>0</td>\n",
       "      <td>0.0</td>\n",
       "      <td>0.0</td>\n",
       "      <td>0.0</td>\n",
       "    </tr>\n",
       "    <tr>\n",
       "      <th>2</th>\n",
       "      <td>3</td>\n",
       "      <td>5.0</td>\n",
       "      <td>3</td>\n",
       "      <td>5.0</td>\n",
       "      <td>2.0</td>\n",
       "      <td>NaN</td>\n",
       "      <td>NaN</td>\n",
       "      <td>92.0</td>\n",
       "      <td>NaN</td>\n",
       "      <td>92.0</td>\n",
       "      <td>...</td>\n",
       "      <td>0</td>\n",
       "      <td>0</td>\n",
       "      <td>0</td>\n",
       "      <td>0</td>\n",
       "      <td>0.0</td>\n",
       "      <td>1.0</td>\n",
       "      <td>0</td>\n",
       "      <td>0.0</td>\n",
       "      <td>0.0</td>\n",
       "      <td>0.0</td>\n",
       "    </tr>\n",
       "    <tr>\n",
       "      <th>3</th>\n",
       "      <td>4</td>\n",
       "      <td>5.0</td>\n",
       "      <td>3</td>\n",
       "      <td>6.0</td>\n",
       "      <td>1.0</td>\n",
       "      <td>91.0</td>\n",
       "      <td>0.0</td>\n",
       "      <td>92.0</td>\n",
       "      <td>0.0</td>\n",
       "      <td>92.0</td>\n",
       "      <td>...</td>\n",
       "      <td>92</td>\n",
       "      <td>92</td>\n",
       "      <td>92</td>\n",
       "      <td>92</td>\n",
       "      <td>0.0</td>\n",
       "      <td>0.0</td>\n",
       "      <td>0</td>\n",
       "      <td>0.0</td>\n",
       "      <td>0.0</td>\n",
       "      <td>0.0</td>\n",
       "    </tr>\n",
       "    <tr>\n",
       "      <th>4</th>\n",
       "      <td>5</td>\n",
       "      <td>3.0</td>\n",
       "      <td>3</td>\n",
       "      <td>12.0</td>\n",
       "      <td>2.0</td>\n",
       "      <td>91.0</td>\n",
       "      <td>0.0</td>\n",
       "      <td>92.0</td>\n",
       "      <td>0.0</td>\n",
       "      <td>92.0</td>\n",
       "      <td>...</td>\n",
       "      <td>0</td>\n",
       "      <td>0</td>\n",
       "      <td>0</td>\n",
       "      <td>0</td>\n",
       "      <td>0.0</td>\n",
       "      <td>0.0</td>\n",
       "      <td>0</td>\n",
       "      <td>0.0</td>\n",
       "      <td>0.0</td>\n",
       "      <td>0.0</td>\n",
       "    </tr>\n",
       "    <tr>\n",
       "      <th>...</th>\n",
       "      <td>...</td>\n",
       "      <td>...</td>\n",
       "      <td>...</td>\n",
       "      <td>...</td>\n",
       "      <td>...</td>\n",
       "      <td>...</td>\n",
       "      <td>...</td>\n",
       "      <td>...</td>\n",
       "      <td>...</td>\n",
       "      <td>...</td>\n",
       "      <td>...</td>\n",
       "      <td>...</td>\n",
       "      <td>...</td>\n",
       "      <td>...</td>\n",
       "      <td>...</td>\n",
       "      <td>...</td>\n",
       "      <td>...</td>\n",
       "      <td>...</td>\n",
       "      <td>...</td>\n",
       "      <td>...</td>\n",
       "      <td>...</td>\n",
       "    </tr>\n",
       "    <tr>\n",
       "      <th>43394</th>\n",
       "      <td>43395</td>\n",
       "      <td>5.0</td>\n",
       "      <td>3</td>\n",
       "      <td>8.0</td>\n",
       "      <td>2.0</td>\n",
       "      <td>0.0</td>\n",
       "      <td>0.0</td>\n",
       "      <td>92.0</td>\n",
       "      <td>0.0</td>\n",
       "      <td>92.0</td>\n",
       "      <td>...</td>\n",
       "      <td>92</td>\n",
       "      <td>92</td>\n",
       "      <td>92</td>\n",
       "      <td>92</td>\n",
       "      <td>0.0</td>\n",
       "      <td>0.0</td>\n",
       "      <td>0</td>\n",
       "      <td>0.0</td>\n",
       "      <td>0.0</td>\n",
       "      <td>0.0</td>\n",
       "    </tr>\n",
       "    <tr>\n",
       "      <th>43395</th>\n",
       "      <td>43396</td>\n",
       "      <td>5.0</td>\n",
       "      <td>3</td>\n",
       "      <td>6.0</td>\n",
       "      <td>1.0</td>\n",
       "      <td>91.0</td>\n",
       "      <td>0.0</td>\n",
       "      <td>92.0</td>\n",
       "      <td>0.0</td>\n",
       "      <td>92.0</td>\n",
       "      <td>...</td>\n",
       "      <td>92</td>\n",
       "      <td>92</td>\n",
       "      <td>92</td>\n",
       "      <td>92</td>\n",
       "      <td>0.0</td>\n",
       "      <td>0.0</td>\n",
       "      <td>0</td>\n",
       "      <td>0.0</td>\n",
       "      <td>0.0</td>\n",
       "      <td>0.0</td>\n",
       "    </tr>\n",
       "    <tr>\n",
       "      <th>43396</th>\n",
       "      <td>43397</td>\n",
       "      <td>5.0</td>\n",
       "      <td>3</td>\n",
       "      <td>7.0</td>\n",
       "      <td>1.0</td>\n",
       "      <td>0.0</td>\n",
       "      <td>0.0</td>\n",
       "      <td>92.0</td>\n",
       "      <td>0.0</td>\n",
       "      <td>92.0</td>\n",
       "      <td>...</td>\n",
       "      <td>92</td>\n",
       "      <td>92</td>\n",
       "      <td>92</td>\n",
       "      <td>92</td>\n",
       "      <td>0.0</td>\n",
       "      <td>0.0</td>\n",
       "      <td>0</td>\n",
       "      <td>0.0</td>\n",
       "      <td>0.0</td>\n",
       "      <td>0.0</td>\n",
       "    </tr>\n",
       "    <tr>\n",
       "      <th>43397</th>\n",
       "      <td>43398</td>\n",
       "      <td>5.0</td>\n",
       "      <td>1</td>\n",
       "      <td>8.0</td>\n",
       "      <td>2.0</td>\n",
       "      <td>0.0</td>\n",
       "      <td>0.0</td>\n",
       "      <td>92.0</td>\n",
       "      <td>0.0</td>\n",
       "      <td>92.0</td>\n",
       "      <td>...</td>\n",
       "      <td>92</td>\n",
       "      <td>92</td>\n",
       "      <td>92</td>\n",
       "      <td>92</td>\n",
       "      <td>0.0</td>\n",
       "      <td>0.0</td>\n",
       "      <td>0</td>\n",
       "      <td>0.0</td>\n",
       "      <td>0.0</td>\n",
       "      <td>0.0</td>\n",
       "    </tr>\n",
       "    <tr>\n",
       "      <th>43398</th>\n",
       "      <td>43399</td>\n",
       "      <td>5.0</td>\n",
       "      <td>90</td>\n",
       "      <td>8.0</td>\n",
       "      <td>3.0</td>\n",
       "      <td>0.0</td>\n",
       "      <td>0.0</td>\n",
       "      <td>92.0</td>\n",
       "      <td>0.0</td>\n",
       "      <td>92.0</td>\n",
       "      <td>...</td>\n",
       "      <td>0</td>\n",
       "      <td>0</td>\n",
       "      <td>0</td>\n",
       "      <td>0</td>\n",
       "      <td>0.0</td>\n",
       "      <td>0.0</td>\n",
       "      <td>0</td>\n",
       "      <td>0.0</td>\n",
       "      <td>0.0</td>\n",
       "      <td>0.0</td>\n",
       "    </tr>\n",
       "  </tbody>\n",
       "</table>\n",
       "<p>43399 rows × 125 columns</p>\n",
       "</div>"
      ],
      "text/plain": [
       "       PatNum  EmplType  Certification  InjuryMech  High_impact_InjSev  \\\n",
       "0           1       3.0              3        11.0                 2.0   \n",
       "1           2       5.0              3         8.0                 2.0   \n",
       "2           3       5.0              3         5.0                 2.0   \n",
       "3           4       5.0              3         6.0                 1.0   \n",
       "4           5       3.0              3        12.0                 2.0   \n",
       "...       ...       ...            ...         ...                 ...   \n",
       "43394   43395       5.0              3         8.0                 2.0   \n",
       "43395   43396       5.0              3         6.0                 1.0   \n",
       "43396   43397       5.0              3         7.0                 1.0   \n",
       "43397   43398       5.0              1         8.0                 2.0   \n",
       "43398   43399       5.0             90         8.0                 3.0   \n",
       "\n",
       "       Amnesia_verb  LOCSeparate  LocLen  Seiz  SeizOccur  ...  Finding20  \\\n",
       "0               0.0          0.0    92.0   0.0       92.0  ...         92   \n",
       "1               0.0          0.0    92.0   0.0       92.0  ...          0   \n",
       "2               NaN          NaN    92.0   NaN       92.0  ...          0   \n",
       "3              91.0          0.0    92.0   0.0       92.0  ...         92   \n",
       "4              91.0          0.0    92.0   0.0       92.0  ...          0   \n",
       "...             ...          ...     ...   ...        ...  ...        ...   \n",
       "43394           0.0          0.0    92.0   0.0       92.0  ...         92   \n",
       "43395          91.0          0.0    92.0   0.0       92.0  ...         92   \n",
       "43396           0.0          0.0    92.0   0.0       92.0  ...         92   \n",
       "43397           0.0          0.0    92.0   0.0       92.0  ...         92   \n",
       "43398           0.0          0.0    92.0   0.0       92.0  ...          0   \n",
       "\n",
       "       Finding21  Finding22  Finding23  DeathTBI  HospHead  HospHeadPosCT  \\\n",
       "0             92         92         92       0.0       0.0              0   \n",
       "1              0          0          0       0.0       0.0              0   \n",
       "2              0          0          0       0.0       1.0              0   \n",
       "3             92         92         92       0.0       0.0              0   \n",
       "4              0          0          0       0.0       0.0              0   \n",
       "...          ...        ...        ...       ...       ...            ...   \n",
       "43394         92         92         92       0.0       0.0              0   \n",
       "43395         92         92         92       0.0       0.0              0   \n",
       "43396         92         92         92       0.0       0.0              0   \n",
       "43397         92         92         92       0.0       0.0              0   \n",
       "43398          0          0          0       0.0       0.0              0   \n",
       "\n",
       "       Intub24Head  Neurosurgery  PosIntFinal  \n",
       "0              0.0           0.0          0.0  \n",
       "1              0.0           0.0          0.0  \n",
       "2              0.0           0.0          0.0  \n",
       "3              0.0           0.0          0.0  \n",
       "4              0.0           0.0          0.0  \n",
       "...            ...           ...          ...  \n",
       "43394          0.0           0.0          0.0  \n",
       "43395          0.0           0.0          0.0  \n",
       "43396          0.0           0.0          0.0  \n",
       "43397          0.0           0.0          0.0  \n",
       "43398          0.0           0.0          0.0  \n",
       "\n",
       "[43399 rows x 125 columns]"
      ]
     },
     "execution_count": 3,
     "metadata": {},
     "output_type": "execute_result"
    }
   ],
   "source": [
    "df0"
   ]
  },
  {
   "cell_type": "code",
   "execution_count": 4,
   "metadata": {},
   "outputs": [
    {
     "data": {
      "text/plain": [
       "InjuryMech\n",
       "1.0      3910\n",
       "2.0      1433\n",
       "3.0       556\n",
       "4.0      1701\n",
       "5.0       901\n",
       "6.0      4733\n",
       "7.0      2455\n",
       "8.0     11883\n",
       "9.0      2908\n",
       "10.0     2979\n",
       "11.0     3016\n",
       "12.0     3158\n",
       "90.0     3465\n",
       "Name: count, dtype: int64"
      ]
     },
     "execution_count": 4,
     "metadata": {},
     "output_type": "execute_result"
    }
   ],
   "source": [
    "df0.InjuryMech.value_counts().sort_index()"
   ]
  },
  {
   "cell_type": "code",
   "execution_count": 5,
   "metadata": {},
   "outputs": [
    {
     "data": {
      "image/png": "[encoded data removed]",
      "text/plain": [
       "<Figure size 1200x400 with 2 Axes>"
      ]
     },
     "metadata": {},
     "output_type": "display_data"
    }
   ],
   "source": [
    "fig, axes = plt.subplots(1, 2, figsize=(12, 4))\n",
    "axes[0].hist(df0.AgeInMonth,bins=30)\n",
    "axes[0].set_ylabel('count')\n",
    "axes[0].set_title('Histogram of AgeInMonth')\n",
    "axes[1].bar(x=df0.InjuryMech.value_counts().sort_index().index.astype(str), height=df0.InjuryMech.value_counts().sort_index())\n",
    "axes[1].set_title('Barplot of InjuryMech')\n",
    "plt.savefig(\"../saved/hist_numeric.pdf\", format=\"pdf\", bbox_inches=\"tight\")\n",
    "plt.show()"
   ]
  },
  {
   "cell_type": "code",
   "execution_count": 6,
   "metadata": {},
   "outputs": [
    {
     "data": {
      "image/png": "[encoded data removed]",
      "text/plain": [
       "<Figure size 1511.11x1000 with 6 Axes>"
      ]
     },
     "metadata": {},
     "output_type": "display_data"
    }
   ],
   "source": [
    "g = sns.catplot(data=df0[['AMS','AMSAgitated','AMSSleep','AMSSlow','AMSRepeat','AMSOth']].melt(var_name=\"Variable\", value_name=\"Category\"), \n",
    "                x=\"Category\", col=\"Variable\", kind=\"count\", col_wrap=3)\n",
    "g.set_titles(size=20)\n",
    "g.set_xlabels(size=15)\n",
    "g.set_ylabels(size=15)\n",
    "# plt.suptitle('Barplot of AMS variables')\n",
    "plt.savefig(\"../saved/hist_AMS.pdf\", format=\"pdf\", bbox_inches=\"tight\")\n",
    "plt.show()"
   ]
  },
  {
   "cell_type": "code",
   "execution_count": 7,
   "metadata": {},
   "outputs": [
    {
     "data": {
      "image/png": "[encoded data removed]",
      "text/plain": [
       "<Figure size 640x480 with 1 Axes>"
      ]
     },
     "metadata": {},
     "output_type": "display_data"
    }
   ],
   "source": [
    "plt.pie([(df0.PosIntFinal==0).sum(),(df0.PosIntFinal==1).sum()],labels=['0','1'],autopct='%1.1f%%')\n",
    "plt.title(\"Pie Plot of PosIntFinal\")\n",
    "plt.legend()\n",
    "plt.savefig(\"../saved/pie_Y.pdf\", format=\"pdf\", bbox_inches=\"tight\")\n",
    "plt.show()"
   ]
  },
  {
   "cell_type": "code",
   "execution_count": 8,
   "metadata": {},
   "outputs": [
    {
     "data": {
      "text/html": [
       "<div>\n",
       "<style scoped>\n",
       "    .dataframe tbody tr th:only-of-type {\n",
       "        vertical-align: middle;\n",
       "    }\n",
       "\n",
       "    .dataframe tbody tr th {\n",
       "        vertical-align: top;\n",
       "    }\n",
       "\n",
       "    .dataframe thead th {\n",
       "        text-align: right;\n",
       "    }\n",
       "</style>\n",
       "<table border=\"1\" class=\"dataframe\">\n",
       "  <thead>\n",
       "    <tr style=\"text-align: right;\">\n",
       "      <th></th>\n",
       "      <th>Variable</th>\n",
       "      <th>Category</th>\n",
       "    </tr>\n",
       "  </thead>\n",
       "  <tbody>\n",
       "    <tr>\n",
       "      <th>0</th>\n",
       "      <td>High_impact_InjSev</td>\n",
       "      <td>2.0</td>\n",
       "    </tr>\n",
       "    <tr>\n",
       "      <th>1</th>\n",
       "      <td>High_impact_InjSev</td>\n",
       "      <td>2.0</td>\n",
       "    </tr>\n",
       "    <tr>\n",
       "      <th>2</th>\n",
       "      <td>High_impact_InjSev</td>\n",
       "      <td>2.0</td>\n",
       "    </tr>\n",
       "    <tr>\n",
       "      <th>3</th>\n",
       "      <td>High_impact_InjSev</td>\n",
       "      <td>1.0</td>\n",
       "    </tr>\n",
       "    <tr>\n",
       "      <th>4</th>\n",
       "      <td>High_impact_InjSev</td>\n",
       "      <td>2.0</td>\n",
       "    </tr>\n",
       "    <tr>\n",
       "      <th>...</th>\n",
       "      <td>...</td>\n",
       "      <td>...</td>\n",
       "    </tr>\n",
       "    <tr>\n",
       "      <th>86793</th>\n",
       "      <td>LOCSeparate</td>\n",
       "      <td>0.0</td>\n",
       "    </tr>\n",
       "    <tr>\n",
       "      <th>86794</th>\n",
       "      <td>LOCSeparate</td>\n",
       "      <td>0.0</td>\n",
       "    </tr>\n",
       "    <tr>\n",
       "      <th>86795</th>\n",
       "      <td>LOCSeparate</td>\n",
       "      <td>0.0</td>\n",
       "    </tr>\n",
       "    <tr>\n",
       "      <th>86796</th>\n",
       "      <td>LOCSeparate</td>\n",
       "      <td>0.0</td>\n",
       "    </tr>\n",
       "    <tr>\n",
       "      <th>86797</th>\n",
       "      <td>LOCSeparate</td>\n",
       "      <td>0.0</td>\n",
       "    </tr>\n",
       "  </tbody>\n",
       "</table>\n",
       "<p>86798 rows × 2 columns</p>\n",
       "</div>"
      ],
      "text/plain": [
       "                 Variable  Category\n",
       "0      High_impact_InjSev       2.0\n",
       "1      High_impact_InjSev       2.0\n",
       "2      High_impact_InjSev       2.0\n",
       "3      High_impact_InjSev       1.0\n",
       "4      High_impact_InjSev       2.0\n",
       "...                   ...       ...\n",
       "86793         LOCSeparate       0.0\n",
       "86794         LOCSeparate       0.0\n",
       "86795         LOCSeparate       0.0\n",
       "86796         LOCSeparate       0.0\n",
       "86797         LOCSeparate       0.0\n",
       "\n",
       "[86798 rows x 2 columns]"
      ]
     },
     "execution_count": 8,
     "metadata": {},
     "output_type": "execute_result"
    }
   ],
   "source": [
    "df0[['High_impact_InjSev','LOCSeparate']].melt(var_name=\"Variable\", value_name=\"Category\")"
   ]
  },
  {
   "cell_type": "code",
   "execution_count": 9,
   "metadata": {},
   "outputs": [
    {
     "data": {
      "image/png": "[encoded data removed]",
      "text/plain": [
       "<Figure size 800x500 with 1 Axes>"
      ]
     },
     "metadata": {},
     "output_type": "display_data"
    }
   ],
   "source": [
    "tmp = df0[[\"InjuryMech\",\"PosIntFinal\"]]\n",
    "tmp['group'] = 'Other'\n",
    "tmp.loc[tmp.InjuryMech.isin([1,2,3,5]),'group'] = \"High Risk\"\n",
    "plt.figure(figsize=(8, 5))\n",
    "order = df0.groupby(\"InjuryMech\")[\"PosIntFinal\"].mean().sort_values(ascending=False).index\n",
    "sns.barplot(data=tmp, x=\"InjuryMech\", y=\"PosIntFinal\", ci=95, capsize=0.1,order=order,\n",
    "            hue='group', palette=['#dd8452','#4c72b0'])\n",
    "\n",
    "plt.title(\"Average PosIntFinal by Injury Mechanism with 95% CI\")\n",
    "plt.ylabel(\"Avgerage PosIntFinal\")\n",
    "plt.xlabel(\"Injury Mechanism\")\n",
    "plt.savefig(\"../saved/Injury_y.pdf\", format=\"pdf\", bbox_inches=\"tight\")\n",
    "\n",
    "plt.show()"
   ]
  },
  {
   "cell_type": "code",
   "execution_count": 10,
   "metadata": {},
   "outputs": [],
   "source": [
    "np.random.seed(123)\n",
    "idx = np.random.choice(range(df0.shape[0]), int(df0.shape[0]*0.3),replace=False)\n",
    "new_idx = np.random.choice(idx,len(idx),replace=False)"
   ]
  },
  {
   "cell_type": "code",
   "execution_count": 11,
   "metadata": {},
   "outputs": [
    {
     "data": {
      "image/png": "[encoded data removed]",
      "text/plain": [
       "<Figure size 800x500 with 1 Axes>"
      ]
     },
     "metadata": {},
     "output_type": "display_data"
    }
   ],
   "source": [
    "tmp = df0[[\"InjuryMech\",\"PosIntFinal\"]]\n",
    "tmp['group'] = 'Other'\n",
    "tmp.loc[tmp.InjuryMech.isin([1,2,3,5]),'group'] = \"High Risk\"\n",
    "newvalues = tmp.loc[new_idx,'PosIntFinal'].reset_index(drop=True)\n",
    "tmp.loc[idx,'PosIntFinal'] = newvalues\n",
    "plt.figure(figsize=(8, 5))\n",
    "order = df0.groupby(\"InjuryMech\")[\"PosIntFinal\"].mean().sort_values(ascending=False).index\n",
    "sns.barplot(data=tmp, x=\"InjuryMech\", y=\"PosIntFinal\", ci=95, capsize=0.1,order=order,\n",
    "            hue='group', palette=['#dd8452','#4c72b0'])\n",
    "\n",
    "plt.title(\"Average PosIntFinal by Injury Mechanism with 95% CI - 30% Shuffled\")\n",
    "plt.ylabel(\"Avgerage PosIntFinal\")\n",
    "plt.xlabel(\"Injury Mechanism\")\n",
    "plt.savefig(\"../saved/Injury_y_shuffle.pdf\", format=\"pdf\", bbox_inches=\"tight\")\n",
    "\n",
    "plt.show()"
   ]
  },
  {
   "cell_type": "code",
   "execution_count": null,
   "metadata": {},
   "outputs": [],
   "source": []
  },
  {
   "cell_type": "code",
   "execution_count": 12,
   "metadata": {},
   "outputs": [
    {
     "data": {
      "image/png": "[encoded data removed]",
      "text/plain": [
       "<Figure size 800x500 with 1 Axes>"
      ]
     },
     "metadata": {},
     "output_type": "display_data"
    }
   ],
   "source": [
    "tmp = df0.loc[df0.Clav==1,[\"ClavFace\", \"ClavNeck\", \"ClavFro\", \"ClavOcc\", \"ClavPar\", \"ClavTem\"]].melt()\n",
    "# tmp['group'] = 'Other'\n",
    "# tmp.loc[tmp.InjuryMech.isin([1,2,3,5]),'group'] = \"High Risk\"\n",
    "plt.figure(figsize=(8, 5))\n",
    "order = df0.loc[df0.Clav==1,[\"ClavFace\", \"ClavNeck\", \"ClavFro\", \"ClavOcc\", \"ClavPar\", \"ClavTem\"]].mean().sort_values(ascending=False).index\n",
    "sns.barplot(data=tmp, x=\"variable\", y=\"value\", ci=95, capsize=0.1,order=order,color='#4c72b0')\n",
    "\n",
    "plt.title(\"Average PosIntFinal by Clavicles with 95% CI\")\n",
    "plt.ylabel(\"Avgerage PosIntFinal\")\n",
    "plt.xlabel(\"Clavicles Evidence\")\n",
    "plt.savefig(\"../saved/Clav_y.pdf\", format=\"pdf\", bbox_inches=\"tight\")\n",
    "\n",
    "plt.show()\n"
   ]
  },
  {
   "cell_type": "code",
   "execution_count": 13,
   "metadata": {},
   "outputs": [
    {
     "data": {
      "text/html": [
       "<div>\n",
       "<style scoped>\n",
       "    .dataframe tbody tr th:only-of-type {\n",
       "        vertical-align: middle;\n",
       "    }\n",
       "\n",
       "    .dataframe tbody tr th {\n",
       "        vertical-align: top;\n",
       "    }\n",
       "\n",
       "    .dataframe thead th {\n",
       "        text-align: right;\n",
       "    }\n",
       "</style>\n",
       "<table border=\"1\" class=\"dataframe\">\n",
       "  <thead>\n",
       "    <tr style=\"text-align: right;\">\n",
       "      <th></th>\n",
       "      <th>variable</th>\n",
       "      <th>value</th>\n",
       "    </tr>\n",
       "  </thead>\n",
       "  <tbody>\n",
       "    <tr>\n",
       "      <th>0</th>\n",
       "      <td>ClavFace</td>\n",
       "      <td>1</td>\n",
       "    </tr>\n",
       "    <tr>\n",
       "      <th>1</th>\n",
       "      <td>ClavFace</td>\n",
       "      <td>0</td>\n",
       "    </tr>\n",
       "    <tr>\n",
       "      <th>2</th>\n",
       "      <td>ClavFace</td>\n",
       "      <td>0</td>\n",
       "    </tr>\n",
       "    <tr>\n",
       "      <th>3</th>\n",
       "      <td>ClavFace</td>\n",
       "      <td>0</td>\n",
       "    </tr>\n",
       "    <tr>\n",
       "      <th>4</th>\n",
       "      <td>ClavFace</td>\n",
       "      <td>0</td>\n",
       "    </tr>\n",
       "    <tr>\n",
       "      <th>...</th>\n",
       "      <td>...</td>\n",
       "      <td>...</td>\n",
       "    </tr>\n",
       "    <tr>\n",
       "      <th>166903</th>\n",
       "      <td>ClavTem</td>\n",
       "      <td>0</td>\n",
       "    </tr>\n",
       "    <tr>\n",
       "      <th>166904</th>\n",
       "      <td>ClavTem</td>\n",
       "      <td>0</td>\n",
       "    </tr>\n",
       "    <tr>\n",
       "      <th>166905</th>\n",
       "      <td>ClavTem</td>\n",
       "      <td>0</td>\n",
       "    </tr>\n",
       "    <tr>\n",
       "      <th>166906</th>\n",
       "      <td>ClavTem</td>\n",
       "      <td>0</td>\n",
       "    </tr>\n",
       "    <tr>\n",
       "      <th>166907</th>\n",
       "      <td>ClavTem</td>\n",
       "      <td>0</td>\n",
       "    </tr>\n",
       "  </tbody>\n",
       "</table>\n",
       "<p>166908 rows × 2 columns</p>\n",
       "</div>"
      ],
      "text/plain": [
       "        variable  value\n",
       "0       ClavFace      1\n",
       "1       ClavFace      0\n",
       "2       ClavFace      0\n",
       "3       ClavFace      0\n",
       "4       ClavFace      0\n",
       "...          ...    ...\n",
       "166903   ClavTem      0\n",
       "166904   ClavTem      0\n",
       "166905   ClavTem      0\n",
       "166906   ClavTem      0\n",
       "166907   ClavTem      0\n",
       "\n",
       "[166908 rows x 2 columns]"
      ]
     },
     "execution_count": 13,
     "metadata": {},
     "output_type": "execute_result"
    }
   ],
   "source": [
    "df0.loc[df0.Clav==1,[\"ClavFace\", \"ClavNeck\", \"ClavFro\", \"ClavOcc\", \"ClavPar\", \"ClavTem\"]].melt()"
   ]
  },
  {
   "cell_type": "code",
   "execution_count": null,
   "metadata": {},
   "outputs": [],
   "source": []
  },
  {
   "cell_type": "markdown",
   "metadata": {},
   "source": [
    "The number of rows (43399) shows that the dataset contains the evaluable patients according to Figure 1 in the paper. Following the data processing in the original paper, we are going to exclude 969 patients with `GCSTotal` 3–13, and 18 patients with missing primary outcome. "
   ]
  },
  {
   "cell_type": "code",
   "execution_count": 14,
   "metadata": {},
   "outputs": [
    {
     "name": "stdout",
     "output_type": "stream",
     "text": [
      "patients with GCS 3–13: 969, \n",
      "patients with missing primary outcome: 18.\n"
     ]
    }
   ],
   "source": [
    "print(f\"patients with GCS 3–13: {(df0.GCSTotal <= 13).sum()}, \\npatients with missing primary outcome: {df0.loc[(df0.GCSTotal<=13)|(df0.PosIntFinal.isna()) ,:].shape[0]-(df0.GCSTotal <= 13).sum()}.\")"
   ]
  },
  {
   "cell_type": "code",
   "execution_count": 15,
   "metadata": {},
   "outputs": [
    {
     "data": {
      "text/plain": [
       "(42412, 125)"
      ]
     },
     "execution_count": 15,
     "metadata": {},
     "output_type": "execute_result"
    }
   ],
   "source": [
    "df = df0[~((df0.GCSTotal<=13)|(df0.PosIntFinal.isna()))]\n",
    "df.shape"
   ]
  },
  {
   "cell_type": "markdown",
   "metadata": {},
   "source": [
    "Besides, since `DeathTBI`, `HospHeadPosCT`, and `Intub24Head` are result variables which cannot be observed during the treatment, we are going to drop these variables"
   ]
  },
  {
   "cell_type": "code",
   "execution_count": 16,
   "metadata": {},
   "outputs": [],
   "source": [
    "df.drop(['DeathTBI','HospHeadPosCT','Intub24Head'],inplace=True,axis=1)"
   ]
  },
  {
   "cell_type": "markdown",
   "metadata": {},
   "source": [
    "## 1: Invalid or Inconsistent Values"
   ]
  },
  {
   "cell_type": "markdown",
   "metadata": {},
   "source": [
    "Check numeric variables\n",
    "* `GCSTotal`\n",
    "* `AgeInMonth`\n",
    "* `AgeinYears`"
   ]
  },
  {
   "cell_type": "code",
   "execution_count": 17,
   "metadata": {},
   "outputs": [
    {
     "data": {
      "image/png": "[encoded data removed]",
      "text/plain": [
       "<Figure size 640x480 with 1 Axes>"
      ]
     },
     "metadata": {},
     "output_type": "display_data"
    }
   ],
   "source": [
    "# AgeInMonth_value_counts = sorted(df.AgeInMonth.value_counts())\n",
    "plt.hist(df.AgeInMonth)\n",
    "plt.title('Histgram of AgeInMonth')\n",
    "plt.xlabel('Months')\n",
    "plt.show()"
   ]
  },
  {
   "cell_type": "code",
   "execution_count": 18,
   "metadata": {},
   "outputs": [
    {
     "data": {
      "image/png": "[encoded data removed]",
      "text/plain": [
       "<Figure size 640x480 with 1 Axes>"
      ]
     },
     "metadata": {},
     "output_type": "display_data"
    }
   ],
   "source": [
    "plt.hist(df.AgeinYears)\n",
    "plt.title('Histgram of AgeinYears')\n",
    "plt.xlabel('Years')\n",
    "plt.show()"
   ]
  },
  {
   "cell_type": "code",
   "execution_count": 19,
   "metadata": {},
   "outputs": [
    {
     "data": {
      "text/plain": [
       "GCSTotal\n",
       "15    41071\n",
       "14     1341\n",
       "Name: count, dtype: int64"
      ]
     },
     "execution_count": 19,
     "metadata": {},
     "output_type": "execute_result"
    }
   ],
   "source": [
    "df.GCSTotal.value_counts()"
   ]
  },
  {
   "cell_type": "markdown",
   "metadata": {},
   "source": [
    "There is no obvious inconsistant or unreasonable data in these three numeric variables"
   ]
  },
  {
   "cell_type": "code",
   "execution_count": 20,
   "metadata": {},
   "outputs": [
    {
     "data": {
      "text/plain": [
       "EmplType\n",
       "5.0    21669\n",
       "3.0    14081\n",
       "4.0     3650\n",
       "1.0     1948\n",
       "2.0     1046\n",
       "Name: count, dtype: int64"
      ]
     },
     "execution_count": 20,
     "metadata": {},
     "output_type": "execute_result"
    }
   ],
   "source": [
    "df.EmplType.value_counts()"
   ]
  },
  {
   "cell_type": "markdown",
   "metadata": {},
   "source": [
    "`Seiz=0` is equal to `SeizLen=92`."
   ]
  },
  {
   "cell_type": "code",
   "execution_count": 21,
   "metadata": {},
   "outputs": [
    {
     "data": {
      "image/png": "[encoded data removed]",
      "text/plain": [
       "<Figure size 640x480 with 1 Axes>"
      ]
     },
     "metadata": {},
     "output_type": "display_data"
    }
   ],
   "source": [
    "plt.hist(df.loc[df['HA_verb']==91, 'AgeInMonth'],bins=30)\n",
    "plt.show()"
   ]
  },
  {
   "cell_type": "markdown",
   "metadata": {},
   "source": [
    "There are 355 children less than 12 months old that were not marked as \"too young to speak\" in the `HA_verb`, we are going to record them as 91 here, so does `Amnesia_verb`. Besides, since their standards for Pre-verbal/Non-verbal are the same, it is reasonable to mark both of them as 91 if any of the two variables equals 91."
   ]
  },
  {
   "cell_type": "code",
   "execution_count": 22,
   "metadata": {},
   "outputs": [
    {
     "data": {
      "text/plain": [
       "np.int64(355)"
      ]
     },
     "execution_count": 22,
     "metadata": {},
     "output_type": "execute_result"
    }
   ],
   "source": [
    "(df.loc[df['AgeInMonth']<12, 'HA_verb'] != 91).sum()"
   ]
  },
  {
   "cell_type": "code",
   "execution_count": 23,
   "metadata": {},
   "outputs": [
    {
     "data": {
      "text/plain": [
       "np.int64(479)"
      ]
     },
     "execution_count": 23,
     "metadata": {},
     "output_type": "execute_result"
    }
   ],
   "source": [
    "(df.loc[df['AgeInMonth']<12, 'Amnesia_verb'] != 91).sum()"
   ]
  },
  {
   "cell_type": "code",
   "execution_count": 24,
   "metadata": {},
   "outputs": [],
   "source": [
    "df.loc[(df['HA_verb']==91)|(df['Amnesia_verb']==91), 'Amnesia_verb'] = 91\n",
    "df.loc[(df['HA_verb']==91)|(df['Amnesia_verb']==91), 'HA_verb'] = 91\n",
    "df.loc[df['AgeInMonth']<12, 'HA_verb'] = 91\n",
    "df.loc[df['AgeInMonth']<12, 'Amnesia_verb'] = 91"
   ]
  },
  {
   "cell_type": "markdown",
   "metadata": {},
   "source": [
    "After cleaning `GCSTotal`, values of `GCSGroup` all equal 2. Therefore we are going to drop it."
   ]
  },
  {
   "cell_type": "code",
   "execution_count": 25,
   "metadata": {},
   "outputs": [
    {
     "data": {
      "text/plain": [
       "GCSGroup\n",
       "2    42412\n",
       "Name: count, dtype: int64"
      ]
     },
     "execution_count": 25,
     "metadata": {},
     "output_type": "execute_result"
    }
   ],
   "source": [
    "df.GCSGroup.value_counts()"
   ]
  },
  {
   "cell_type": "code",
   "execution_count": 26,
   "metadata": {},
   "outputs": [],
   "source": [
    "df.drop(['GCSGroup'], axis=1, inplace=True)"
   ]
  },
  {
   "cell_type": "markdown",
   "metadata": {},
   "source": [
    "`Clav=0|missing`和`Clvaxxx`取92是等价的 "
   ]
  },
  {
   "cell_type": "code",
   "execution_count": 27,
   "metadata": {},
   "outputs": [
    {
     "data": {
      "text/html": [
       "<div>\n",
       "<style scoped>\n",
       "    .dataframe tbody tr th:only-of-type {\n",
       "        vertical-align: middle;\n",
       "    }\n",
       "\n",
       "    .dataframe tbody tr th {\n",
       "        vertical-align: top;\n",
       "    }\n",
       "\n",
       "    .dataframe thead th {\n",
       "        text-align: right;\n",
       "    }\n",
       "</style>\n",
       "<table border=\"1\" class=\"dataframe\">\n",
       "  <thead>\n",
       "    <tr style=\"text-align: right;\">\n",
       "      <th></th>\n",
       "      <th>Clav</th>\n",
       "      <th>ClavFace</th>\n",
       "      <th>ClavNeck</th>\n",
       "      <th>ClavFro</th>\n",
       "      <th>ClavOcc</th>\n",
       "      <th>ClavPar</th>\n",
       "      <th>ClavTem</th>\n",
       "    </tr>\n",
       "  </thead>\n",
       "  <tbody>\n",
       "    <tr>\n",
       "      <th>1</th>\n",
       "      <td>0.0</td>\n",
       "      <td>92</td>\n",
       "      <td>92</td>\n",
       "      <td>92</td>\n",
       "      <td>92</td>\n",
       "      <td>92</td>\n",
       "      <td>92</td>\n",
       "    </tr>\n",
       "    <tr>\n",
       "      <th>7</th>\n",
       "      <td>0.0</td>\n",
       "      <td>92</td>\n",
       "      <td>92</td>\n",
       "      <td>92</td>\n",
       "      <td>92</td>\n",
       "      <td>92</td>\n",
       "      <td>92</td>\n",
       "    </tr>\n",
       "    <tr>\n",
       "      <th>8</th>\n",
       "      <td>0.0</td>\n",
       "      <td>92</td>\n",
       "      <td>92</td>\n",
       "      <td>92</td>\n",
       "      <td>92</td>\n",
       "      <td>92</td>\n",
       "      <td>92</td>\n",
       "    </tr>\n",
       "    <tr>\n",
       "      <th>14</th>\n",
       "      <td>0.0</td>\n",
       "      <td>92</td>\n",
       "      <td>92</td>\n",
       "      <td>92</td>\n",
       "      <td>92</td>\n",
       "      <td>92</td>\n",
       "      <td>92</td>\n",
       "    </tr>\n",
       "    <tr>\n",
       "      <th>15</th>\n",
       "      <td>0.0</td>\n",
       "      <td>92</td>\n",
       "      <td>92</td>\n",
       "      <td>92</td>\n",
       "      <td>92</td>\n",
       "      <td>92</td>\n",
       "      <td>92</td>\n",
       "    </tr>\n",
       "  </tbody>\n",
       "</table>\n",
       "</div>"
      ],
      "text/plain": [
       "    Clav  ClavFace  ClavNeck  ClavFro  ClavOcc  ClavPar  ClavTem\n",
       "1    0.0        92        92       92       92       92       92\n",
       "7    0.0        92        92       92       92       92       92\n",
       "8    0.0        92        92       92       92       92       92\n",
       "14   0.0        92        92       92       92       92       92\n",
       "15   0.0        92        92       92       92       92       92"
      ]
     },
     "execution_count": 27,
     "metadata": {},
     "output_type": "execute_result"
    }
   ],
   "source": [
    "df.loc[df.Clav==0,[col for col in df.columns if 'Clav' in col]].head()"
   ]
  },
  {
   "cell_type": "markdown",
   "metadata": {},
   "source": [
    "Indications: 部分情况下选择的“most important indications”太多了，比如有10/16个"
   ]
  },
  {
   "cell_type": "code",
   "execution_count": 28,
   "metadata": {},
   "outputs": [
    {
     "data": {
      "text/plain": [
       "16"
      ]
     },
     "execution_count": 28,
     "metadata": {},
     "output_type": "execute_result"
    }
   ],
   "source": [
    "len([col for col in df.columns if 'Ind' in col])"
   ]
  },
  {
   "cell_type": "code",
   "execution_count": 29,
   "metadata": {},
   "outputs": [
    {
     "data": {
      "text/plain": [
       "2     5500\n",
       "1     4064\n",
       "3     3486\n",
       "0     1375\n",
       "4     1175\n",
       "5      300\n",
       "6       62\n",
       "7        7\n",
       "8        3\n",
       "10       1\n",
       "9        1\n",
       "Name: count, dtype: int64"
      ]
     },
     "execution_count": 29,
     "metadata": {},
     "output_type": "execute_result"
    }
   ],
   "source": [
    "df.loc[(df.IndAge!=91)&(df.IndAge!=92),[col for col in df.columns if 'Ind' in col]].sum(1).value_counts()"
   ]
  },
  {
   "cell_type": "code",
   "execution_count": 30,
   "metadata": {},
   "outputs": [
    {
     "data": {
      "image/png": "[encoded data removed]",
      "text/plain": [
       "<Figure size 640x480 with 1 Axes>"
      ]
     },
     "metadata": {},
     "output_type": "display_data"
    }
   ],
   "source": [
    "plt.hist(df.loc[(df.IndAge!=91)&(df.IndAge!=92),[col for col in df.columns if 'Ind' in col]].sum(1))\n",
    "plt.show()"
   ]
  },
  {
   "cell_type": "code",
   "execution_count": 31,
   "metadata": {},
   "outputs": [
    {
     "data": {
      "text/plain": [
       "<Axes: >"
      ]
     },
     "execution_count": 31,
     "metadata": {},
     "output_type": "execute_result"
    },
    {
     "data": {
      "image/png": "[encoded data removed]",
      "text/plain": [
       "<Figure size 640x480 with 2 Axes>"
      ]
     },
     "metadata": {},
     "output_type": "display_data"
    }
   ],
   "source": [
    "sns.heatmap(np.corrcoef(df.loc[(df.IndAge!=91)&(df.IndAge!=92),[col for col in df.columns if 'Ind' in col]].values.T))"
   ]
  },
  {
   "cell_type": "markdown",
   "metadata": {},
   "source": [
    "The values of `AgeTwoPlus`, `Gender`, `Ethnicity` are 1/2, not 1/0, which do not align with other variables and may cause some unneccesary problem while fitting models. Thus we will change it. Additionally, there are still 91 values in `AgeTwoPlus` even though we have `AgeInMonth` variable, so we can modify it."
   ]
  },
  {
   "cell_type": "code",
   "execution_count": 32,
   "metadata": {},
   "outputs": [],
   "source": [
    "df.loc[df['AgeInMonth']>=24, 'AgeTwoPlus'] = 1\n",
    "df.loc[df['AgeInMonth']<24, 'AgeTwoPlus'] = 0"
   ]
  },
  {
   "cell_type": "code",
   "execution_count": 33,
   "metadata": {},
   "outputs": [],
   "source": [
    "df.loc[df['Gender']==1, 'Gender'] = 0\n",
    "df.loc[df['Gender']==2, 'Gender'] = 1\n",
    "df.loc[df['Ethnicity']==1, 'Ethnicity'] = 0\n",
    "df.loc[df['Ethnicity']==2, 'Ethnicity'] = 1"
   ]
  },
  {
   "cell_type": "markdown",
   "metadata": {},
   "source": [
    "There are some cases where the physician indicated that the seizure is the most important indications in influencing the decision to obtain a head CT (`IndSeiz=1`), but with `Seiz=0`. Same things happen to `Vomit`, `HA_verb`, `Hema`, etc. For these problems, we will assume the observation is correct and modify the Indicator variables."
   ]
  },
  {
   "cell_type": "code",
   "execution_count": 34,
   "metadata": {},
   "outputs": [
    {
     "data": {
      "text/plain": [
       "Seiz\n",
       "1.0    355\n",
       "0.0     15\n",
       "Name: count, dtype: int64"
      ]
     },
     "execution_count": 34,
     "metadata": {},
     "output_type": "execute_result"
    }
   ],
   "source": [
    "df.loc[df.IndSeiz==1,'Seiz'].value_counts()"
   ]
  },
  {
   "cell_type": "code",
   "execution_count": 35,
   "metadata": {},
   "outputs": [],
   "source": [
    "df.loc[(df.Seiz==0)&(df.IndSeiz==1),'IndSeiz'] = 0"
   ]
  },
  {
   "cell_type": "code",
   "execution_count": 36,
   "metadata": {},
   "outputs": [
    {
     "data": {
      "text/plain": [
       "Vomit\n",
       "1.0    2916\n",
       "0.0      36\n",
       "Name: count, dtype: int64"
      ]
     },
     "execution_count": 36,
     "metadata": {},
     "output_type": "execute_result"
    }
   ],
   "source": [
    "df.loc[df.IndVomit==1,'Vomit'].value_counts()"
   ]
  },
  {
   "cell_type": "code",
   "execution_count": 37,
   "metadata": {},
   "outputs": [],
   "source": [
    "df.loc[(df.Vomit==0)&(df.IndVomit==1),'IndVomit'] = 0"
   ]
  },
  {
   "cell_type": "code",
   "execution_count": 38,
   "metadata": {},
   "outputs": [
    {
     "data": {
      "text/plain": [
       "HA_verb\n",
       "1.0     2650\n",
       "91.0      99\n",
       "0.0       50\n",
       "Name: count, dtype: int64"
      ]
     },
     "execution_count": 38,
     "metadata": {},
     "output_type": "execute_result"
    }
   ],
   "source": [
    "df.loc[df.IndHA==1,'HA_verb'].value_counts()"
   ]
  },
  {
   "cell_type": "code",
   "execution_count": 39,
   "metadata": {},
   "outputs": [],
   "source": [
    "df.loc[(df.HA_verb==0)&(df.IndHA==1),'IndHA'] = 0"
   ]
  },
  {
   "cell_type": "code",
   "execution_count": 40,
   "metadata": {},
   "outputs": [
    {
     "data": {
      "text/plain": [
       "Hema\n",
       "1.0    2593\n",
       "0.0      66\n",
       "Name: count, dtype: int64"
      ]
     },
     "execution_count": 40,
     "metadata": {},
     "output_type": "execute_result"
    }
   ],
   "source": [
    "df.loc[df.IndHema==1,'Hema'].value_counts()"
   ]
  },
  {
   "cell_type": "code",
   "execution_count": 41,
   "metadata": {},
   "outputs": [],
   "source": [
    "df.loc[(df.Hema==0)&(df.IndHema==1),'IndHema'] = 0"
   ]
  },
  {
   "cell_type": "markdown",
   "metadata": {},
   "source": [
    "Since `Finding` variables are all the results found after the CT, but we want the indicator that can decided whether CT is needed. So we cannot include them in our models and we will not clean these variables but to drop these columns before fitting models. Simiarly, since `IndXXX` variables are the indicators for the CT test, and the information is contained in we will not include "
   ]
  },
  {
   "cell_type": "code",
   "execution_count": 42,
   "metadata": {},
   "outputs": [
    {
     "data": {
      "text/html": [
       "<div>\n",
       "<style scoped>\n",
       "    .dataframe tbody tr th:only-of-type {\n",
       "        vertical-align: middle;\n",
       "    }\n",
       "\n",
       "    .dataframe tbody tr th {\n",
       "        vertical-align: top;\n",
       "    }\n",
       "\n",
       "    .dataframe thead th {\n",
       "        text-align: right;\n",
       "    }\n",
       "</style>\n",
       "<table border=\"1\" class=\"dataframe\">\n",
       "  <thead>\n",
       "    <tr style=\"text-align: right;\">\n",
       "      <th></th>\n",
       "      <th>HospHead</th>\n",
       "      <th>PosIntFinal</th>\n",
       "    </tr>\n",
       "  </thead>\n",
       "  <tbody>\n",
       "    <tr>\n",
       "      <th>HospHead</th>\n",
       "      <td>1.000000</td>\n",
       "      <td>0.889579</td>\n",
       "    </tr>\n",
       "    <tr>\n",
       "      <th>PosIntFinal</th>\n",
       "      <td>0.889579</td>\n",
       "      <td>1.000000</td>\n",
       "    </tr>\n",
       "  </tbody>\n",
       "</table>\n",
       "</div>"
      ],
      "text/plain": [
       "             HospHead  PosIntFinal\n",
       "HospHead     1.000000     0.889579\n",
       "PosIntFinal  0.889579     1.000000"
      ]
     },
     "execution_count": 42,
     "metadata": {},
     "output_type": "execute_result"
    }
   ],
   "source": [
    "df[['HospHead','PosIntFinal']].corr()"
   ]
  },
  {
   "cell_type": "markdown",
   "metadata": {},
   "source": [
    "Although `HospHead` and `PosIntFinal` are highly correlated, we do not think it can be used as a interpretor, because the correlation may come from the causality, i.e. the reason why patients has to be hospitalized is that there are some severe symptoms detected after taking CT. Therefore we are going to drop this variable."
   ]
  },
  {
   "cell_type": "code",
   "execution_count": 43,
   "metadata": {},
   "outputs": [],
   "source": [
    "df.drop(['HospHead'], axis=1, inplace=True)"
   ]
  },
  {
   "cell_type": "markdown",
   "metadata": {},
   "source": [
    "## 2: Improperly Formatted Missing Values"
   ]
  },
  {
   "cell_type": "code",
   "execution_count": 44,
   "metadata": {},
   "outputs": [
    {
     "data": {
      "image/png": "[encoded data removed]",
      "text/plain": [
       "<Figure size 640x480 with 1 Axes>"
      ]
     },
     "metadata": {},
     "output_type": "display_data"
    }
   ],
   "source": [
    "num_na = df0.isna().sum(0)\n",
    "plt.bar(list(num_na.index)[:(num_na>0).sum()],sorted(num_na, reverse=True)[:(num_na>0).sum()])\n",
    "plt.xticks([])\n",
    "plt.title('Number of NA values in each variables')\n",
    "plt.xlabel('variable')\n",
    "plt.ylabel('number of NA')\n",
    "plt.savefig(\"../saved/hist_NA.pdf\", format=\"pdf\", bbox_inches=\"tight\")\n",
    "plt.show()"
   ]
  },
  {
   "cell_type": "code",
   "execution_count": 45,
   "metadata": {},
   "outputs": [
    {
     "data": {
      "text/plain": [
       "(42412, 120)"
      ]
     },
     "execution_count": 45,
     "metadata": {},
     "output_type": "execute_result"
    }
   ],
   "source": [
    "df.shape"
   ]
  },
  {
   "cell_type": "code",
   "execution_count": 46,
   "metadata": {},
   "outputs": [
    {
     "data": {
      "text/html": [
       "<div>\n",
       "<style scoped>\n",
       "    .dataframe tbody tr th:only-of-type {\n",
       "        vertical-align: middle;\n",
       "    }\n",
       "\n",
       "    .dataframe tbody tr th {\n",
       "        vertical-align: top;\n",
       "    }\n",
       "\n",
       "    .dataframe thead th {\n",
       "        text-align: right;\n",
       "    }\n",
       "</style>\n",
       "<table border=\"1\" class=\"dataframe\">\n",
       "  <thead>\n",
       "    <tr style=\"text-align: right;\">\n",
       "      <th></th>\n",
       "      <th>Dizzy</th>\n",
       "      <th>PosIntFinal</th>\n",
       "      <th>Ethnicity</th>\n",
       "    </tr>\n",
       "  </thead>\n",
       "  <tbody>\n",
       "    <tr>\n",
       "      <th>Dizzy</th>\n",
       "      <td>1.000000</td>\n",
       "      <td>0.016832</td>\n",
       "      <td>-0.002110</td>\n",
       "    </tr>\n",
       "    <tr>\n",
       "      <th>PosIntFinal</th>\n",
       "      <td>0.016832</td>\n",
       "      <td>1.000000</td>\n",
       "      <td>0.005469</td>\n",
       "    </tr>\n",
       "    <tr>\n",
       "      <th>Ethnicity</th>\n",
       "      <td>-0.002110</td>\n",
       "      <td>0.005469</td>\n",
       "      <td>1.000000</td>\n",
       "    </tr>\n",
       "  </tbody>\n",
       "</table>\n",
       "</div>"
      ],
      "text/plain": [
       "                Dizzy  PosIntFinal  Ethnicity\n",
       "Dizzy        1.000000     0.016832  -0.002110\n",
       "PosIntFinal  0.016832     1.000000   0.005469\n",
       "Ethnicity   -0.002110     0.005469   1.000000"
      ]
     },
     "execution_count": 46,
     "metadata": {},
     "output_type": "execute_result"
    }
   ],
   "source": [
    "df[['Dizzy','PosIntFinal','Ethnicity']].corr()"
   ]
  },
  {
   "cell_type": "markdown",
   "metadata": {},
   "source": [
    "Since There are too many NA values in `Dizzy` and `Ethnicity` comparing to other variables, and we did not observe correlationship between the two variables and the output, we dicided to drop them"
   ]
  },
  {
   "cell_type": "code",
   "execution_count": 47,
   "metadata": {},
   "outputs": [],
   "source": [
    "df.drop(['Dizzy','Ethnicity'], axis=1,inplace=True)"
   ]
  },
  {
   "cell_type": "markdown",
   "metadata": {},
   "source": [
    "Based on two independent assessments, only dizziness and scalp haematoma had insuﬃcient inter-observer agreement. This shows that `EmplType` and `Certification` do not significantly influence the results. Therefore we are going to drop these variables."
   ]
  },
  {
   "cell_type": "code",
   "execution_count": 48,
   "metadata": {},
   "outputs": [],
   "source": [
    "df.drop(['EmplType','Certification'], axis=1,inplace=True)"
   ]
  },
  {
   "cell_type": "code",
   "execution_count": 49,
   "metadata": {},
   "outputs": [
    {
     "data": {
      "text/plain": [
       "SeizLen           74\n",
       "SeizOccur         50\n",
       "SFxPalpDepress    31\n",
       "CTForm1           28\n",
       "EDDisposition     20\n",
       "Gender             3\n",
       "CTDone             0\n",
       "AgeTwoPlus         0\n",
       "AgeinYears         0\n",
       "AgeInMonth         0\n",
       "CTSedOth           0\n",
       "CTSedRqst          0\n",
       "PatNum             0\n",
       "EDCT               0\n",
       "CTSedAgitate       0\n",
       "IndOth             0\n",
       "IndXraySFx         0\n",
       "IndVomit           0\n",
       "IndSeiz            0\n",
       "IndRqstTrauma      0\n",
       "dtype: int64"
      ]
     },
     "execution_count": 49,
     "metadata": {},
     "output_type": "execute_result"
    }
   ],
   "source": [
    "# num_na[num_na>1000].sort_values(key=lambda x:-x)\n",
    "num_na = df.isna().sum(0)\n",
    "num_na[num_na<100].sort_values(key=lambda x:-x)[:20]"
   ]
  },
  {
   "cell_type": "markdown",
   "metadata": {},
   "source": [
    "There are several variables with small amount of NA. Considering that there is no strong reason to keep these NA information, and keeping it will result in more sparse dummy variables, we are going to directly drop the corresponding rows (189 rows in total)."
   ]
  },
  {
   "cell_type": "code",
   "execution_count": 50,
   "metadata": {},
   "outputs": [
    {
     "data": {
      "text/plain": [
       "Index(['Race', 'ActNorm', 'Observed', 'LocLen', 'Drugs', 'LOCSeparate',\n",
       "       'Amnesia_verb', 'HAStart', 'GCSMotor', 'GCSVerbal', 'GCSEye',\n",
       "       'HASeverity', 'VomitLast', 'CTSed', 'Seiz', 'HemaSize', 'SFxBas',\n",
       "       'VomitStart', 'HA_verb', 'NeuroD', 'Sedated', 'Paralyzed', 'AMS',\n",
       "       'High_impact_InjSev', 'Intubated', 'Vomit', 'Hema', 'InjuryMech',\n",
       "       'VomitNbr', 'HemaLoc', 'OSI', 'FontBulg', 'Clav', 'SFxPalp'],\n",
       "      dtype='object')"
      ]
     },
     "execution_count": 50,
     "metadata": {},
     "output_type": "execute_result"
    }
   ],
   "source": [
    "num_na[num_na>100].sort_values(key=lambda x:-x).index"
   ]
  },
  {
   "cell_type": "markdown",
   "metadata": {},
   "source": [
    "Here we check the correlationship whether variables are NA or not. But doing this, we can check if most the NA variables actually exsist in the same group of people and this may bring some insights of the dataset."
   ]
  },
  {
   "cell_type": "code",
   "execution_count": null,
   "metadata": {},
   "outputs": [],
   "source": []
  },
  {
   "cell_type": "code",
   "execution_count": 51,
   "metadata": {},
   "outputs": [
    {
     "data": {
      "image/png": "[encoded data removed]",
      "text/plain": [
       "<Figure size 640x480 with 2 Axes>"
      ]
     },
     "metadata": {},
     "output_type": "display_data"
    }
   ],
   "source": [
    "nan_corr = np.corrcoef(df.isna().values[:,df.isna().values[:,:].sum(axis=0)>0].T)\n",
    "nan_vars = df.columns[df.isna().values[:,:].sum(axis=0)>0]\n",
    "sns.heatmap(nan_corr, cmap='coolwarm', annot=False, fmt=\".2f\", linewidths=0.5)\n",
    "plt.xticks([])\n",
    "plt.yticks([])\n",
    "plt.show()"
   ]
  },
  {
   "cell_type": "code",
   "execution_count": 52,
   "metadata": {},
   "outputs": [],
   "source": [
    "nan_vars_names = df.columns[df.isna().values[:,:].sum(axis=0)>0]\n",
    "\n",
    "upper_tri = np.triu(nan_corr, k=1)\n",
    "high_corr_idx = np.argwhere(np.triu(nan_corr, k=1) > 0.3)\n",
    "high_corr_pairs = pd.DataFrame([(nan_vars_names[i], nan_vars_names[j], float(nan_corr[i, j])) for i, j in high_corr_idx])\n",
    "high_corr_pairs.columns = ['var1','var2','corr']"
   ]
  },
  {
   "cell_type": "code",
   "execution_count": 53,
   "metadata": {},
   "outputs": [
    {
     "data": {
      "text/html": [
       "<div>\n",
       "<style scoped>\n",
       "    .dataframe tbody tr th:only-of-type {\n",
       "        vertical-align: middle;\n",
       "    }\n",
       "\n",
       "    .dataframe tbody tr th {\n",
       "        vertical-align: top;\n",
       "    }\n",
       "\n",
       "    .dataframe thead th {\n",
       "        text-align: right;\n",
       "    }\n",
       "</style>\n",
       "<table border=\"1\" class=\"dataframe\">\n",
       "  <thead>\n",
       "    <tr style=\"text-align: right;\">\n",
       "      <th></th>\n",
       "      <th>var1</th>\n",
       "      <th>var2</th>\n",
       "      <th>corr</th>\n",
       "    </tr>\n",
       "  </thead>\n",
       "  <tbody>\n",
       "    <tr>\n",
       "      <th>9</th>\n",
       "      <td>GCSVerbal</td>\n",
       "      <td>GCSMotor</td>\n",
       "      <td>0.988160</td>\n",
       "    </tr>\n",
       "    <tr>\n",
       "      <th>7</th>\n",
       "      <td>GCSEye</td>\n",
       "      <td>GCSVerbal</td>\n",
       "      <td>0.988108</td>\n",
       "    </tr>\n",
       "    <tr>\n",
       "      <th>6</th>\n",
       "      <td>Paralyzed</td>\n",
       "      <td>Sedated</td>\n",
       "      <td>0.985854</td>\n",
       "    </tr>\n",
       "    <tr>\n",
       "      <th>8</th>\n",
       "      <td>GCSEye</td>\n",
       "      <td>GCSMotor</td>\n",
       "      <td>0.985296</td>\n",
       "    </tr>\n",
       "    <tr>\n",
       "      <th>4</th>\n",
       "      <td>Intubated</td>\n",
       "      <td>Paralyzed</td>\n",
       "      <td>0.984134</td>\n",
       "    </tr>\n",
       "    <tr>\n",
       "      <th>5</th>\n",
       "      <td>Intubated</td>\n",
       "      <td>Sedated</td>\n",
       "      <td>0.982588</td>\n",
       "    </tr>\n",
       "    <tr>\n",
       "      <th>0</th>\n",
       "      <td>InjuryMech</td>\n",
       "      <td>High_impact_InjSev</td>\n",
       "      <td>0.950531</td>\n",
       "    </tr>\n",
       "    <tr>\n",
       "      <th>1</th>\n",
       "      <td>SeizOccur</td>\n",
       "      <td>SeizLen</td>\n",
       "      <td>0.591267</td>\n",
       "    </tr>\n",
       "    <tr>\n",
       "      <th>3</th>\n",
       "      <td>VomitStart</td>\n",
       "      <td>VomitLast</td>\n",
       "      <td>0.533799</td>\n",
       "    </tr>\n",
       "    <tr>\n",
       "      <th>14</th>\n",
       "      <td>Clav</td>\n",
       "      <td>OSI</td>\n",
       "      <td>0.395946</td>\n",
       "    </tr>\n",
       "    <tr>\n",
       "      <th>11</th>\n",
       "      <td>SFxPalp</td>\n",
       "      <td>Clav</td>\n",
       "      <td>0.392610</td>\n",
       "    </tr>\n",
       "    <tr>\n",
       "      <th>13</th>\n",
       "      <td>Hema</td>\n",
       "      <td>Clav</td>\n",
       "      <td>0.337160</td>\n",
       "    </tr>\n",
       "    <tr>\n",
       "      <th>12</th>\n",
       "      <td>SFxPalp</td>\n",
       "      <td>OSI</td>\n",
       "      <td>0.329811</td>\n",
       "    </tr>\n",
       "    <tr>\n",
       "      <th>2</th>\n",
       "      <td>VomitNbr</td>\n",
       "      <td>VomitLast</td>\n",
       "      <td>0.311839</td>\n",
       "    </tr>\n",
       "    <tr>\n",
       "      <th>10</th>\n",
       "      <td>SFxPalp</td>\n",
       "      <td>Hema</td>\n",
       "      <td>0.311839</td>\n",
       "    </tr>\n",
       "  </tbody>\n",
       "</table>\n",
       "</div>"
      ],
      "text/plain": [
       "          var1                var2      corr\n",
       "9    GCSVerbal            GCSMotor  0.988160\n",
       "7       GCSEye           GCSVerbal  0.988108\n",
       "6    Paralyzed             Sedated  0.985854\n",
       "8       GCSEye            GCSMotor  0.985296\n",
       "4    Intubated           Paralyzed  0.984134\n",
       "5    Intubated             Sedated  0.982588\n",
       "0   InjuryMech  High_impact_InjSev  0.950531\n",
       "1    SeizOccur             SeizLen  0.591267\n",
       "3   VomitStart           VomitLast  0.533799\n",
       "14        Clav                 OSI  0.395946\n",
       "11     SFxPalp                Clav  0.392610\n",
       "13        Hema                Clav  0.337160\n",
       "12     SFxPalp                 OSI  0.329811\n",
       "2     VomitNbr           VomitLast  0.311839\n",
       "10     SFxPalp                Hema  0.311839"
      ]
     },
     "execution_count": 53,
     "metadata": {},
     "output_type": "execute_result"
    }
   ],
   "source": [
    "high_corr_pairs.sort_values('corr',ascending=False)"
   ]
  },
  {
   "cell_type": "markdown",
   "metadata": {},
   "source": [
    "这几个>0.5的明显偏高，分析原因\n",
    "\n",
    "* Intubated (Is the physician's evaluation being made after the patient was intubated?), Paralyzed(Is the physician's evaluation being made after the patient was pharmacologically paralyzed?), Sedated (Is physician's evaluation being made after the patient was pharmacologically sedated?)\n",
    "* GCSEye (GCS component: eye), GCSVerbal (GCS component: verbal), GCSMotor (GCS component: motor)\n",
    "* High_impact_InjSev (Severity of injury mechanism), InjuryMech (Injury mechanism)\n",
    "<!-- * Seiz (Post-traumatic seizure?), SeizOccur (When did the post-traumatic seizure occur?)\n",
    "* VomitNbr (How many vomiting episodes?), VomitStart (When did the vomiting start?) -->"
   ]
  },
  {
   "cell_type": "code",
   "execution_count": 54,
   "metadata": {},
   "outputs": [],
   "source": [
    "df.drop(['GCSEye', 'GCSVerbal', 'GCSMotor'], axis=1, inplace=True)"
   ]
  },
  {
   "cell_type": "markdown",
   "metadata": {},
   "source": [
    "Because `GCSEye`, `GCSVerbal`, `GCSMotor` are all the components of `GCSTotal` and we decided to delete samples with `GCSTotal` < 14, which means these three variables are mostly full credited. Therefore we decided to delete these three varibles due to the multicolinearity and missing value problems."
   ]
  },
  {
   "cell_type": "code",
   "execution_count": 55,
   "metadata": {},
   "outputs": [
    {
     "data": {
      "text/plain": [
       "Intubated    310\n",
       "Paralyzed    320\n",
       "Sedated      321\n",
       "dtype: int64"
      ]
     },
     "execution_count": 55,
     "metadata": {},
     "output_type": "execute_result"
    }
   ],
   "source": [
    "df.isna().sum(axis=0)[['Intubated','Paralyzed','Sedated']]"
   ]
  },
  {
   "cell_type": "code",
   "execution_count": 56,
   "metadata": {},
   "outputs": [
    {
     "data": {
      "text/plain": [
       "np.float64(2.0)"
      ]
     },
     "execution_count": 56,
     "metadata": {},
     "output_type": "execute_result"
    }
   ],
   "source": [
    "df.loc[df[['Intubated','Paralyzed','Sedated']].isna().any(axis=1),'PosIntFinal'].sum()"
   ]
  },
  {
   "cell_type": "code",
   "execution_count": 57,
   "metadata": {},
   "outputs": [
    {
     "data": {
      "text/plain": [
       "Intubated     4.0\n",
       "Paralyzed     4.0\n",
       "Sedated      32.0\n",
       "dtype: float64"
      ]
     },
     "execution_count": 57,
     "metadata": {},
     "output_type": "execute_result"
    }
   ],
   "source": [
    "df[['Intubated','Paralyzed','Sedated']].sum(axis=0)"
   ]
  },
  {
   "cell_type": "code",
   "execution_count": 58,
   "metadata": {},
   "outputs": [
    {
     "data": {
      "text/plain": [
       "np.float64(2.0)"
      ]
     },
     "execution_count": 58,
     "metadata": {},
     "output_type": "execute_result"
    }
   ],
   "source": [
    "df.loc[(df.Intubated==1)|(df.Paralyzed==1)|(df.Sedated==1),'PosIntFinal'].sum()"
   ]
  },
  {
   "cell_type": "markdown",
   "metadata": {},
   "source": [
    "Since the missing value of this set of varibles (`Intubated`, `Paralyzed`, `Sedated`) are relatively small, and most of them are 0 (most of rows with positive values have been deleted because they have low `GCSTotal`), yet the missing of these variables does not significantly identify the outcome, it is reasonable to assume these variables are not neccesary, and we will delete them."
   ]
  },
  {
   "cell_type": "code",
   "execution_count": 59,
   "metadata": {},
   "outputs": [],
   "source": [
    "df.drop(['Intubated','Paralyzed','Sedated'], axis=1, inplace=True)"
   ]
  },
  {
   "cell_type": "markdown",
   "metadata": {},
   "source": [
    "For the rest of NA values, since the amount is large and do not occur in the same subgroups, and they are all categorical variables, we are going to encode it as a new dummy variable to keep the information and avoid dropping to many samples. Specifically, we will impute NA with string \"NA\" and transform the categorical variables into dummy variables. It should be minded that there are many groups of variables that share the same \"not applicable\" reasons with value of 91 or 92. We should identify and drop these repetive columns. All these work will be done at the end of the data cleaning part."
   ]
  },
  {
   "cell_type": "markdown",
   "metadata": {},
   "source": [
    "---\n",
    "\n",
    "Multi-colinearity\n"
   ]
  },
  {
   "cell_type": "code",
   "execution_count": 60,
   "metadata": {},
   "outputs": [
    {
     "data": {
      "image/png": "[encoded data removed]",
      "text/plain": [
       "<Figure size 640x480 with 2 Axes>"
      ]
     },
     "metadata": {},
     "output_type": "display_data"
    }
   ],
   "source": [
    "sns.heatmap(df.corr().values, xticklabels=nan_vars, yticklabels=nan_vars, \n",
    "            cmap='coolwarm', annot=False, linewidths=0.5)\n",
    "plt.xticks([])\n",
    "plt.yticks([])\n",
    "plt.title('Corr Matrix with 91&92 Values')\n",
    "plt.savefig(\"../saved/corr_with92.pdf\", format=\"pdf\", bbox_inches=\"tight\")\n",
    "\n",
    "plt.show()"
   ]
  },
  {
   "cell_type": "code",
   "execution_count": null,
   "metadata": {},
   "outputs": [],
   "source": []
  },
  {
   "cell_type": "code",
   "execution_count": 61,
   "metadata": {},
   "outputs": [],
   "source": [
    "df1 = df.copy()\n",
    "df1.replace(91, np.nan, inplace=True)\n",
    "df1.replace(92, np.nan, inplace=True)"
   ]
  },
  {
   "cell_type": "code",
   "execution_count": 62,
   "metadata": {},
   "outputs": [
    {
     "data": {
      "image/png": "[encoded data removed]",
      "text/plain": [
       "<Figure size 640x480 with 2 Axes>"
      ]
     },
     "metadata": {},
     "output_type": "display_data"
    }
   ],
   "source": [
    "sns.heatmap(df1.corr().values, xticklabels=nan_vars, yticklabels=nan_vars, \n",
    "            cmap='coolwarm', annot=False, linewidths=0.5)\n",
    "plt.xticks([])\n",
    "plt.yticks([])\n",
    "plt.title('Corr Matrix w/o 91&92 Values')\n",
    "plt.savefig(\"../saved/corr_without92.pdf\", format=\"pdf\", bbox_inches=\"tight\")\n",
    "plt.show()"
   ]
  },
  {
   "cell_type": "markdown",
   "metadata": {},
   "source": [
    "We found that most correlationship between variables are caused by the \"not applicable\", which is 91 or 92. After remarking these values as NA, we can show the real correlationship. It turns out only a few variables are stongly correlated with each other. Here we are going to discuss the reason of these multicolinearity problems."
   ]
  },
  {
   "cell_type": "code",
   "execution_count": 63,
   "metadata": {},
   "outputs": [],
   "source": [
    "var_corr = df1.corr().values\n",
    "upper_tri_var = np.triu(var_corr, k=1)\n",
    "high_var_corr_idx = np.argwhere(np.abs(np.triu(var_corr, k=1) > 0.7))\n",
    "high_var_corr_pairs = pd.DataFrame([(df1.columns[i], df1.columns[j], float(var_corr[i, j])) for i, j in high_var_corr_idx])\n",
    "high_var_corr_pairs.columns = ['var1','var2','corr']"
   ]
  },
  {
   "cell_type": "code",
   "execution_count": 64,
   "metadata": {},
   "outputs": [
    {
     "data": {
      "text/html": [
       "<div>\n",
       "<style scoped>\n",
       "    .dataframe tbody tr th:only-of-type {\n",
       "        vertical-align: middle;\n",
       "    }\n",
       "\n",
       "    .dataframe tbody tr th {\n",
       "        vertical-align: top;\n",
       "    }\n",
       "\n",
       "    .dataframe thead th {\n",
       "        text-align: right;\n",
       "    }\n",
       "</style>\n",
       "<table border=\"1\" class=\"dataframe\">\n",
       "  <thead>\n",
       "    <tr style=\"text-align: right;\">\n",
       "      <th></th>\n",
       "      <th>var1</th>\n",
       "      <th>var2</th>\n",
       "      <th>corr</th>\n",
       "    </tr>\n",
       "  </thead>\n",
       "  <tbody>\n",
       "    <tr>\n",
       "      <th>1</th>\n",
       "      <td>SeizLen</td>\n",
       "      <td>SFxBasHem</td>\n",
       "      <td>1.000000</td>\n",
       "    </tr>\n",
       "    <tr>\n",
       "      <th>3</th>\n",
       "      <td>SFxPalpDepress</td>\n",
       "      <td>SFxBasPer</td>\n",
       "      <td>1.000000</td>\n",
       "    </tr>\n",
       "    <tr>\n",
       "      <th>4</th>\n",
       "      <td>SFxBasPer</td>\n",
       "      <td>NeuroDCranial</td>\n",
       "      <td>1.000000</td>\n",
       "    </tr>\n",
       "    <tr>\n",
       "      <th>6</th>\n",
       "      <td>AgeInMonth</td>\n",
       "      <td>AgeinYears</td>\n",
       "      <td>0.998659</td>\n",
       "    </tr>\n",
       "    <tr>\n",
       "      <th>5</th>\n",
       "      <td>CTForm1</td>\n",
       "      <td>CTDone</td>\n",
       "      <td>0.931383</td>\n",
       "    </tr>\n",
       "    <tr>\n",
       "      <th>0</th>\n",
       "      <td>Seiz</td>\n",
       "      <td>IndSeiz</td>\n",
       "      <td>0.923050</td>\n",
       "    </tr>\n",
       "    <tr>\n",
       "      <th>2</th>\n",
       "      <td>Vomit</td>\n",
       "      <td>IndVomit</td>\n",
       "      <td>0.849123</td>\n",
       "    </tr>\n",
       "  </tbody>\n",
       "</table>\n",
       "</div>"
      ],
      "text/plain": [
       "             var1           var2      corr\n",
       "1         SeizLen      SFxBasHem  1.000000\n",
       "3  SFxPalpDepress      SFxBasPer  1.000000\n",
       "4       SFxBasPer  NeuroDCranial  1.000000\n",
       "6      AgeInMonth     AgeinYears  0.998659\n",
       "5         CTForm1         CTDone  0.931383\n",
       "0            Seiz        IndSeiz  0.923050\n",
       "2           Vomit       IndVomit  0.849123"
      ]
     },
     "execution_count": 64,
     "metadata": {},
     "output_type": "execute_result"
    }
   ],
   "source": [
    "high_var_corr_pairs.sort_values('corr',ascending=False)"
   ]
  },
  {
   "cell_type": "code",
   "execution_count": 65,
   "metadata": {},
   "outputs": [
    {
     "data": {
      "text/plain": [
       "SeizLen          41992\n",
       "SFxBasHem        42125\n",
       "NeuroDCranial    41861\n",
       "dtype: int64"
      ]
     },
     "execution_count": 65,
     "metadata": {},
     "output_type": "execute_result"
    }
   ],
   "source": [
    "df1[['SeizLen','SFxBasHem','NeuroDCranial']].isna().sum()"
   ]
  },
  {
   "cell_type": "markdown",
   "metadata": {},
   "source": [
    "The reason why these variables are highly correlated is that there are too many \"not applicable\" values. We will handle this later."
   ]
  },
  {
   "cell_type": "markdown",
   "metadata": {},
   "source": [
    "Additionally, `AgeInMonth` and `AgeinYears` are the same thing, so we will drop `AgeinYears`"
   ]
  },
  {
   "cell_type": "code",
   "execution_count": 66,
   "metadata": {},
   "outputs": [],
   "source": [
    "df.drop(['AgeinYears'], axis=1, inplace=True)"
   ]
  },
  {
   "cell_type": "code",
   "execution_count": 67,
   "metadata": {},
   "outputs": [
    {
     "data": {
      "image/png": "[encoded data removed]",
      "text/plain": [
       "<Figure size 900x500 with 2 Axes>"
      ]
     },
     "metadata": {},
     "output_type": "display_data"
    }
   ],
   "source": [
    "df_age = df0[['AgeInMonth', 'PosIntFinal']].copy()\n",
    "df_age['age_group'] = (df_age['AgeInMonth'] // 3) * 3\n",
    "age_groups = df_age.groupby('age_group')['PosIntFinal']\n",
    "age_mean = age_groups.mean()\n",
    "age_std = age_groups.std()\n",
    "age_count = age_groups.count()\n",
    "\n",
    "ages = age_mean.index\n",
    "y_mean = age_mean.values\n",
    "y_std = age_std.values\n",
    "y_count = age_count.values\n",
    "\n",
    "ci = 1.96 * y_std / np.sqrt(y_count)\n",
    "y_upper = y_mean + ci\n",
    "y_lower = y_mean - ci\n",
    "\n",
    "spline = UnivariateSpline(ages, y_mean, s=0.003)\n",
    "\n",
    "fig, ax1 = plt.subplots(figsize=(9, 5))\n",
    "ax1.plot(ages, y_mean, '-', label='Mean of outcome (3 months avg)', alpha=0.9)\n",
    "ax1.plot(ages, spline(ages), label='Spline Fit', color='red', alpha=0.6)  \n",
    "\n",
    "ax1.fill_between(ages, y_lower, y_upper, color='blue', alpha=0.1, label=\"95% CI\")\n",
    "\n",
    "ax1.set_xlabel('AgeInMonth')\n",
    "ax1.set_ylabel('Mean of outcome')\n",
    "ax1.legend(loc='upper left')\n",
    "ax1.grid()\n",
    "ax1.set_ylim(0,0.07)\n",
    "ax1.set_yticks([])\n",
    "ax1.vlines(12, -0, 0.055, linestyles='--', colors='red')\n",
    "\n",
    "ax2 = ax1.twinx()\n",
    "ax2.hist(df_age.age_group, bins=70, color='gray', alpha=0.3, edgecolor='black', label='Histgram of AgeInMonth') \n",
    "ax2.set_ylim(0, 10000)\n",
    "ax2.set_ylabel('Count of Age')\n",
    "ax2.set_xticks([0,12,50,100,150,200])\n",
    "ax2.legend()\n",
    "\n",
    "plt.title('Age - Outcome')\n",
    "plt.savefig(\"../saved/age_outcome.pdf\", format=\"pdf\", bbox_inches=\"tight\")\n",
    "plt.show()\n"
   ]
  },
  {
   "cell_type": "markdown",
   "metadata": {},
   "source": [
    "The relationship between age and outcome differs when age is <=12 and >12. The average outcome decreases along with age while age <= 12 and increases vise versa. To analyze and verify this finding, we will add two variables: `I{age<=12}` and `I{age<=12} * age`.\n"
   ]
  },
  {
   "cell_type": "code",
   "execution_count": 68,
   "metadata": {},
   "outputs": [],
   "source": [
    "df['age_indicator'] = (df['AgeInMonth'] <= 12).astype(int)\n",
    "df['age_indicator_inter'] = df['age_indicator'] * df['AgeInMonth']"
   ]
  },
  {
   "cell_type": "code",
   "execution_count": null,
   "metadata": {},
   "outputs": [],
   "source": []
  },
  {
   "cell_type": "code",
   "execution_count": null,
   "metadata": {},
   "outputs": [],
   "source": []
  },
  {
   "cell_type": "code",
   "execution_count": null,
   "metadata": {},
   "outputs": [],
   "source": []
  },
  {
   "cell_type": "code",
   "execution_count": null,
   "metadata": {},
   "outputs": [],
   "source": []
  },
  {
   "cell_type": "markdown",
   "metadata": {},
   "source": [
    "---"
   ]
  },
  {
   "cell_type": "code",
   "execution_count": 69,
   "metadata": {},
   "outputs": [],
   "source": [
    "df.drop([c for c in df.columns if 'Ind' in c], axis=1, inplace=True)\n",
    "df.drop([c for c in df.columns if 'Finding' in c], axis=1, inplace=True)\n",
    "df.drop([c for c in df.columns if 'CT'==c[:2]], axis=1, inplace=True)"
   ]
  },
  {
   "cell_type": "markdown",
   "metadata": {},
   "source": [
    "Since the pharmacological sedation cannot be used as a indicator to decide whether the CT is needed, and it do not influence the outcome. Therefore we are going to drop these variables."
   ]
  },
  {
   "cell_type": "code",
   "execution_count": 70,
   "metadata": {},
   "outputs": [],
   "source": [
    "col_todrop = ['PatNum', 'EDCT', 'PosCT', 'EDDisposition','Observed']\n",
    "df.drop(col_todrop, axis=1, inplace=True)"
   ]
  },
  {
   "cell_type": "code",
   "execution_count": 71,
   "metadata": {},
   "outputs": [
    {
     "data": {
      "text/plain": [
       "(42412, 65)"
      ]
     },
     "execution_count": 71,
     "metadata": {},
     "output_type": "execute_result"
    }
   ],
   "source": [
    "df.shape"
   ]
  },
  {
   "cell_type": "code",
   "execution_count": 72,
   "metadata": {},
   "outputs": [],
   "source": [
    "pd.DataFrame(df.columns).to_csv('../data/x_col.csv')"
   ]
  },
  {
   "cell_type": "code",
   "execution_count": 73,
   "metadata": {},
   "outputs": [],
   "source": [
    "rename_dict = {\n",
    "    \"InjuryMech\": \"InjuryMechanism\",\n",
    "    \"High_impact_InjSev\": \"InjurySeverity\",\n",
    "    \"Amnesia_verb\": \"HasAmnesia\",\n",
    "    \"LOCSeparate\": \"LossOfConsciousness\",\n",
    "    \"LocLen\": \"LOC_Duration\",\n",
    "    \"Seiz\": \"PostTraumaticSeizure\",\n",
    "    \"SeizOccur\": \"SeizureTiming\",\n",
    "    \"SeizLen\": \"SeizureDuration\",\n",
    "    \"ActNorm\": \"ParentalAssessment\",\n",
    "    \"HA_verb\": \"HeadachePresent\",\n",
    "    \"HASeverity\": \"HeadacheSeverity\",\n",
    "    \"HAStart\": \"HeadacheOnset\",\n",
    "    \"Vomit\": \"VomitingPresent\",\n",
    "    \"VomitNbr\": \"VomitingEpisodes\",\n",
    "    \"VomitStart\": \"VomitingOnset\",\n",
    "    \"VomitLast\": \"LastVomitingEpisode\",\n",
    "    \"Dizzy\": \"DizzinessPresent\",\n",
    "    \"GCSTotal\": \"GCS_Total\",\n",
    "    \"AMS\": \"AlteredMentalStatus\",\n",
    "    \"AMSAgitated\": \"AMS_Agitated\",\n",
    "    \"AMSSleep\": \"AMS_Sleepy\",\n",
    "    \"AMSSlow\": \"AMS_SlowResponse\",\n",
    "    \"AMSRepeat\": \"AMS_RepetitiveQuestions\",\n",
    "    \"AMSOth\": \"AMS_Other\",\n",
    "    \"SFxPalp\": \"PalpableSkullFracture\",\n",
    "    \"SFxPalpDepress\": \"DepressedSkullFracture\",\n",
    "    \"FontBulg\": \"FontanelleBulging\",\n",
    "    \"SFxBas\": \"BasilarSkullFracture\",\n",
    "    \"SFxBasHem\": \"BasilarFracture_Hemotympanum\",\n",
    "    \"SFxBasOto\": \"BasilarFracture_CSF_Otorrhea\",\n",
    "    \"SFxBasPer\": \"BasilarFracture_PeriorbitalEcchymosis\",\n",
    "    \"SFxBasRet\": \"BasilarFracture_RetroauricularEcchymosis\",\n",
    "    \"SFxBasRhi\": \"BasilarFracture_CSF_Rhinorrhea\",\n",
    "    \"Hema\": \"ScalpHematoma\",\n",
    "    \"HemaLoc\": \"HematomaLocation\",\n",
    "    \"HemaSize\": \"HematomaSize\",\n",
    "    \"Clav\": \"TraumaAboveClavicle\",\n",
    "    \"ClavFace\": \"TraumaFace\",\n",
    "    \"ClavNeck\": \"TraumaNeck\",\n",
    "    \"ClavFro\": \"TraumaScalpFrontal\",\n",
    "    \"ClavOcc\": \"TraumaScalpOccipital\",\n",
    "    \"ClavPar\": \"TraumaScalpParietal\",\n",
    "    \"ClavTem\": \"TraumaScalpTemporal\",\n",
    "    \"NeuroD\": \"NeurologicalDeficit\",\n",
    "    \"NeuroDMotor\": \"NeuroDeficit_Motor\",\n",
    "    \"NeuroDSensory\": \"NeuroDeficit_Sensory\",\n",
    "    \"NeuroDCranial\": \"NeuroDeficit_CranialNerve\",\n",
    "    \"NeuroDReflex\": \"NeuroDeficit_Reflexes\",\n",
    "    \"NeuroDOth\": \"NeuroDeficit_Other\",\n",
    "    \"OSI\": \"OtherSubstantialInjury\",\n",
    "    \"OSIExtremity\": \"SubstantialInjury_Extremity\",\n",
    "    \"OSICut\": \"SubstantialInjury_Laceration\",\n",
    "    \"OSICspine\": \"SubstantialInjury_CSpine\",\n",
    "    \"OSIFlank\": \"SubstantialInjury_ChestBackFlank\",\n",
    "    \"OSIAbdomen\": \"SubstantialInjury_Abdomen\",\n",
    "    \"OSIPelvis\": \"SubstantialInjury_Pelvis\",\n",
    "    \"OSIOth\": \"SubstantialInjury_Other\",\n",
    "    \"Drugs\": \"SuspectedIntoxication\",\n",
    "    \"AgeInMonth\": \"AgeInMonth\",\n",
    "    \"AgeTwoPlus\": \"AgeTwoPlus\",\n",
    "    \"Gender\": \"Gender\",\n",
    "    \"Ethnicity\": \"Ethnicity\",\n",
    "    \"Race\": \"Race\",\n",
    "    \"Neurosurgery\": \"NeurosurgeryRequired\",\n",
    "    \"PosIntFinal\": \"PosIntFinal\",\n",
    "    \"age_indicator\": \"AgeOneLess\",\n",
    "    \"age_indicator_inter\": \"AgeOneLess_Inter\"\n",
    "}\n",
    "\n",
    "df.rename(columns=rename_dict, inplace=True)"
   ]
  },
  {
   "cell_type": "code",
   "execution_count": 74,
   "metadata": {},
   "outputs": [],
   "source": [
    "numeric_vars = ['AgeInMonth','age_indicator_inter']\n",
    "y_var = 'PosIntFinal'\n",
    "cate_vars = [i for i in df.columns if i not in numeric_vars and i!=y_var]"
   ]
  },
  {
   "cell_type": "code",
   "execution_count": 75,
   "metadata": {},
   "outputs": [],
   "source": [
    "df_dummies = pd.get_dummies(df, columns=cate_vars, dummy_na=True, drop_first=True)\n",
    "\n",
    "# transform the dtype from bool to int\n",
    "df_dummies.loc[:,df_dummies.dtypes == np.bool] = df_dummies.loc[:,df_dummies.dtypes == np.bool].astype(int)"
   ]
  },
  {
   "cell_type": "markdown",
   "metadata": {},
   "source": [
    "Drop the nan dummy variables with all values equaling False"
   ]
  },
  {
   "cell_type": "code",
   "execution_count": 76,
   "metadata": {},
   "outputs": [],
   "source": [
    "nan_cols = np.array([c for c in df_dummies.columns if '_nan' in c])\n",
    "df_dummies.drop(nan_cols[df_dummies[nan_cols].sum(0) == 0], axis=1, inplace=True)"
   ]
  },
  {
   "cell_type": "code",
   "execution_count": 77,
   "metadata": {},
   "outputs": [
    {
     "data": {
      "image/png": "[encoded data removed]",
      "text/plain": [
       "<Figure size 640x480 with 2 Axes>"
      ]
     },
     "metadata": {},
     "output_type": "display_data"
    }
   ],
   "source": [
    "nan_cols = np.array([c for c in df_dummies.columns if '_nan' in c])\n",
    "sns.heatmap(df_dummies[nan_cols].corr(), cmap='coolwarm', annot=False, fmt=\".2f\", linewidths=0.5)\n",
    "plt.xticks([])\n",
    "plt.yticks([])\n",
    "plt.show()\n"
   ]
  },
  {
   "cell_type": "code",
   "execution_count": 78,
   "metadata": {},
   "outputs": [],
   "source": [
    "df_dummies.drop(['InjurySeverity_nan'], axis=1, inplace=True)"
   ]
  },
  {
   "cell_type": "markdown",
   "metadata": {},
   "source": [
    "Drop the similar 91/92 columns"
   ]
  },
  {
   "cell_type": "code",
   "execution_count": 79,
   "metadata": {},
   "outputs": [
    {
     "data": {
      "image/png": "[encoded data removed]",
      "text/plain": [
       "<Figure size 640x480 with 2 Axes>"
      ]
     },
     "metadata": {},
     "output_type": "display_data"
    }
   ],
   "source": [
    "notapplicable_cols = np.array([c for c in df_dummies.columns if '91' in c or '92' in c])\n",
    "sns.heatmap(df_dummies[notapplicable_cols].corr(), cmap='coolwarm', annot=False, \n",
    "            linewidths=0.5,yticklabels=list(range(len(notapplicable_cols))))\n",
    "plt.xticks([])\n",
    "plt.yticks(fontsize=5)\n",
    "# plt.figure(dpi=400)\n",
    "# plt.yticks([])\n",
    "plt.show()"
   ]
  },
  {
   "cell_type": "markdown",
   "metadata": {},
   "source": [
    "Obviously, the rules of \"Not applicable\" have similarity for several groups of variables. we are going to drop these columns"
   ]
  },
  {
   "cell_type": "code",
   "execution_count": 80,
   "metadata": {},
   "outputs": [],
   "source": [
    "cols_keep_91 = ['HasAmnesia_91.0', 'LOC_Duration_92.0', 'SeizureTiming_92.0', 'HeadacheSeverity_92.0', 'VomitingEpisodes_92.0', 'AMS_Agitated_92.0', 'DepressedSkullFracture_92.0', 'BasilarFracture_Hemotympanum_92.0', 'HematomaLocation_92.0', 'TraumaFace_92.0', 'NeuroDeficit_Motor_92.0', 'SubstantialInjury_Extremity_92.0']\n",
    "cols_drop_91 = [str(c) for c in notapplicable_cols if c not in cols_keep_91]"
   ]
  },
  {
   "cell_type": "code",
   "execution_count": 81,
   "metadata": {},
   "outputs": [],
   "source": [
    "df_dummies.drop(cols_drop_91, axis=1, inplace=True)"
   ]
  },
  {
   "cell_type": "markdown",
   "metadata": {},
   "source": [
    "Check the correlationship of the rest variables"
   ]
  },
  {
   "cell_type": "code",
   "execution_count": 82,
   "metadata": {},
   "outputs": [],
   "source": [
    "corr_dummy = df_dummies.corr().values\n",
    "corr_idx_dummy = np.argwhere(np.triu(corr_dummy, k=1) > 0.5)\n",
    "high_var_corr_pairs_dummy = pd.DataFrame([(df_dummies.columns[i], df_dummies.columns[j], float(corr_dummy[i, j])) for i, j in corr_idx_dummy])\n",
    "high_var_corr_pairs_dummy.columns = ['var1','var2','corr']"
   ]
  },
  {
   "cell_type": "code",
   "execution_count": 83,
   "metadata": {},
   "outputs": [
    {
     "data": {
      "text/html": [
       "<div>\n",
       "<style scoped>\n",
       "    .dataframe tbody tr th:only-of-type {\n",
       "        vertical-align: middle;\n",
       "    }\n",
       "\n",
       "    .dataframe tbody tr th {\n",
       "        vertical-align: top;\n",
       "    }\n",
       "\n",
       "    .dataframe thead th {\n",
       "        text-align: right;\n",
       "    }\n",
       "</style>\n",
       "<table border=\"1\" class=\"dataframe\">\n",
       "  <thead>\n",
       "    <tr style=\"text-align: right;\">\n",
       "      <th></th>\n",
       "      <th>var1</th>\n",
       "      <th>var2</th>\n",
       "      <th>corr</th>\n",
       "    </tr>\n",
       "  </thead>\n",
       "  <tbody>\n",
       "    <tr>\n",
       "      <th>7</th>\n",
       "      <td>HeadachePresent_1.0</td>\n",
       "      <td>HeadacheOnset_2.0</td>\n",
       "      <td>0.863368</td>\n",
       "    </tr>\n",
       "    <tr>\n",
       "      <th>20</th>\n",
       "      <td>NeurologicalDeficit_1.0</td>\n",
       "      <td>NeuroDeficit_Other_1.0</td>\n",
       "      <td>0.739372</td>\n",
       "    </tr>\n",
       "    <tr>\n",
       "      <th>16</th>\n",
       "      <td>BasilarSkullFracture_1.0</td>\n",
       "      <td>BasilarFracture_Hemotympanum_1.0</td>\n",
       "      <td>0.721771</td>\n",
       "    </tr>\n",
       "    <tr>\n",
       "      <th>21</th>\n",
       "      <td>OtherSubstantialInjury_1.0</td>\n",
       "      <td>SubstantialInjury_Extremity_1.0</td>\n",
       "      <td>0.719706</td>\n",
       "    </tr>\n",
       "    <tr>\n",
       "      <th>10</th>\n",
       "      <td>VomitingPresent_1.0</td>\n",
       "      <td>VomitingOnset_2.0</td>\n",
       "      <td>0.704381</td>\n",
       "    </tr>\n",
       "    <tr>\n",
       "      <th>15</th>\n",
       "      <td>PalpableSkullFracture_1.0</td>\n",
       "      <td>DepressedSkullFracture_1.0</td>\n",
       "      <td>0.693041</td>\n",
       "    </tr>\n",
       "    <tr>\n",
       "      <th>14</th>\n",
       "      <td>AlteredMentalStatus_1.0</td>\n",
       "      <td>AMS_Sleepy_1.0</td>\n",
       "      <td>0.692594</td>\n",
       "    </tr>\n",
       "    <tr>\n",
       "      <th>18</th>\n",
       "      <td>ScalpHematoma_1.0</td>\n",
       "      <td>HematomaSize_2.0</td>\n",
       "      <td>0.663123</td>\n",
       "    </tr>\n",
       "    <tr>\n",
       "      <th>1</th>\n",
       "      <td>AgeInMonth</td>\n",
       "      <td>AgeTwoPlus_1.0</td>\n",
       "      <td>0.635681</td>\n",
       "    </tr>\n",
       "    <tr>\n",
       "      <th>6</th>\n",
       "      <td>HeadachePresent_1.0</td>\n",
       "      <td>HeadacheSeverity_2.0</td>\n",
       "      <td>0.600949</td>\n",
       "    </tr>\n",
       "    <tr>\n",
       "      <th>5</th>\n",
       "      <td>SeizureTiming_nan</td>\n",
       "      <td>SeizureDuration_nan</td>\n",
       "      <td>0.591267</td>\n",
       "    </tr>\n",
       "    <tr>\n",
       "      <th>9</th>\n",
       "      <td>VomitingPresent_1.0</td>\n",
       "      <td>VomitingEpisodes_3.0</td>\n",
       "      <td>0.588965</td>\n",
       "    </tr>\n",
       "    <tr>\n",
       "      <th>3</th>\n",
       "      <td>PostTraumaticSeizure_1.0</td>\n",
       "      <td>SeizureTiming_2.0</td>\n",
       "      <td>0.582643</td>\n",
       "    </tr>\n",
       "    <tr>\n",
       "      <th>19</th>\n",
       "      <td>HematomaLocation_2.0</td>\n",
       "      <td>TraumaScalpOccipital_1.0</td>\n",
       "      <td>0.580863</td>\n",
       "    </tr>\n",
       "    <tr>\n",
       "      <th>8</th>\n",
       "      <td>HeadacheSeverity_2.0</td>\n",
       "      <td>HeadacheOnset_2.0</td>\n",
       "      <td>0.568752</td>\n",
       "    </tr>\n",
       "    <tr>\n",
       "      <th>4</th>\n",
       "      <td>PostTraumaticSeizure_1.0</td>\n",
       "      <td>SeizureDuration_2.0</td>\n",
       "      <td>0.546953</td>\n",
       "    </tr>\n",
       "    <tr>\n",
       "      <th>13</th>\n",
       "      <td>VomitingOnset_nan</td>\n",
       "      <td>LastVomitingEpisode_nan</td>\n",
       "      <td>0.533799</td>\n",
       "    </tr>\n",
       "    <tr>\n",
       "      <th>12</th>\n",
       "      <td>VomitingPresent_1.0</td>\n",
       "      <td>LastVomitingEpisode_2.0</td>\n",
       "      <td>0.525442</td>\n",
       "    </tr>\n",
       "    <tr>\n",
       "      <th>0</th>\n",
       "      <td>AgeInMonth</td>\n",
       "      <td>HeadachePresent_1.0</td>\n",
       "      <td>0.524996</td>\n",
       "    </tr>\n",
       "    <tr>\n",
       "      <th>2</th>\n",
       "      <td>HasAmnesia_91.0</td>\n",
       "      <td>AgeOneLess_1.0</td>\n",
       "      <td>0.523435</td>\n",
       "    </tr>\n",
       "    <tr>\n",
       "      <th>17</th>\n",
       "      <td>BasilarSkullFracture_1.0</td>\n",
       "      <td>BasilarFracture_PeriorbitalEcchymosis_1.0</td>\n",
       "      <td>0.523363</td>\n",
       "    </tr>\n",
       "    <tr>\n",
       "      <th>11</th>\n",
       "      <td>VomitingPresent_1.0</td>\n",
       "      <td>VomitingOnset_3.0</td>\n",
       "      <td>0.502412</td>\n",
       "    </tr>\n",
       "  </tbody>\n",
       "</table>\n",
       "</div>"
      ],
      "text/plain": [
       "                          var1                                       var2  \\\n",
       "7          HeadachePresent_1.0                          HeadacheOnset_2.0   \n",
       "20     NeurologicalDeficit_1.0                     NeuroDeficit_Other_1.0   \n",
       "16    BasilarSkullFracture_1.0           BasilarFracture_Hemotympanum_1.0   \n",
       "21  OtherSubstantialInjury_1.0            SubstantialInjury_Extremity_1.0   \n",
       "10         VomitingPresent_1.0                          VomitingOnset_2.0   \n",
       "15   PalpableSkullFracture_1.0                 DepressedSkullFracture_1.0   \n",
       "14     AlteredMentalStatus_1.0                             AMS_Sleepy_1.0   \n",
       "18           ScalpHematoma_1.0                           HematomaSize_2.0   \n",
       "1                   AgeInMonth                             AgeTwoPlus_1.0   \n",
       "6          HeadachePresent_1.0                       HeadacheSeverity_2.0   \n",
       "5            SeizureTiming_nan                        SeizureDuration_nan   \n",
       "9          VomitingPresent_1.0                       VomitingEpisodes_3.0   \n",
       "3     PostTraumaticSeizure_1.0                          SeizureTiming_2.0   \n",
       "19        HematomaLocation_2.0                   TraumaScalpOccipital_1.0   \n",
       "8         HeadacheSeverity_2.0                          HeadacheOnset_2.0   \n",
       "4     PostTraumaticSeizure_1.0                        SeizureDuration_2.0   \n",
       "13           VomitingOnset_nan                    LastVomitingEpisode_nan   \n",
       "12         VomitingPresent_1.0                    LastVomitingEpisode_2.0   \n",
       "0                   AgeInMonth                        HeadachePresent_1.0   \n",
       "2              HasAmnesia_91.0                             AgeOneLess_1.0   \n",
       "17    BasilarSkullFracture_1.0  BasilarFracture_PeriorbitalEcchymosis_1.0   \n",
       "11         VomitingPresent_1.0                          VomitingOnset_3.0   \n",
       "\n",
       "        corr  \n",
       "7   0.863368  \n",
       "20  0.739372  \n",
       "16  0.721771  \n",
       "21  0.719706  \n",
       "10  0.704381  \n",
       "15  0.693041  \n",
       "14  0.692594  \n",
       "18  0.663123  \n",
       "1   0.635681  \n",
       "6   0.600949  \n",
       "5   0.591267  \n",
       "9   0.588965  \n",
       "3   0.582643  \n",
       "19  0.580863  \n",
       "8   0.568752  \n",
       "4   0.546953  \n",
       "13  0.533799  \n",
       "12  0.525442  \n",
       "0   0.524996  \n",
       "2   0.523435  \n",
       "17  0.523363  \n",
       "11  0.502412  "
      ]
     },
     "execution_count": 83,
     "metadata": {},
     "output_type": "execute_result"
    }
   ],
   "source": [
    "high_var_corr_pairs_dummy.sort_values('corr', ascending=False)"
   ]
  },
  {
   "cell_type": "code",
   "execution_count": 84,
   "metadata": {},
   "outputs": [],
   "source": [
    "from statsmodels.stats.outliers_influence import variance_inflation_factor"
   ]
  },
  {
   "cell_type": "code",
   "execution_count": 75,
   "metadata": {},
   "outputs": [],
   "source": [
    "vif_data = pd.DataFrame()\n",
    "vif_data[\"Feature\"] = df_dummies.columns\n",
    "vif_data[\"VIF\"] = [variance_inflation_factor(df_dummies.values, i) for i in range(df_dummies.shape[1])]"
   ]
  },
  {
   "cell_type": "code",
   "execution_count": 76,
   "metadata": {},
   "outputs": [
    {
     "data": {
      "text/html": [
       "<div>\n",
       "<style scoped>\n",
       "    .dataframe tbody tr th:only-of-type {\n",
       "        vertical-align: middle;\n",
       "    }\n",
       "\n",
       "    .dataframe tbody tr th {\n",
       "        vertical-align: top;\n",
       "    }\n",
       "\n",
       "    .dataframe thead th {\n",
       "        text-align: right;\n",
       "    }\n",
       "</style>\n",
       "<table border=\"1\" class=\"dataframe\">\n",
       "  <thead>\n",
       "    <tr style=\"text-align: right;\">\n",
       "      <th></th>\n",
       "      <th>Feature</th>\n",
       "      <th>VIF</th>\n",
       "    </tr>\n",
       "  </thead>\n",
       "  <tbody>\n",
       "    <tr>\n",
       "      <th>109</th>\n",
       "      <td>NeuroDeficit_Motor_92.0</td>\n",
       "      <td>inf</td>\n",
       "    </tr>\n",
       "    <tr>\n",
       "      <th>97</th>\n",
       "      <td>TraumaAboveClavicle_1.0</td>\n",
       "      <td>inf</td>\n",
       "    </tr>\n",
       "    <tr>\n",
       "      <th>100</th>\n",
       "      <td>TraumaFace_92.0</td>\n",
       "      <td>inf</td>\n",
       "    </tr>\n",
       "    <tr>\n",
       "      <th>106</th>\n",
       "      <td>NeurologicalDeficit_1.0</td>\n",
       "      <td>inf</td>\n",
       "    </tr>\n",
       "    <tr>\n",
       "      <th>92</th>\n",
       "      <td>HematomaLocation_92.0</td>\n",
       "      <td>inf</td>\n",
       "    </tr>\n",
       "    <tr>\n",
       "      <th>28</th>\n",
       "      <td>PostTraumaticSeizure_1.0</td>\n",
       "      <td>inf</td>\n",
       "    </tr>\n",
       "    <tr>\n",
       "      <th>88</th>\n",
       "      <td>ScalpHematoma_1.0</td>\n",
       "      <td>inf</td>\n",
       "    </tr>\n",
       "    <tr>\n",
       "      <th>26</th>\n",
       "      <td>LOC_Duration_92.0</td>\n",
       "      <td>inf</td>\n",
       "    </tr>\n",
       "    <tr>\n",
       "      <th>83</th>\n",
       "      <td>BasilarFracture_Hemotympanum_92.0</td>\n",
       "      <td>inf</td>\n",
       "    </tr>\n",
       "    <tr>\n",
       "      <th>114</th>\n",
       "      <td>OtherSubstantialInjury_1.0</td>\n",
       "      <td>inf</td>\n",
       "    </tr>\n",
       "    <tr>\n",
       "      <th>80</th>\n",
       "      <td>BasilarSkullFracture_1.0</td>\n",
       "      <td>inf</td>\n",
       "    </tr>\n",
       "    <tr>\n",
       "      <th>21</th>\n",
       "      <td>LossOfConsciousness_2.0</td>\n",
       "      <td>inf</td>\n",
       "    </tr>\n",
       "    <tr>\n",
       "      <th>20</th>\n",
       "      <td>LossOfConsciousness_1.0</td>\n",
       "      <td>inf</td>\n",
       "    </tr>\n",
       "    <tr>\n",
       "      <th>117</th>\n",
       "      <td>SubstantialInjury_Extremity_92.0</td>\n",
       "      <td>inf</td>\n",
       "    </tr>\n",
       "    <tr>\n",
       "      <th>76</th>\n",
       "      <td>DepressedSkullFracture_92.0</td>\n",
       "      <td>inf</td>\n",
       "    </tr>\n",
       "    <tr>\n",
       "      <th>32</th>\n",
       "      <td>SeizureTiming_92.0</td>\n",
       "      <td>inf</td>\n",
       "    </tr>\n",
       "    <tr>\n",
       "      <th>72</th>\n",
       "      <td>PalpableSkullFracture_1.0</td>\n",
       "      <td>inf</td>\n",
       "    </tr>\n",
       "    <tr>\n",
       "      <th>50</th>\n",
       "      <td>VomitingPresent_1.0</td>\n",
       "      <td>inf</td>\n",
       "    </tr>\n",
       "    <tr>\n",
       "      <th>64</th>\n",
       "      <td>AlteredMentalStatus_1.0</td>\n",
       "      <td>inf</td>\n",
       "    </tr>\n",
       "    <tr>\n",
       "      <th>54</th>\n",
       "      <td>VomitingEpisodes_92.0</td>\n",
       "      <td>inf</td>\n",
       "    </tr>\n",
       "    <tr>\n",
       "      <th>67</th>\n",
       "      <td>AMS_Agitated_92.0</td>\n",
       "      <td>inf</td>\n",
       "    </tr>\n",
       "    <tr>\n",
       "      <th>15</th>\n",
       "      <td>InjurySeverity_2.0</td>\n",
       "      <td>319.268446</td>\n",
       "    </tr>\n",
       "    <tr>\n",
       "      <th>16</th>\n",
       "      <td>InjurySeverity_3.0</td>\n",
       "      <td>182.722611</td>\n",
       "    </tr>\n",
       "    <tr>\n",
       "      <th>6</th>\n",
       "      <td>InjuryMechanism_6.0</td>\n",
       "      <td>145.054301</td>\n",
       "    </tr>\n",
       "    <tr>\n",
       "      <th>44</th>\n",
       "      <td>HeadacheSeverity_92.0</td>\n",
       "      <td>126.370028</td>\n",
       "    </tr>\n",
       "    <tr>\n",
       "      <th>46</th>\n",
       "      <td>HeadacheOnset_2.0</td>\n",
       "      <td>91.041725</td>\n",
       "    </tr>\n",
       "    <tr>\n",
       "      <th>7</th>\n",
       "      <td>InjuryMechanism_7.0</td>\n",
       "      <td>80.787529</td>\n",
       "    </tr>\n",
       "    <tr>\n",
       "      <th>56</th>\n",
       "      <td>VomitingOnset_2.0</td>\n",
       "      <td>44.246683</td>\n",
       "    </tr>\n",
       "    <tr>\n",
       "      <th>40</th>\n",
       "      <td>HeadachePresent_1.0</td>\n",
       "      <td>25.227068</td>\n",
       "    </tr>\n",
       "    <tr>\n",
       "      <th>57</th>\n",
       "      <td>VomitingOnset_3.0</td>\n",
       "      <td>24.610627</td>\n",
       "    </tr>\n",
       "    <tr>\n",
       "      <th>136</th>\n",
       "      <td>AgeOneLess_1.0</td>\n",
       "      <td>17.905756</td>\n",
       "    </tr>\n",
       "    <tr>\n",
       "      <th>49</th>\n",
       "      <td>HeadacheOnset_nan</td>\n",
       "      <td>15.581964</td>\n",
       "    </tr>\n",
       "    <tr>\n",
       "      <th>14</th>\n",
       "      <td>InjuryMechanism_nan</td>\n",
       "      <td>10.783026</td>\n",
       "    </tr>\n",
       "    <tr>\n",
       "      <th>58</th>\n",
       "      <td>VomitingOnset_4.0</td>\n",
       "      <td>10.590322</td>\n",
       "    </tr>\n",
       "    <tr>\n",
       "      <th>47</th>\n",
       "      <td>HeadacheOnset_3.0</td>\n",
       "      <td>8.014011</td>\n",
       "    </tr>\n",
       "    <tr>\n",
       "      <th>59</th>\n",
       "      <td>VomitingOnset_nan</td>\n",
       "      <td>7.086633</td>\n",
       "    </tr>\n",
       "    <tr>\n",
       "      <th>113</th>\n",
       "      <td>NeuroDeficit_Other_1.0</td>\n",
       "      <td>4.946721</td>\n",
       "    </tr>\n",
       "    <tr>\n",
       "      <th>82</th>\n",
       "      <td>BasilarFracture_Hemotympanum_1.0</td>\n",
       "      <td>4.929424</td>\n",
       "    </tr>\n",
       "    <tr>\n",
       "      <th>116</th>\n",
       "      <td>SubstantialInjury_Extremity_1.0</td>\n",
       "      <td>4.116128</td>\n",
       "    </tr>\n",
       "    <tr>\n",
       "      <th>8</th>\n",
       "      <td>InjuryMechanism_8.0</td>\n",
       "      <td>3.944384</td>\n",
       "    </tr>\n",
       "  </tbody>\n",
       "</table>\n",
       "</div>"
      ],
      "text/plain": [
       "                               Feature         VIF\n",
       "109            NeuroDeficit_Motor_92.0         inf\n",
       "97             TraumaAboveClavicle_1.0         inf\n",
       "100                    TraumaFace_92.0         inf\n",
       "106            NeurologicalDeficit_1.0         inf\n",
       "92               HematomaLocation_92.0         inf\n",
       "28            PostTraumaticSeizure_1.0         inf\n",
       "88                   ScalpHematoma_1.0         inf\n",
       "26                   LOC_Duration_92.0         inf\n",
       "83   BasilarFracture_Hemotympanum_92.0         inf\n",
       "114         OtherSubstantialInjury_1.0         inf\n",
       "80            BasilarSkullFracture_1.0         inf\n",
       "21             LossOfConsciousness_2.0         inf\n",
       "20             LossOfConsciousness_1.0         inf\n",
       "117   SubstantialInjury_Extremity_92.0         inf\n",
       "76         DepressedSkullFracture_92.0         inf\n",
       "32                  SeizureTiming_92.0         inf\n",
       "72           PalpableSkullFracture_1.0         inf\n",
       "50                 VomitingPresent_1.0         inf\n",
       "64             AlteredMentalStatus_1.0         inf\n",
       "54               VomitingEpisodes_92.0         inf\n",
       "67                   AMS_Agitated_92.0         inf\n",
       "15                  InjurySeverity_2.0  319.268446\n",
       "16                  InjurySeverity_3.0  182.722611\n",
       "6                  InjuryMechanism_6.0  145.054301\n",
       "44               HeadacheSeverity_92.0  126.370028\n",
       "46                   HeadacheOnset_2.0   91.041725\n",
       "7                  InjuryMechanism_7.0   80.787529\n",
       "56                   VomitingOnset_2.0   44.246683\n",
       "40                 HeadachePresent_1.0   25.227068\n",
       "57                   VomitingOnset_3.0   24.610627\n",
       "136                     AgeOneLess_1.0   17.905756\n",
       "49                   HeadacheOnset_nan   15.581964\n",
       "14                 InjuryMechanism_nan   10.783026\n",
       "58                   VomitingOnset_4.0   10.590322\n",
       "47                   HeadacheOnset_3.0    8.014011\n",
       "59                   VomitingOnset_nan    7.086633\n",
       "113             NeuroDeficit_Other_1.0    4.946721\n",
       "82    BasilarFracture_Hemotympanum_1.0    4.929424\n",
       "116    SubstantialInjury_Extremity_1.0    4.116128\n",
       "8                  InjuryMechanism_8.0    3.944384"
      ]
     },
     "execution_count": 76,
     "metadata": {},
     "output_type": "execute_result"
    }
   ],
   "source": [
    "vif_data.sort_values('VIF', ascending=False).head(40)"
   ]
  },
  {
   "cell_type": "code",
   "execution_count": 77,
   "metadata": {},
   "outputs": [],
   "source": [
    "vars_high_corr = list(vif_data.loc[vif_data.VIF>10, 'Feature'])"
   ]
  },
  {
   "cell_type": "code",
   "execution_count": 78,
   "metadata": {},
   "outputs": [],
   "source": [
    "df_dummies.drop(vars_high_corr, axis=1, inplace=True)"
   ]
  },
  {
   "cell_type": "code",
   "execution_count": 79,
   "metadata": {},
   "outputs": [
    {
     "data": {
      "text/plain": [
       "['InjuryMechanism_6.0',\n",
       " 'InjuryMechanism_7.0',\n",
       " 'InjuryMechanism_nan',\n",
       " 'InjurySeverity_2.0',\n",
       " 'InjurySeverity_3.0',\n",
       " 'LossOfConsciousness_1.0',\n",
       " 'LossOfConsciousness_2.0',\n",
       " 'LOC_Duration_92.0',\n",
       " 'PostTraumaticSeizure_1.0',\n",
       " 'SeizureTiming_92.0',\n",
       " 'HeadachePresent_1.0',\n",
       " 'HeadacheSeverity_92.0',\n",
       " 'HeadacheOnset_2.0',\n",
       " 'HeadacheOnset_nan',\n",
       " 'VomitingPresent_1.0',\n",
       " 'VomitingEpisodes_92.0',\n",
       " 'VomitingOnset_2.0',\n",
       " 'VomitingOnset_3.0',\n",
       " 'VomitingOnset_4.0',\n",
       " 'AlteredMentalStatus_1.0',\n",
       " 'AMS_Agitated_92.0',\n",
       " 'PalpableSkullFracture_1.0',\n",
       " 'DepressedSkullFracture_92.0',\n",
       " 'BasilarSkullFracture_1.0',\n",
       " 'BasilarFracture_Hemotympanum_92.0',\n",
       " 'ScalpHematoma_1.0',\n",
       " 'HematomaLocation_92.0',\n",
       " 'TraumaAboveClavicle_1.0',\n",
       " 'TraumaFace_92.0',\n",
       " 'NeurologicalDeficit_1.0',\n",
       " 'NeuroDeficit_Motor_92.0',\n",
       " 'OtherSubstantialInjury_1.0',\n",
       " 'SubstantialInjury_Extremity_92.0',\n",
       " 'AgeOneLess_1.0']"
      ]
     },
     "execution_count": 79,
     "metadata": {},
     "output_type": "execute_result"
    }
   ],
   "source": [
    "vars_high_corr"
   ]
  },
  {
   "cell_type": "code",
   "execution_count": 466,
   "metadata": {},
   "outputs": [],
   "source": [
    "df_dummies.to_csv('../data/data_cleaned.csv')"
   ]
  },
  {
   "cell_type": "markdown",
   "metadata": {},
   "source": [
    "---"
   ]
  },
  {
   "cell_type": "code",
   "execution_count": 1,
   "metadata": {},
   "outputs": [],
   "source": [
    "from clean import clean_data\n",
    "import pandas as pd\n",
    "import numpy as np\n",
    "import matplotlib.pyplot as plt\n",
    "import seaborn as sns\n",
    "from scipy.interpolate import UnivariateSpline\n",
    "import warnings\n",
    "warnings.filterwarnings(\"ignore\")"
   ]
  },
  {
   "cell_type": "code",
   "execution_count": 2,
   "metadata": {},
   "outputs": [],
   "source": [
    "from sklearn.linear_model import LogisticRegression\n",
    "from sklearn.model_selection import train_test_split\n",
    "from sklearn.preprocessing import StandardScaler\n",
    "from sklearn.metrics import roc_auc_score, confusion_matrix\n",
    "from sklearn.svm import SVC\n"
   ]
  },
  {
   "cell_type": "code",
   "execution_count": 3,
   "metadata": {},
   "outputs": [],
   "source": [
    "df0 = pd.read_csv('../data/TBI PUD 10-08-2013.csv')\n",
    "df = clean_data(df0)"
   ]
  },
  {
   "cell_type": "code",
   "execution_count": 4,
   "metadata": {},
   "outputs": [
    {
     "data": {
      "text/html": [
       "<div>\n",
       "<style scoped>\n",
       "    .dataframe tbody tr th:only-of-type {\n",
       "        vertical-align: middle;\n",
       "    }\n",
       "\n",
       "    .dataframe tbody tr th {\n",
       "        vertical-align: top;\n",
       "    }\n",
       "\n",
       "    .dataframe thead th {\n",
       "        text-align: right;\n",
       "    }\n",
       "</style>\n",
       "<table border=\"1\" class=\"dataframe\">\n",
       "  <thead>\n",
       "    <tr style=\"text-align: right;\">\n",
       "      <th></th>\n",
       "      <th>AgeInMonth</th>\n",
       "      <th>PosIntFinal</th>\n",
       "      <th>AgeOneLess_Inter</th>\n",
       "      <th>InjuryMechanism_2.0</th>\n",
       "      <th>InjuryMechanism_3.0</th>\n",
       "      <th>InjuryMechanism_4.0</th>\n",
       "      <th>InjuryMechanism_5.0</th>\n",
       "      <th>InjuryMechanism_8.0</th>\n",
       "      <th>InjuryMechanism_9.0</th>\n",
       "      <th>InjuryMechanism_10.0</th>\n",
       "      <th>...</th>\n",
       "      <th>AgeTwoPlus_1.0</th>\n",
       "      <th>Gender_1.0</th>\n",
       "      <th>Gender_nan</th>\n",
       "      <th>Race_2.0</th>\n",
       "      <th>Race_3.0</th>\n",
       "      <th>Race_4.0</th>\n",
       "      <th>Race_5.0</th>\n",
       "      <th>Race_90.0</th>\n",
       "      <th>Race_nan</th>\n",
       "      <th>NeurosurgeryRequired_1.0</th>\n",
       "    </tr>\n",
       "  </thead>\n",
       "  <tbody>\n",
       "    <tr>\n",
       "      <th>0</th>\n",
       "      <td>197</td>\n",
       "      <td>0.0</td>\n",
       "      <td>0</td>\n",
       "      <td>0</td>\n",
       "      <td>0</td>\n",
       "      <td>0</td>\n",
       "      <td>0</td>\n",
       "      <td>0</td>\n",
       "      <td>0</td>\n",
       "      <td>0</td>\n",
       "      <td>...</td>\n",
       "      <td>1</td>\n",
       "      <td>0</td>\n",
       "      <td>0</td>\n",
       "      <td>1</td>\n",
       "      <td>0</td>\n",
       "      <td>0</td>\n",
       "      <td>0</td>\n",
       "      <td>0</td>\n",
       "      <td>0</td>\n",
       "      <td>0</td>\n",
       "    </tr>\n",
       "    <tr>\n",
       "      <th>1</th>\n",
       "      <td>64</td>\n",
       "      <td>0.0</td>\n",
       "      <td>0</td>\n",
       "      <td>0</td>\n",
       "      <td>0</td>\n",
       "      <td>0</td>\n",
       "      <td>0</td>\n",
       "      <td>1</td>\n",
       "      <td>0</td>\n",
       "      <td>0</td>\n",
       "      <td>...</td>\n",
       "      <td>1</td>\n",
       "      <td>1</td>\n",
       "      <td>0</td>\n",
       "      <td>0</td>\n",
       "      <td>0</td>\n",
       "      <td>0</td>\n",
       "      <td>0</td>\n",
       "      <td>0</td>\n",
       "      <td>0</td>\n",
       "      <td>0</td>\n",
       "    </tr>\n",
       "    <tr>\n",
       "      <th>3</th>\n",
       "      <td>13</td>\n",
       "      <td>0.0</td>\n",
       "      <td>0</td>\n",
       "      <td>0</td>\n",
       "      <td>0</td>\n",
       "      <td>0</td>\n",
       "      <td>0</td>\n",
       "      <td>0</td>\n",
       "      <td>0</td>\n",
       "      <td>0</td>\n",
       "      <td>...</td>\n",
       "      <td>0</td>\n",
       "      <td>1</td>\n",
       "      <td>0</td>\n",
       "      <td>1</td>\n",
       "      <td>0</td>\n",
       "      <td>0</td>\n",
       "      <td>0</td>\n",
       "      <td>0</td>\n",
       "      <td>0</td>\n",
       "      <td>0</td>\n",
       "    </tr>\n",
       "    <tr>\n",
       "      <th>5</th>\n",
       "      <td>46</td>\n",
       "      <td>0.0</td>\n",
       "      <td>0</td>\n",
       "      <td>0</td>\n",
       "      <td>0</td>\n",
       "      <td>0</td>\n",
       "      <td>0</td>\n",
       "      <td>0</td>\n",
       "      <td>0</td>\n",
       "      <td>0</td>\n",
       "      <td>...</td>\n",
       "      <td>1</td>\n",
       "      <td>0</td>\n",
       "      <td>0</td>\n",
       "      <td>0</td>\n",
       "      <td>0</td>\n",
       "      <td>0</td>\n",
       "      <td>0</td>\n",
       "      <td>0</td>\n",
       "      <td>1</td>\n",
       "      <td>0</td>\n",
       "    </tr>\n",
       "    <tr>\n",
       "      <th>6</th>\n",
       "      <td>51</td>\n",
       "      <td>0.0</td>\n",
       "      <td>0</td>\n",
       "      <td>0</td>\n",
       "      <td>0</td>\n",
       "      <td>0</td>\n",
       "      <td>0</td>\n",
       "      <td>0</td>\n",
       "      <td>0</td>\n",
       "      <td>0</td>\n",
       "      <td>...</td>\n",
       "      <td>1</td>\n",
       "      <td>0</td>\n",
       "      <td>0</td>\n",
       "      <td>1</td>\n",
       "      <td>0</td>\n",
       "      <td>0</td>\n",
       "      <td>0</td>\n",
       "      <td>0</td>\n",
       "      <td>0</td>\n",
       "      <td>0</td>\n",
       "    </tr>\n",
       "  </tbody>\n",
       "</table>\n",
       "<p>5 rows × 105 columns</p>\n",
       "</div>"
      ],
      "text/plain": [
       "   AgeInMonth  PosIntFinal  AgeOneLess_Inter  InjuryMechanism_2.0  \\\n",
       "0         197          0.0                 0                    0   \n",
       "1          64          0.0                 0                    0   \n",
       "3          13          0.0                 0                    0   \n",
       "5          46          0.0                 0                    0   \n",
       "6          51          0.0                 0                    0   \n",
       "\n",
       "   InjuryMechanism_3.0  InjuryMechanism_4.0  InjuryMechanism_5.0  \\\n",
       "0                    0                    0                    0   \n",
       "1                    0                    0                    0   \n",
       "3                    0                    0                    0   \n",
       "5                    0                    0                    0   \n",
       "6                    0                    0                    0   \n",
       "\n",
       "   InjuryMechanism_8.0  InjuryMechanism_9.0  InjuryMechanism_10.0  ...  \\\n",
       "0                    0                    0                     0  ...   \n",
       "1                    1                    0                     0  ...   \n",
       "3                    0                    0                     0  ...   \n",
       "5                    0                    0                     0  ...   \n",
       "6                    0                    0                     0  ...   \n",
       "\n",
       "   AgeTwoPlus_1.0  Gender_1.0  Gender_nan  Race_2.0  Race_3.0  Race_4.0  \\\n",
       "0               1           0           0         1         0         0   \n",
       "1               1           1           0         0         0         0   \n",
       "3               0           1           0         1         0         0   \n",
       "5               1           0           0         0         0         0   \n",
       "6               1           0           0         1         0         0   \n",
       "\n",
       "   Race_5.0  Race_90.0  Race_nan  NeurosurgeryRequired_1.0  \n",
       "0         0          0         0                         0  \n",
       "1         0          0         0                         0  \n",
       "3         0          0         0                         0  \n",
       "5         0          0         1                         0  \n",
       "6         0          0         0                         0  \n",
       "\n",
       "[5 rows x 105 columns]"
      ]
     },
     "execution_count": 4,
     "metadata": {},
     "output_type": "execute_result"
    }
   ],
   "source": [
    "df.head()"
   ]
  },
  {
   "cell_type": "code",
   "execution_count": 5,
   "metadata": {},
   "outputs": [],
   "source": [
    "scaler = StandardScaler()\n",
    "df[['AgeOneLess_Inter','AgeInMonth']] = scaler.fit_transform(df[['AgeOneLess_Inter','AgeInMonth']].values)\n",
    "\n",
    "X_col = [c for c in df.columns if c!='PosIntFinal']\n",
    "y = df['PosIntFinal'].values\n",
    "X = df[X_col].values"
   ]
  },
  {
   "cell_type": "code",
   "execution_count": 6,
   "metadata": {},
   "outputs": [],
   "source": [
    "def exp_logistic(col,seed,C):\n",
    "    np.random.seed(seed)\n",
    "    col = np.array(col)\n",
    "    y = df['PosIntFinal'].values\n",
    "    X = df[col].values\n",
    "    X_train, X_test, y_train, y_test = train_test_split(X, y, test_size=0.2, random_state=seed)\n",
    "    X_train, X_val, y_train, y_val = train_test_split(X_train, y_train, test_size=0.25, random_state=seed)\n",
    "    if C==0:\n",
    "        model = LogisticRegression(class_weight={0:1, 1:100})\n",
    "    else:\n",
    "        model = LogisticRegression(penalty='l1', solver='liblinear', C=C, class_weight={0:1, 1:100}) \n",
    "    model.fit(X_train, y_train)\n",
    "    print(f\"C={C}, AUC on val: {roc_auc_score(y_val,model.predict_proba(X_val)[:,1]): .4f}, AUC on test: {roc_auc_score(y_test,model.predict_proba(X_test)[:,1]): .4f}\")\n",
    "    return model, col[(model.coef_!=0).flatten()].tolist(), pd.DataFrame([col[(model.coef_!=0).flatten()],model.coef_[model.coef_!=0]]).T\n"
   ]
  },
  {
   "cell_type": "code",
   "execution_count": 7,
   "metadata": {},
   "outputs": [],
   "source": [
    "seed = 123\n",
    "X_train, X_test, y_train, y_test = train_test_split(X, y, test_size=0.2, random_state=seed)\n",
    "X_train, X_val, y_train, y_val = train_test_split(X_train, y_train, test_size=0.25, random_state=seed)"
   ]
  },
  {
   "cell_type": "code",
   "execution_count": 8,
   "metadata": {},
   "outputs": [
    {
     "name": "stdout",
     "output_type": "stream",
     "text": [
      "C=1, AUC on val:  0.8996, AUC on test:  0.9412\n",
      "C=0.8, AUC on val:  0.9012, AUC on test:  0.9415\n",
      "C=0.5, AUC on val:  0.9046, AUC on test:  0.9419\n",
      "C=0.3, AUC on val:  0.9085, AUC on test:  0.9422\n",
      "C=0.1, AUC on val:  0.9159, AUC on test:  0.9427\n",
      "C=0.05, AUC on val:  0.9179, AUC on test:  0.9430\n",
      "C=0.03, AUC on val:  0.9184, AUC on test:  0.9433\n",
      "C=0.01, AUC on val:  0.9124, AUC on test:  0.9422\n",
      "C=0.005, AUC on val:  0.9066, AUC on test:  0.9359\n",
      "C=0.003, AUC on val:  0.8945, AUC on test:  0.9240\n",
      "C=0.001, AUC on val:  0.8527, AUC on test:  0.8938\n"
     ]
    }
   ],
   "source": [
    "seed = 12\n",
    "# C = 0.005\n",
    "for C in [1, 0.8, 0.5, 0.3, 0.1, 0.05, 0.03, 0.01, 0.005, 0.003, 0.001]:\n",
    "    exp_logistic(X_col, seed, C)\n",
    "# model_logistics,col1,coe1, = exp_logistic(X_col, seed, C)\n",
    "# model_logistics,col2,coe2 = exp_logistic([c for c in col1 if '_nan' not in c], seed, C)"
   ]
  },
  {
   "cell_type": "code",
   "execution_count": 14,
   "metadata": {},
   "outputs": [
    {
     "name": "stdout",
     "output_type": "stream",
     "text": [
      "C=0.03, AUC on val:  0.9184, AUC on test:  0.9433\n"
     ]
    }
   ],
   "source": [
    "C = 0.03\n",
    "model_logistics,col1,coe1, = exp_logistic(X_col, seed, C)"
   ]
  },
  {
   "cell_type": "code",
   "execution_count": 10,
   "metadata": {},
   "outputs": [],
   "source": [
    "def exp_svm(col,seed,C):\n",
    "    np.random.seed(seed)\n",
    "    col = np.array(col)\n",
    "    y = df['PosIntFinal'].values\n",
    "    X = df[col].values\n",
    "    X_train, X_test, y_train, y_test = train_test_split(X, y, test_size=0.2, random_state=seed)\n",
    "    X_train, X_val, y_train, y_val = train_test_split(X_train, y_train, test_size=0.25, random_state=seed)\n",
    "    model = SVC(kernel='rbf', C=C, gamma='scale', probability=True, class_weight={0:1, 1:100})\n",
    "    model.fit(X_train, y_train)\n",
    "    print(f\"C={C}, AUC on val: {roc_auc_score(y_val,model.predict_proba(X_val)[:,1]): .4f}, AUC on test: {roc_auc_score(y_test,model.predict_proba(X_test)[:,1]): .4f}\")\n",
    "    return model\n"
   ]
  },
  {
   "cell_type": "code",
   "execution_count": 11,
   "metadata": {},
   "outputs": [
    {
     "name": "stdout",
     "output_type": "stream",
     "text": [
      "C=0.1, AUC on val:  0.9048, AUC on test:  0.9287\n",
      "C=1, AUC on val:  0.8651, AUC on test:  0.8900\n",
      "C=3, AUC on val:  0.8563, AUC on test:  0.8774\n",
      "C=5, AUC on val:  0.8564, AUC on test:  0.8701\n",
      "C=10, AUC on val:  0.8565, AUC on test:  0.8650\n",
      "C=20, AUC on val:  0.8562, AUC on test:  0.8596\n",
      "C=30, AUC on val:  0.8565, AUC on test:  0.8582\n",
      "C=50, AUC on val:  0.8568, AUC on test:  0.8587\n"
     ]
    }
   ],
   "source": [
    "seed = 12\n",
    "for C in [0.1,1,3,5,10,20,30,50]:\n",
    "    exp_svm(X_col, seed, C)"
   ]
  },
  {
   "cell_type": "code",
   "execution_count": 7,
   "metadata": {},
   "outputs": [
    {
     "data": {
      "text/html": [
       "<style>#sk-container-id-1 {\n",
       "  /* Definition of color scheme common for light and dark mode */\n",
       "  --sklearn-color-text: #000;\n",
       "  --sklearn-color-text-muted: #666;\n",
       "  --sklearn-color-line: gray;\n",
       "  /* Definition of color scheme for unfitted estimators */\n",
       "  --sklearn-color-unfitted-level-0: #fff5e6;\n",
       "  --sklearn-color-unfitted-level-1: #f6e4d2;\n",
       "  --sklearn-color-unfitted-level-2: #ffe0b3;\n",
       "  --sklearn-color-unfitted-level-3: chocolate;\n",
       "  /* Definition of color scheme for fitted estimators */\n",
       "  --sklearn-color-fitted-level-0: #f0f8ff;\n",
       "  --sklearn-color-fitted-level-1: #d4ebff;\n",
       "  --sklearn-color-fitted-level-2: #b3dbfd;\n",
       "  --sklearn-color-fitted-level-3: cornflowerblue;\n",
       "\n",
       "  /* Specific color for light theme */\n",
       "  --sklearn-color-text-on-default-background: var(--sg-text-color, var(--theme-code-foreground, var(--jp-content-font-color1, black)));\n",
       "  --sklearn-color-background: var(--sg-background-color, var(--theme-background, var(--jp-layout-color0, white)));\n",
       "  --sklearn-color-border-box: var(--sg-text-color, var(--theme-code-foreground, var(--jp-content-font-color1, black)));\n",
       "  --sklearn-color-icon: #696969;\n",
       "\n",
       "  @media (prefers-color-scheme: dark) {\n",
       "    /* Redefinition of color scheme for dark theme */\n",
       "    --sklearn-color-text-on-default-background: var(--sg-text-color, var(--theme-code-foreground, var(--jp-content-font-color1, white)));\n",
       "    --sklearn-color-background: var(--sg-background-color, var(--theme-background, var(--jp-layout-color0, #111)));\n",
       "    --sklearn-color-border-box: var(--sg-text-color, var(--theme-code-foreground, var(--jp-content-font-color1, white)));\n",
       "    --sklearn-color-icon: #878787;\n",
       "  }\n",
       "}\n",
       "\n",
       "#sk-container-id-1 {\n",
       "  color: var(--sklearn-color-text);\n",
       "}\n",
       "\n",
       "#sk-container-id-1 pre {\n",
       "  padding: 0;\n",
       "}\n",
       "\n",
       "#sk-container-id-1 input.sk-hidden--visually {\n",
       "  border: 0;\n",
       "  clip: rect(1px 1px 1px 1px);\n",
       "  clip: rect(1px, 1px, 1px, 1px);\n",
       "  height: 1px;\n",
       "  margin: -1px;\n",
       "  overflow: hidden;\n",
       "  padding: 0;\n",
       "  position: absolute;\n",
       "  width: 1px;\n",
       "}\n",
       "\n",
       "#sk-container-id-1 div.sk-dashed-wrapped {\n",
       "  border: 1px dashed var(--sklearn-color-line);\n",
       "  margin: 0 0.4em 0.5em 0.4em;\n",
       "  box-sizing: border-box;\n",
       "  padding-bottom: 0.4em;\n",
       "  background-color: var(--sklearn-color-background);\n",
       "}\n",
       "\n",
       "#sk-container-id-1 div.sk-container {\n",
       "  /* jupyter's `normalize.less` sets `[hidden] { display: none; }`\n",
       "     but bootstrap.min.css set `[hidden] { display: none !important; }`\n",
       "     so we also need the `!important` here to be able to override the\n",
       "     default hidden behavior on the sphinx rendered scikit-learn.org.\n",
       "     See: https://github.com/scikit-learn/scikit-learn/issues/21755 */\n",
       "  display: inline-block !important;\n",
       "  position: relative;\n",
       "}\n",
       "\n",
       "#sk-container-id-1 div.sk-text-repr-fallback {\n",
       "  display: none;\n",
       "}\n",
       "\n",
       "div.sk-parallel-item,\n",
       "div.sk-serial,\n",
       "div.sk-item {\n",
       "  /* draw centered vertical line to link estimators */\n",
       "  background-image: linear-gradient(var(--sklearn-color-text-on-default-background), var(--sklearn-color-text-on-default-background));\n",
       "  background-size: 2px 100%;\n",
       "  background-repeat: no-repeat;\n",
       "  background-position: center center;\n",
       "}\n",
       "\n",
       "/* Parallel-specific style estimator block */\n",
       "\n",
       "#sk-container-id-1 div.sk-parallel-item::after {\n",
       "  content: \"\";\n",
       "  width: 100%;\n",
       "  border-bottom: 2px solid var(--sklearn-color-text-on-default-background);\n",
       "  flex-grow: 1;\n",
       "}\n",
       "\n",
       "#sk-container-id-1 div.sk-parallel {\n",
       "  display: flex;\n",
       "  align-items: stretch;\n",
       "  justify-content: center;\n",
       "  background-color: var(--sklearn-color-background);\n",
       "  position: relative;\n",
       "}\n",
       "\n",
       "#sk-container-id-1 div.sk-parallel-item {\n",
       "  display: flex;\n",
       "  flex-direction: column;\n",
       "}\n",
       "\n",
       "#sk-container-id-1 div.sk-parallel-item:first-child::after {\n",
       "  align-self: flex-end;\n",
       "  width: 50%;\n",
       "}\n",
       "\n",
       "#sk-container-id-1 div.sk-parallel-item:last-child::after {\n",
       "  align-self: flex-start;\n",
       "  width: 50%;\n",
       "}\n",
       "\n",
       "#sk-container-id-1 div.sk-parallel-item:only-child::after {\n",
       "  width: 0;\n",
       "}\n",
       "\n",
       "/* Serial-specific style estimator block */\n",
       "\n",
       "#sk-container-id-1 div.sk-serial {\n",
       "  display: flex;\n",
       "  flex-direction: column;\n",
       "  align-items: center;\n",
       "  background-color: var(--sklearn-color-background);\n",
       "  padding-right: 1em;\n",
       "  padding-left: 1em;\n",
       "}\n",
       "\n",
       "\n",
       "/* Toggleable style: style used for estimator/Pipeline/ColumnTransformer box that is\n",
       "clickable and can be expanded/collapsed.\n",
       "- Pipeline and ColumnTransformer use this feature and define the default style\n",
       "- Estimators will overwrite some part of the style using the `sk-estimator` class\n",
       "*/\n",
       "\n",
       "/* Pipeline and ColumnTransformer style (default) */\n",
       "\n",
       "#sk-container-id-1 div.sk-toggleable {\n",
       "  /* Default theme specific background. It is overwritten whether we have a\n",
       "  specific estimator or a Pipeline/ColumnTransformer */\n",
       "  background-color: var(--sklearn-color-background);\n",
       "}\n",
       "\n",
       "/* Toggleable label */\n",
       "#sk-container-id-1 label.sk-toggleable__label {\n",
       "  cursor: pointer;\n",
       "  display: flex;\n",
       "  width: 100%;\n",
       "  margin-bottom: 0;\n",
       "  padding: 0.5em;\n",
       "  box-sizing: border-box;\n",
       "  text-align: center;\n",
       "  align-items: start;\n",
       "  justify-content: space-between;\n",
       "  gap: 0.5em;\n",
       "}\n",
       "\n",
       "#sk-container-id-1 label.sk-toggleable__label .caption {\n",
       "  font-size: 0.6rem;\n",
       "  font-weight: lighter;\n",
       "  color: var(--sklearn-color-text-muted);\n",
       "}\n",
       "\n",
       "#sk-container-id-1 label.sk-toggleable__label-arrow:before {\n",
       "  /* Arrow on the left of the label */\n",
       "  content: \"▸\";\n",
       "  float: left;\n",
       "  margin-right: 0.25em;\n",
       "  color: var(--sklearn-color-icon);\n",
       "}\n",
       "\n",
       "#sk-container-id-1 label.sk-toggleable__label-arrow:hover:before {\n",
       "  color: var(--sklearn-color-text);\n",
       "}\n",
       "\n",
       "/* Toggleable content - dropdown */\n",
       "\n",
       "#sk-container-id-1 div.sk-toggleable__content {\n",
       "  max-height: 0;\n",
       "  max-width: 0;\n",
       "  overflow: hidden;\n",
       "  text-align: left;\n",
       "  /* unfitted */\n",
       "  background-color: var(--sklearn-color-unfitted-level-0);\n",
       "}\n",
       "\n",
       "#sk-container-id-1 div.sk-toggleable__content.fitted {\n",
       "  /* fitted */\n",
       "  background-color: var(--sklearn-color-fitted-level-0);\n",
       "}\n",
       "\n",
       "#sk-container-id-1 div.sk-toggleable__content pre {\n",
       "  margin: 0.2em;\n",
       "  border-radius: 0.25em;\n",
       "  color: var(--sklearn-color-text);\n",
       "  /* unfitted */\n",
       "  background-color: var(--sklearn-color-unfitted-level-0);\n",
       "}\n",
       "\n",
       "#sk-container-id-1 div.sk-toggleable__content.fitted pre {\n",
       "  /* unfitted */\n",
       "  background-color: var(--sklearn-color-fitted-level-0);\n",
       "}\n",
       "\n",
       "#sk-container-id-1 input.sk-toggleable__control:checked~div.sk-toggleable__content {\n",
       "  /* Expand drop-down */\n",
       "  max-height: 200px;\n",
       "  max-width: 100%;\n",
       "  overflow: auto;\n",
       "}\n",
       "\n",
       "#sk-container-id-1 input.sk-toggleable__control:checked~label.sk-toggleable__label-arrow:before {\n",
       "  content: \"▾\";\n",
       "}\n",
       "\n",
       "/* Pipeline/ColumnTransformer-specific style */\n",
       "\n",
       "#sk-container-id-1 div.sk-label input.sk-toggleable__control:checked~label.sk-toggleable__label {\n",
       "  color: var(--sklearn-color-text);\n",
       "  background-color: var(--sklearn-color-unfitted-level-2);\n",
       "}\n",
       "\n",
       "#sk-container-id-1 div.sk-label.fitted input.sk-toggleable__control:checked~label.sk-toggleable__label {\n",
       "  background-color: var(--sklearn-color-fitted-level-2);\n",
       "}\n",
       "\n",
       "/* Estimator-specific style */\n",
       "\n",
       "/* Colorize estimator box */\n",
       "#sk-container-id-1 div.sk-estimator input.sk-toggleable__control:checked~label.sk-toggleable__label {\n",
       "  /* unfitted */\n",
       "  background-color: var(--sklearn-color-unfitted-level-2);\n",
       "}\n",
       "\n",
       "#sk-container-id-1 div.sk-estimator.fitted input.sk-toggleable__control:checked~label.sk-toggleable__label {\n",
       "  /* fitted */\n",
       "  background-color: var(--sklearn-color-fitted-level-2);\n",
       "}\n",
       "\n",
       "#sk-container-id-1 div.sk-label label.sk-toggleable__label,\n",
       "#sk-container-id-1 div.sk-label label {\n",
       "  /* The background is the default theme color */\n",
       "  color: var(--sklearn-color-text-on-default-background);\n",
       "}\n",
       "\n",
       "/* On hover, darken the color of the background */\n",
       "#sk-container-id-1 div.sk-label:hover label.sk-toggleable__label {\n",
       "  color: var(--sklearn-color-text);\n",
       "  background-color: var(--sklearn-color-unfitted-level-2);\n",
       "}\n",
       "\n",
       "/* Label box, darken color on hover, fitted */\n",
       "#sk-container-id-1 div.sk-label.fitted:hover label.sk-toggleable__label.fitted {\n",
       "  color: var(--sklearn-color-text);\n",
       "  background-color: var(--sklearn-color-fitted-level-2);\n",
       "}\n",
       "\n",
       "/* Estimator label */\n",
       "\n",
       "#sk-container-id-1 div.sk-label label {\n",
       "  font-family: monospace;\n",
       "  font-weight: bold;\n",
       "  display: inline-block;\n",
       "  line-height: 1.2em;\n",
       "}\n",
       "\n",
       "#sk-container-id-1 div.sk-label-container {\n",
       "  text-align: center;\n",
       "}\n",
       "\n",
       "/* Estimator-specific */\n",
       "#sk-container-id-1 div.sk-estimator {\n",
       "  font-family: monospace;\n",
       "  border: 1px dotted var(--sklearn-color-border-box);\n",
       "  border-radius: 0.25em;\n",
       "  box-sizing: border-box;\n",
       "  margin-bottom: 0.5em;\n",
       "  /* unfitted */\n",
       "  background-color: var(--sklearn-color-unfitted-level-0);\n",
       "}\n",
       "\n",
       "#sk-container-id-1 div.sk-estimator.fitted {\n",
       "  /* fitted */\n",
       "  background-color: var(--sklearn-color-fitted-level-0);\n",
       "}\n",
       "\n",
       "/* on hover */\n",
       "#sk-container-id-1 div.sk-estimator:hover {\n",
       "  /* unfitted */\n",
       "  background-color: var(--sklearn-color-unfitted-level-2);\n",
       "}\n",
       "\n",
       "#sk-container-id-1 div.sk-estimator.fitted:hover {\n",
       "  /* fitted */\n",
       "  background-color: var(--sklearn-color-fitted-level-2);\n",
       "}\n",
       "\n",
       "/* Specification for estimator info (e.g. \"i\" and \"?\") */\n",
       "\n",
       "/* Common style for \"i\" and \"?\" */\n",
       "\n",
       ".sk-estimator-doc-link,\n",
       "a:link.sk-estimator-doc-link,\n",
       "a:visited.sk-estimator-doc-link {\n",
       "  float: right;\n",
       "  font-size: smaller;\n",
       "  line-height: 1em;\n",
       "  font-family: monospace;\n",
       "  background-color: var(--sklearn-color-background);\n",
       "  border-radius: 1em;\n",
       "  height: 1em;\n",
       "  width: 1em;\n",
       "  text-decoration: none !important;\n",
       "  margin-left: 0.5em;\n",
       "  text-align: center;\n",
       "  /* unfitted */\n",
       "  border: var(--sklearn-color-unfitted-level-1) 1pt solid;\n",
       "  color: var(--sklearn-color-unfitted-level-1);\n",
       "}\n",
       "\n",
       ".sk-estimator-doc-link.fitted,\n",
       "a:link.sk-estimator-doc-link.fitted,\n",
       "a:visited.sk-estimator-doc-link.fitted {\n",
       "  /* fitted */\n",
       "  border: var(--sklearn-color-fitted-level-1) 1pt solid;\n",
       "  color: var(--sklearn-color-fitted-level-1);\n",
       "}\n",
       "\n",
       "/* On hover */\n",
       "div.sk-estimator:hover .sk-estimator-doc-link:hover,\n",
       ".sk-estimator-doc-link:hover,\n",
       "div.sk-label-container:hover .sk-estimator-doc-link:hover,\n",
       ".sk-estimator-doc-link:hover {\n",
       "  /* unfitted */\n",
       "  background-color: var(--sklearn-color-unfitted-level-3);\n",
       "  color: var(--sklearn-color-background);\n",
       "  text-decoration: none;\n",
       "}\n",
       "\n",
       "div.sk-estimator.fitted:hover .sk-estimator-doc-link.fitted:hover,\n",
       ".sk-estimator-doc-link.fitted:hover,\n",
       "div.sk-label-container:hover .sk-estimator-doc-link.fitted:hover,\n",
       ".sk-estimator-doc-link.fitted:hover {\n",
       "  /* fitted */\n",
       "  background-color: var(--sklearn-color-fitted-level-3);\n",
       "  color: var(--sklearn-color-background);\n",
       "  text-decoration: none;\n",
       "}\n",
       "\n",
       "/* Span, style for the box shown on hovering the info icon */\n",
       ".sk-estimator-doc-link span {\n",
       "  display: none;\n",
       "  z-index: 9999;\n",
       "  position: relative;\n",
       "  font-weight: normal;\n",
       "  right: .2ex;\n",
       "  padding: .5ex;\n",
       "  margin: .5ex;\n",
       "  width: min-content;\n",
       "  min-width: 20ex;\n",
       "  max-width: 50ex;\n",
       "  color: var(--sklearn-color-text);\n",
       "  box-shadow: 2pt 2pt 4pt #999;\n",
       "  /* unfitted */\n",
       "  background: var(--sklearn-color-unfitted-level-0);\n",
       "  border: .5pt solid var(--sklearn-color-unfitted-level-3);\n",
       "}\n",
       "\n",
       ".sk-estimator-doc-link.fitted span {\n",
       "  /* fitted */\n",
       "  background: var(--sklearn-color-fitted-level-0);\n",
       "  border: var(--sklearn-color-fitted-level-3);\n",
       "}\n",
       "\n",
       ".sk-estimator-doc-link:hover span {\n",
       "  display: block;\n",
       "}\n",
       "\n",
       "/* \"?\"-specific style due to the `<a>` HTML tag */\n",
       "\n",
       "#sk-container-id-1 a.estimator_doc_link {\n",
       "  float: right;\n",
       "  font-size: 1rem;\n",
       "  line-height: 1em;\n",
       "  font-family: monospace;\n",
       "  background-color: var(--sklearn-color-background);\n",
       "  border-radius: 1rem;\n",
       "  height: 1rem;\n",
       "  width: 1rem;\n",
       "  text-decoration: none;\n",
       "  /* unfitted */\n",
       "  color: var(--sklearn-color-unfitted-level-1);\n",
       "  border: var(--sklearn-color-unfitted-level-1) 1pt solid;\n",
       "}\n",
       "\n",
       "#sk-container-id-1 a.estimator_doc_link.fitted {\n",
       "  /* fitted */\n",
       "  border: var(--sklearn-color-fitted-level-1) 1pt solid;\n",
       "  color: var(--sklearn-color-fitted-level-1);\n",
       "}\n",
       "\n",
       "/* On hover */\n",
       "#sk-container-id-1 a.estimator_doc_link:hover {\n",
       "  /* unfitted */\n",
       "  background-color: var(--sklearn-color-unfitted-level-3);\n",
       "  color: var(--sklearn-color-background);\n",
       "  text-decoration: none;\n",
       "}\n",
       "\n",
       "#sk-container-id-1 a.estimator_doc_link.fitted:hover {\n",
       "  /* fitted */\n",
       "  background-color: var(--sklearn-color-fitted-level-3);\n",
       "}\n",
       "</style><div id=\"sk-container-id-1\" class=\"sk-top-container\"><div class=\"sk-text-repr-fallback\"><pre>SVC(C=0.1, class_weight={0: 1, 1: 100}, probability=True)</pre><b>In a Jupyter environment, please rerun this cell to show the HTML representation or trust the notebook. <br />On GitHub, the HTML representation is unable to render, please try loading this page with nbviewer.org.</b></div><div class=\"sk-container\" hidden><div class=\"sk-item\"><div class=\"sk-estimator fitted sk-toggleable\"><input class=\"sk-toggleable__control sk-hidden--visually\" id=\"sk-estimator-id-1\" type=\"checkbox\" checked><label for=\"sk-estimator-id-1\" class=\"sk-toggleable__label fitted sk-toggleable__label-arrow\"><div><div>SVC</div></div><div><a class=\"sk-estimator-doc-link fitted\" rel=\"noreferrer\" target=\"_blank\" href=\"https://scikit-learn.org/1.6/modules/generated/sklearn.svm.SVC.html\">?<span>Documentation for SVC</span></a><span class=\"sk-estimator-doc-link fitted\">i<span>Fitted</span></span></div></label><div class=\"sk-toggleable__content fitted\"><pre>SVC(C=0.1, class_weight={0: 1, 1: 100}, probability=True)</pre></div> </div></div></div></div>"
      ],
      "text/plain": [
       "SVC(C=0.1, class_weight={0: 1, 1: 100}, probability=True)"
      ]
     },
     "execution_count": 7,
     "metadata": {},
     "output_type": "execute_result"
    }
   ],
   "source": [
    "model_svm = SVC(kernel='rbf', C=0.1, gamma='scale', probability=True, class_weight={0:1, 1:100})\n",
    "model_svm.fit(X_train, y_train)"
   ]
  },
  {
   "cell_type": "code",
   "execution_count": 15,
   "metadata": {},
   "outputs": [
    {
     "data": {
      "image/png": "[encoded data removed]",
      "text/plain": [
       "<Figure size 1200x400 with 4 Axes>"
      ]
     },
     "metadata": {},
     "output_type": "display_data"
    }
   ],
   "source": [
    "cm1 = confusion_matrix(y_test, model_logistics.predict(X_test))\n",
    "cm2 = confusion_matrix(y_test, model_svm.predict(X_test))\n",
    "\n",
    "fig, axes = plt.subplots(1, 2, figsize=(12, 4))\n",
    "\n",
    "\n",
    "sns.heatmap(cm1, annot=True, fmt=\"d\", cmap=\"Blues\", xticklabels=[\"Pred 0\", \"Pred 1\"], yticklabels=[\"Actual 0\", \"Actual 1\"], ax=axes[0])\n",
    "axes[0].set_xlabel(\"Predicted Label\")\n",
    "axes[0].set_ylabel(\"True Label\")\n",
    "axes[0].set_title(\"Confusion Matrix - Logistics\")\n",
    "sns.heatmap(cm2, annot=True, fmt=\"d\", cmap=\"Blues\", xticklabels=[\"Pred 0\", \"Pred 1\"], yticklabels=[\"Actual 0\", \"Actual 1\"], ax=axes[1])\n",
    "axes[1].set_xlabel(\"Predicted Label\")\n",
    "axes[1].set_ylabel(\"True Label\")\n",
    "axes[1].set_title(\"Confusion Matrix - SVM\")\n",
    "plt.savefig(\"../saved/cm.pdf\", format=\"pdf\", bbox_inches=\"tight\")\n",
    "plt.show()"
   ]
  },
  {
   "cell_type": "code",
   "execution_count": 16,
   "metadata": {},
   "outputs": [],
   "source": [
    "def exp_logistic_shuffle(seed,C,rate=0.1):\n",
    "    df0 = pd.read_csv('../data/TBI PUD 10-08-2013.csv')\n",
    "    df = clean_data(df0)\n",
    "    np.random.seed(seed)\n",
    "    \n",
    "    y = df['PosIntFinal'].values\n",
    "    X = df.drop('PosIntFinal',axis=1).values\n",
    "    X_train, X_test, y_train, y_test = train_test_split(X, y, test_size=0.2, random_state=seed)\n",
    "\n",
    "    idx = np.random.choice(range(X_train.shape[0]), int(X_train.shape[0]*rate),replace=False)\n",
    "    y_train[idx] = np.random.permutation(y_train[idx])\n",
    "\n",
    "    X_train, X_val, y_train, y_val = train_test_split(X_train, y_train, test_size=0.25, random_state=seed)\n",
    "    if C==0:\n",
    "        model = LogisticRegression(class_weight={0:1, 1:100})\n",
    "    else:\n",
    "        model = LogisticRegression(penalty='l1', solver='liblinear', C=C, class_weight={0:1, 1:100}) \n",
    "    model.fit(X_train, y_train)\n",
    "    print(f\"rate={rate:.1f}, AUC on val: {roc_auc_score(y_val,model.predict_proba(X_val)[:,1]): .4f}, AUC on test: {roc_auc_score(y_test,model.predict_proba(X_test)[:,1]): .4f}\")\n",
    "    # return model\n"
   ]
  },
  {
   "cell_type": "code",
   "execution_count": 17,
   "metadata": {},
   "outputs": [
    {
     "name": "stdout",
     "output_type": "stream",
     "text": [
      "rate=0.0, AUC on val:  0.9131, AUC on test:  0.9176\n",
      "rate=0.1, AUC on val:  0.6642, AUC on test:  0.9176\n",
      "rate=0.2, AUC on val:  0.5090, AUC on test:  0.9176\n",
      "rate=0.3, AUC on val:  0.5074, AUC on test:  0.9182\n",
      "rate=0.4, AUC on val:  0.4816, AUC on test:  0.9086\n",
      "rate=0.5, AUC on val:  0.4649, AUC on test:  0.8846\n",
      "rate=0.6, AUC on val:  0.5286, AUC on test:  0.8623\n",
      "rate=0.7, AUC on val:  0.4277, AUC on test:  0.7983\n",
      "rate=0.8, AUC on val:  0.4785, AUC on test:  0.8016\n",
      "rate=0.9, AUC on val:  0.4833, AUC on test:  0.6609\n",
      "rate=1.0, AUC on val:  0.5083, AUC on test:  0.4831\n"
     ]
    }
   ],
   "source": [
    "for r in np.linspace(0,1,11):\n",
    "    exp_logistic_shuffle(1,0.03,r)"
   ]
  },
  {
   "cell_type": "code",
   "execution_count": 14,
   "metadata": {},
   "outputs": [
    {
     "data": {
      "image/png": "[encoded data removed]",
      "text/plain": [
       "<Figure size 640x480 with 1 Axes>"
      ]
     },
     "metadata": {},
     "output_type": "display_data"
    }
   ],
   "source": [
    "auc_logistics = [0.9176,0.9176,0.9176,0.9182,0.9086,0.8846,0.8623,0.7983,0.8016,0.6609,0.4831]\n",
    "auc_svm = [0.8980, 0.8980, 0.8980, 0.8892, 0.8665, 0.8041, 0.7636, 0.6833, 0.6521, 0.4128, 0.3601]\n",
    "plt.plot(np.linspace(0,1,11), auc_logistics, label='Logistics')\n",
    "plt.plot(np.linspace(0,1,11), auc_svm, label='SVM')\n",
    "plt.legend()\n",
    "plt.xlabel('Shuffle Rate')\n",
    "plt.ylabel('AUC on test set')\n",
    "plt.title(\"AUC with Shuffled Data\")\n",
    "plt.savefig(\"../saved/shuffle.pdf\", format=\"pdf\", bbox_inches=\"tight\")\n",
    "plt.show()"
   ]
  },
  {
   "cell_type": "code",
   "execution_count": 9,
   "metadata": {},
   "outputs": [],
   "source": [
    "def exp_svm_shuffle(seed,C,rate=0.1):\n",
    "    # df0 = pd.read_csv('../data/TBI PUD 10-08-2013.csv')\n",
    "    # df = clean_data(df0)\n",
    "    np.random.seed(seed)\n",
    "    # col = np.array(col)\n",
    "    # y = df['PosIntFinal'].values\n",
    "    # X = df[col].values\n",
    "    X_train, X_test, y_train, y_test = train_test_split(X, y, test_size=0.2, random_state=seed)\n",
    "\n",
    "    idx = np.random.choice(range(X_train.shape[0]), int(X_train.shape[0]*rate),replace=False)\n",
    "    y_train[idx] = np.random.permutation(y_train[idx])\n",
    "\n",
    "    X_train, X_val, y_train, y_val = train_test_split(X_train, y_train, test_size=0.25, random_state=seed)\n",
    "    model = SVC(kernel='rbf', C=C, gamma='scale', probability=True, class_weight={0:1, 1:100})\n",
    "    model.fit(X_train, y_train)\n",
    "    print(f\"rate={rate:.1f}, AUC on val: {roc_auc_score(y_val,model.predict_proba(X_val)[:,1]): .4f}, AUC on test: {roc_auc_score(y_test,model.predict_proba(X_test)[:,1]): .4f}\")\n",
    "    # return model\n"
   ]
  },
  {
   "cell_type": "code",
   "execution_count": 10,
   "metadata": {},
   "outputs": [
    {
     "name": "stdout",
     "output_type": "stream",
     "text": [
      "rate=0.0, AUC on val:  0.9047, AUC on test:  0.8980\n",
      "rate=0.1, AUC on val:  0.6628, AUC on test:  0.8980\n",
      "rate=0.2, AUC on val:  0.5149, AUC on test:  0.8980\n",
      "rate=0.3, AUC on val:  0.5242, AUC on test:  0.8892\n",
      "rate=0.4, AUC on val:  0.4921, AUC on test:  0.8665\n",
      "rate=0.5, AUC on val:  0.5026, AUC on test:  0.8041\n",
      "rate=0.6, AUC on val:  0.5478, AUC on test:  0.7636\n",
      "rate=0.7, AUC on val:  0.4645, AUC on test:  0.6833\n",
      "rate=0.8, AUC on val:  0.4687, AUC on test:  0.6521\n",
      "rate=0.9, AUC on val:  0.5226, AUC on test:  0.4128\n",
      "rate=1.0, AUC on val:  0.5430, AUC on test:  0.3601\n"
     ]
    }
   ],
   "source": [
    "for r in np.linspace(0,1,11):\n",
    "    exp_svm_shuffle(1,0.1,r)"
   ]
  },
  {
   "cell_type": "code",
   "execution_count": 6,
   "metadata": {},
   "outputs": [
    {
     "name": "stdout",
     "output_type": "stream",
     "text": [
      "C=10, AUC on val:  0.8741, AUC on test:  0.8674\n"
     ]
    }
   ],
   "source": [
    "seed = 123\n",
    "rate = 0\n",
    "C = 10\n",
    "np.random.seed(seed)\n",
    "col = np.array(X_col)\n",
    "y = df['PosIntFinal'].values\n",
    "X = df[col].values\n",
    "X_train, X_test, y_train, y_test = train_test_split(X, y, test_size=0.2, random_state=seed)\n",
    "X_train, X_val, y_train, y_val = train_test_split(X_train, y_train, test_size=0.25, random_state=seed)\n",
    "model = SVC(kernel='rbf', C=C, gamma='scale', probability=True, class_weight={0:1, 1:100})\n",
    "model.fit(X_train, y_train)\n",
    "print(f\"C={C}, AUC on val: {roc_auc_score(y_val,model.predict_proba(X_val)[:,1]): .4f}, AUC on test: {roc_auc_score(y_test,model.predict_proba(X_test)[:,1]): .4f}\")"
   ]
  },
  {
   "cell_type": "code",
   "execution_count": 8,
   "metadata": {},
   "outputs": [
    {
     "data": {
      "text/plain": [
       "((25446, 104), (25446,))"
      ]
     },
     "execution_count": 8,
     "metadata": {},
     "output_type": "execute_result"
    }
   ],
   "source": [
    "X_train.shape, y_train.shape"
   ]
  },
  {
   "cell_type": "code",
   "execution_count": null,
   "metadata": {},
   "outputs": [],
   "source": [
    "for r in np.linspace(0,1,11):\n",
    "    exp_svm_shuffle(X_col,123,0.01,r)"
   ]
  },
  {
   "cell_type": "code",
   "execution_count": 52,
   "metadata": {},
   "outputs": [
    {
     "name": "stdout",
     "output_type": "stream",
     "text": [
      "1.0\n"
     ]
    }
   ],
   "source": [
    "df0 = pd.read_csv('../data/TBI PUD 10-08-2013.csv')\n",
    "df = clean_data(df0)\n",
    "seed=123\n",
    "\n",
    "np.random.seed(seed)\n",
    "col = np.array(X_col)\n",
    "rate = 0\n",
    "y = df['PosIntFinal'].values\n",
    "X = df[col].values\n",
    "X_train, X_test, y_train, y_test = train_test_split(X, y, test_size=0.2, random_state=seed)\n",
    "tmp = y_train.copy()\n",
    "idx = np.random.choice(range(X_train.shape[0]), int(X_train.shape[0]*rate),replace=False)\n",
    "y_train[idx] = np.random.permutation(y_train[idx])\n",
    "print((tmp==y_train).mean())\n",
    "X_train, X_val, y_train, y_val = train_test_split(X_train, y_train, test_size=0.25, random_state=seed)\n",
    "model = SVC(kernel='rbf', C=C, gamma='scale', probability=True, class_weight={0:1, 1:100})\n",
    "model.fit(X_train, y_train)\n",
    "print(f\"rate={rate:.1f}, AUC on val: {roc_auc_score(y_val,model.predict_proba(X_val)[:,1]): .4f}, AUC on test: {roc_auc_score(y_test,model.predict_proba(X_test)[:,1]): .4f}\")\n"
   ]
  }
 ],
 "metadata": {
  "kernelspec": {
   "display_name": "stat214",
   "language": "python",
   "name": "python3"
  },
  "language_info": {
   "codemirror_mode": {
    "name": "ipython",
    "version": 3
   },
   "file_extension": ".py",
   "mimetype": "text/x-python",
   "name": "python",
   "nbconvert_exporter": "python",
   "pygments_lexer": "ipython3",
   "version": "3.13.1"
  }
 },
 "nbformat": 4,
 "nbformat_minor": 2
}
