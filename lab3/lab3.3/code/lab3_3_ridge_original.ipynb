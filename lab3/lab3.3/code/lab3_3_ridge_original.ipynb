{
 "cells": [
  {
   "cell_type": "code",
   "execution_count": 1,
   "metadata": {
    "execution": {
     "iopub.execute_input": "2025-05-05T19:11:30.485065Z",
     "iopub.status.busy": "2025-05-05T19:11:30.484888Z",
     "iopub.status.idle": "2025-05-05T19:11:42.748367Z",
     "shell.execute_reply": "2025-05-05T19:11:42.747941Z"
    }
   },
   "outputs": [
    {
     "name": "stderr",
     "output_type": "stream",
     "text": [
      "/jet/home/tkubo/.conda/envs/lab3_214/lib/python3.11/site-packages/tqdm/auto.py:21: TqdmWarning: IProgress not found. Please update jupyter and ipywidgets. See https://ipywidgets.readthedocs.io/en/stable/user_install.html\n",
      "  from .autonotebook import tqdm as notebook_tqdm\n"
     ]
    }
   ],
   "source": [
    "import pickle\n",
    "import numpy as np\n",
    "from sklearn.model_selection import train_test_split\n",
    "import data\n",
    "import embedding\n",
    "import os\n",
    "import pandas as pd\n",
    "import matplotlib.pyplot as plt\n",
    "import seaborn as sns\n",
    "from ridge_utils.ridge import bootstrap_ridge, ridge_corr, ridge_corr_pred, zs"
   ]
  },
  {
   "cell_type": "code",
   "execution_count": 2,
   "metadata": {
    "execution": {
     "iopub.execute_input": "2025-05-05T19:11:42.750850Z",
     "iopub.status.busy": "2025-05-05T19:11:42.750555Z",
     "iopub.status.idle": "2025-05-05T19:11:43.703597Z",
     "shell.execute_reply": "2025-05-05T19:11:43.703172Z"
    }
   },
   "outputs": [],
   "source": [
    "with open(\"../../../shared/data/raw_text.pkl\", \"rb\") as file:\n",
    "    rawdata = pickle.load(file)"
   ]
  },
  {
   "cell_type": "code",
   "execution_count": 3,
   "metadata": {
    "execution": {
     "iopub.execute_input": "2025-05-05T19:11:43.705951Z",
     "iopub.status.busy": "2025-05-05T19:11:43.705749Z",
     "iopub.status.idle": "2025-05-05T19:11:43.708658Z",
     "shell.execute_reply": "2025-05-05T19:11:43.708307Z"
    }
   },
   "outputs": [],
   "source": [
    "del rawdata['dialogue1']\n",
    "del rawdata['dialogue2']\n",
    "del rawdata['dialogue3']\n",
    "del rawdata['dialogue4']\n",
    "del rawdata['dialogue5']\n",
    "del rawdata['dialogue6']\n",
    "del rawdata['myfirstdaywiththeyankees']\n",
    "del rawdata['onlyonewaytofindout']"
   ]
  },
  {
   "cell_type": "code",
   "execution_count": 4,
   "metadata": {
    "execution": {
     "iopub.execute_input": "2025-05-05T19:11:43.710343Z",
     "iopub.status.busy": "2025-05-05T19:11:43.710041Z",
     "iopub.status.idle": "2025-05-05T19:11:43.717211Z",
     "shell.execute_reply": "2025-05-05T19:11:43.716839Z"
    }
   },
   "outputs": [
    {
     "name": "stdout",
     "output_type": "stream",
     "text": [
      "70\n",
      "31\n",
      "49\n",
      "21\n"
     ]
    }
   ],
   "source": [
    "full_stories = list(rawdata.keys())\n",
    "train_stories, test_stories = train_test_split(full_stories, test_size = 0.3, random_state = 1)\n",
    "\n",
    "print(len(train_stories))\n",
    "print(len(test_stories))\n",
    "\n",
    "model_train_stories, model_eval_stories = train_test_split(train_stories, test_size = 0.3, random_state = 1)\n",
    "\n",
    "print(len(model_train_stories))\n",
    "print(len(model_eval_stories))"
   ]
  },
  {
   "cell_type": "code",
   "execution_count": 5,
   "metadata": {
    "execution": {
     "iopub.execute_input": "2025-05-05T19:11:43.718940Z",
     "iopub.status.busy": "2025-05-05T19:11:43.718752Z",
     "iopub.status.idle": "2025-05-05T19:11:44.148749Z",
     "shell.execute_reply": "2025-05-05T19:11:44.148395Z"
    }
   },
   "outputs": [],
   "source": [
    "train_sentences = data.split_based_on_flags(rawdata, model_train_stories, 0.7, 30, 100)\n",
    "eval_sentences = data.split_based_on_flags(rawdata, model_eval_stories, 0.7, 30, 100)"
   ]
  },
  {
   "cell_type": "code",
   "execution_count": 6,
   "metadata": {
    "execution": {
     "iopub.execute_input": "2025-05-05T19:11:44.150705Z",
     "iopub.status.busy": "2025-05-05T19:11:44.150520Z",
     "iopub.status.idle": "2025-05-05T19:12:24.817764Z",
     "shell.execute_reply": "2025-05-05T19:12:24.816612Z"
    }
   },
   "outputs": [
    {
     "name": "stderr",
     "output_type": "stream",
     "text": [
      "/ocean/projects/mth240012p/tkubo/lab3.3/code/embedding.py:121: RuntimeWarning: invalid value encountered in divide\n",
      "  embed = np.where(count[:, np.newaxis] != 0, embed / count[:, np.newaxis], 0)\n"
     ]
    }
   ],
   "source": [
    "train_embeddings_pretrained = embedding.auto_embeddings_pretrained(rawdata, train_stories, delay = [1, 2, 3, 4])\n",
    "test_embeddings_pretrained = embedding.auto_embeddings_pretrained(rawdata, test_stories, delay = [1, 2, 3, 4])"
   ]
  },
  {
   "cell_type": "code",
   "execution_count": 7,
   "metadata": {
    "execution": {
     "iopub.execute_input": "2025-05-05T19:12:24.820820Z",
     "iopub.status.busy": "2025-05-05T19:12:24.820621Z",
     "iopub.status.idle": "2025-05-05T19:12:24.826989Z",
     "shell.execute_reply": "2025-05-05T19:12:24.826552Z"
    }
   },
   "outputs": [
    {
     "data": {
      "text/plain": [
       "(157, 3072)"
      ]
     },
     "execution_count": 7,
     "metadata": {},
     "output_type": "execute_result"
    }
   ],
   "source": [
    "train_embeddings_pretrained[\"sweetaspie\"].shape"
   ]
  },
  {
   "cell_type": "code",
   "execution_count": 8,
   "metadata": {
    "execution": {
     "iopub.execute_input": "2025-05-05T19:12:24.828765Z",
     "iopub.status.busy": "2025-05-05T19:12:24.828455Z",
     "iopub.status.idle": "2025-05-05T19:12:24.836907Z",
     "shell.execute_reply": "2025-05-05T19:12:24.836481Z"
    }
   },
   "outputs": [
    {
     "data": {
      "text/plain": [
       "array([[ 0.        ,  0.        ,  0.        , ...,  0.        ,\n",
       "         0.        ,  0.        ],\n",
       "       [ 0.09192264,  0.05405292,  0.5245644 , ...,  0.        ,\n",
       "         0.        ,  0.        ],\n",
       "       [-2.84244442,  0.67342337,  1.29079143, ...,  0.        ,\n",
       "         0.        ,  0.        ],\n",
       "       ...,\n",
       "       [-0.06091618,  0.85063944,  0.56473993, ..., -3.9323937 ,\n",
       "        -1.02809708, -0.04597635],\n",
       "       [ 0.1660989 ,  0.00973914,  0.17960642, ..., -1.65909537,\n",
       "         0.99025003, -0.45046745],\n",
       "       [ 1.9074395 ,  0.44803807,  0.30594625, ...,  0.34662354,\n",
       "        -0.13527446,  0.10497561]])"
      ]
     },
     "execution_count": 8,
     "metadata": {},
     "output_type": "execute_result"
    }
   ],
   "source": [
    "train_embeddings_pretrained[\"sweetaspie\"]"
   ]
  },
  {
   "cell_type": "code",
   "execution_count": 9,
   "metadata": {
    "execution": {
     "iopub.execute_input": "2025-05-05T19:12:24.838800Z",
     "iopub.status.busy": "2025-05-05T19:12:24.838421Z",
     "iopub.status.idle": "2025-05-05T19:18:07.704062Z",
     "shell.execute_reply": "2025-05-05T19:18:07.703541Z"
    }
   },
   "outputs": [
    {
     "name": "stdout",
     "output_type": "stream",
     "text": [
      "\n",
      "Processing training data:\n"
     ]
    },
    {
     "name": "stdout",
     "output_type": "stream",
     "text": [
      "Loaded subject2 data for 'googlingstrangersandkentuckybluegrass'\n"
     ]
    },
    {
     "name": "stdout",
     "output_type": "stream",
     "text": [
      "Loaded subject3 data for 'googlingstrangersandkentuckybluegrass'\n"
     ]
    },
    {
     "name": "stdout",
     "output_type": "stream",
     "text": [
      "Loaded subject2 data for 'alternateithicatom'\n"
     ]
    },
    {
     "name": "stdout",
     "output_type": "stream",
     "text": [
      "Loaded subject3 data for 'alternateithicatom'\n"
     ]
    },
    {
     "name": "stdout",
     "output_type": "stream",
     "text": [
      "Loaded subject2 data for 'thumbsup'\n"
     ]
    },
    {
     "name": "stdout",
     "output_type": "stream",
     "text": [
      "Loaded subject3 data for 'thumbsup'\n"
     ]
    },
    {
     "name": "stdout",
     "output_type": "stream",
     "text": [
      "Loaded subject2 data for 'igrewupinthewestborobaptistchurch'\n"
     ]
    },
    {
     "name": "stdout",
     "output_type": "stream",
     "text": [
      "Loaded subject3 data for 'igrewupinthewestborobaptistchurch'\n"
     ]
    },
    {
     "name": "stdout",
     "output_type": "stream",
     "text": [
      "Loaded subject2 data for 'penpal'\n"
     ]
    },
    {
     "name": "stdout",
     "output_type": "stream",
     "text": [
      "Loaded subject3 data for 'penpal'\n"
     ]
    },
    {
     "name": "stdout",
     "output_type": "stream",
     "text": [
      "Loaded subject2 data for 'wildwomenanddancingqueens'\n"
     ]
    },
    {
     "name": "stdout",
     "output_type": "stream",
     "text": [
      "Loaded subject3 data for 'wildwomenanddancingqueens'\n"
     ]
    },
    {
     "name": "stdout",
     "output_type": "stream",
     "text": [
      "Loaded subject2 data for 'canplanetearthfeedtenbillionpeoplepart3'\n"
     ]
    },
    {
     "name": "stdout",
     "output_type": "stream",
     "text": [
      "Loaded subject3 data for 'canplanetearthfeedtenbillionpeoplepart3'\n"
     ]
    },
    {
     "name": "stdout",
     "output_type": "stream",
     "text": [
      "Loaded subject2 data for 'souls'\n"
     ]
    },
    {
     "name": "stdout",
     "output_type": "stream",
     "text": [
      "Loaded subject3 data for 'souls'\n"
     ]
    },
    {
     "name": "stdout",
     "output_type": "stream",
     "text": [
      "Loaded subject2 data for 'threemonths'\n"
     ]
    },
    {
     "name": "stdout",
     "output_type": "stream",
     "text": [
      "Loaded subject3 data for 'threemonths'\n"
     ]
    },
    {
     "name": "stdout",
     "output_type": "stream",
     "text": [
      "Loaded subject2 data for 'christmas1940'\n"
     ]
    },
    {
     "name": "stdout",
     "output_type": "stream",
     "text": [
      "Loaded subject3 data for 'christmas1940'\n"
     ]
    },
    {
     "name": "stdout",
     "output_type": "stream",
     "text": [
      "Loaded subject2 data for 'canplanetearthfeedtenbillionpeoplepart1'\n"
     ]
    },
    {
     "name": "stdout",
     "output_type": "stream",
     "text": [
      "Loaded subject3 data for 'canplanetearthfeedtenbillionpeoplepart1'\n"
     ]
    },
    {
     "name": "stdout",
     "output_type": "stream",
     "text": [
      "Loaded subject2 data for 'firetestforlove'\n"
     ]
    },
    {
     "name": "stdout",
     "output_type": "stream",
     "text": [
      "Loaded subject3 data for 'firetestforlove'\n"
     ]
    },
    {
     "name": "stdout",
     "output_type": "stream",
     "text": [
      "Loaded subject2 data for 'eyespy'\n"
     ]
    },
    {
     "name": "stdout",
     "output_type": "stream",
     "text": [
      "Loaded subject3 data for 'eyespy'\n"
     ]
    },
    {
     "name": "stdout",
     "output_type": "stream",
     "text": [
      "Loaded subject2 data for 'naked'\n"
     ]
    },
    {
     "name": "stdout",
     "output_type": "stream",
     "text": [
      "Loaded subject3 data for 'naked'\n"
     ]
    },
    {
     "name": "stdout",
     "output_type": "stream",
     "text": [
      "Loaded subject2 data for 'canadageeseandddp'\n"
     ]
    },
    {
     "name": "stdout",
     "output_type": "stream",
     "text": [
      "Loaded subject3 data for 'canadageeseandddp'\n"
     ]
    },
    {
     "name": "stdout",
     "output_type": "stream",
     "text": [
      "Loaded subject2 data for 'theinterview'\n"
     ]
    },
    {
     "name": "stdout",
     "output_type": "stream",
     "text": [
      "Loaded subject3 data for 'theinterview'\n"
     ]
    },
    {
     "name": "stdout",
     "output_type": "stream",
     "text": [
      "Loaded subject2 data for 'thecurse'\n"
     ]
    },
    {
     "name": "stdout",
     "output_type": "stream",
     "text": [
      "Loaded subject3 data for 'thecurse'\n"
     ]
    },
    {
     "name": "stdout",
     "output_type": "stream",
     "text": [
      "Loaded subject2 data for 'swimmingwithastronauts'\n"
     ]
    },
    {
     "name": "stdout",
     "output_type": "stream",
     "text": [
      "Loaded subject3 data for 'swimmingwithastronauts'\n"
     ]
    },
    {
     "name": "stdout",
     "output_type": "stream",
     "text": [
      "Loaded subject2 data for 'adollshouse'\n"
     ]
    },
    {
     "name": "stdout",
     "output_type": "stream",
     "text": [
      "Loaded subject3 data for 'adollshouse'\n"
     ]
    },
    {
     "name": "stdout",
     "output_type": "stream",
     "text": [
      "Loaded subject2 data for 'afatherscover'\n"
     ]
    },
    {
     "name": "stdout",
     "output_type": "stream",
     "text": [
      "Loaded subject3 data for 'afatherscover'\n"
     ]
    },
    {
     "name": "stdout",
     "output_type": "stream",
     "text": [
      "Loaded subject2 data for 'howtodraw'\n"
     ]
    },
    {
     "name": "stdout",
     "output_type": "stream",
     "text": [
      "Loaded subject3 data for 'howtodraw'\n"
     ]
    },
    {
     "name": "stdout",
     "output_type": "stream",
     "text": [
      "Loaded subject2 data for 'life'\n"
     ]
    },
    {
     "name": "stdout",
     "output_type": "stream",
     "text": [
      "Loaded subject3 data for 'life'\n"
     ]
    },
    {
     "name": "stdout",
     "output_type": "stream",
     "text": [
      "Loaded subject2 data for 'whenmothersbullyback'\n"
     ]
    },
    {
     "name": "stdout",
     "output_type": "stream",
     "text": [
      "Loaded subject3 data for 'whenmothersbullyback'\n"
     ]
    },
    {
     "name": "stdout",
     "output_type": "stream",
     "text": [
      "Loaded subject2 data for 'gpsformylostidentity'\n"
     ]
    },
    {
     "name": "stdout",
     "output_type": "stream",
     "text": [
      "Loaded subject3 data for 'gpsformylostidentity'\n"
     ]
    },
    {
     "name": "stdout",
     "output_type": "stream",
     "text": [
      "Loaded subject2 data for 'bluehope'\n"
     ]
    },
    {
     "name": "stdout",
     "output_type": "stream",
     "text": [
      "Loaded subject3 data for 'bluehope'\n"
     ]
    },
    {
     "name": "stdout",
     "output_type": "stream",
     "text": [
      "Loaded subject2 data for 'lawsthatchokecreativity'\n"
     ]
    },
    {
     "name": "stdout",
     "output_type": "stream",
     "text": [
      "Loaded subject3 data for 'lawsthatchokecreativity'\n"
     ]
    },
    {
     "name": "stdout",
     "output_type": "stream",
     "text": [
      "Loaded subject2 data for 'singlewomanseekingmanwich'\n"
     ]
    },
    {
     "name": "stdout",
     "output_type": "stream",
     "text": [
      "Loaded subject3 data for 'singlewomanseekingmanwich'\n"
     ]
    },
    {
     "name": "stdout",
     "output_type": "stream",
     "text": [
      "Loaded subject2 data for 'buck'\n"
     ]
    },
    {
     "name": "stdout",
     "output_type": "stream",
     "text": [
      "Loaded subject3 data for 'buck'\n"
     ]
    },
    {
     "name": "stdout",
     "output_type": "stream",
     "text": [
      "Loaded subject2 data for 'thesurprisingthingilearnedsailingsoloaroundtheworld'\n"
     ]
    },
    {
     "name": "stdout",
     "output_type": "stream",
     "text": [
      "Loaded subject3 data for 'thesurprisingthingilearnedsailingsoloaroundtheworld'\n"
     ]
    },
    {
     "name": "stdout",
     "output_type": "stream",
     "text": [
      "Loaded subject2 data for 'seedpotatoesofleningrad'\n"
     ]
    },
    {
     "name": "stdout",
     "output_type": "stream",
     "text": [
      "Loaded subject3 data for 'seedpotatoesofleningrad'\n"
     ]
    },
    {
     "name": "stdout",
     "output_type": "stream",
     "text": [
      "Loaded subject2 data for 'thetiniestbouquet'\n"
     ]
    },
    {
     "name": "stdout",
     "output_type": "stream",
     "text": [
      "Loaded subject3 data for 'thetiniestbouquet'\n"
     ]
    },
    {
     "name": "stdout",
     "output_type": "stream",
     "text": [
      "Loaded subject2 data for 'indianapolis'\n"
     ]
    },
    {
     "name": "stdout",
     "output_type": "stream",
     "text": [
      "Loaded subject3 data for 'indianapolis'\n"
     ]
    },
    {
     "name": "stdout",
     "output_type": "stream",
     "text": [
      "Loaded subject2 data for 'mybackseatviewofagreatromance'\n"
     ]
    },
    {
     "name": "stdout",
     "output_type": "stream",
     "text": [
      "Loaded subject3 data for 'mybackseatviewofagreatromance'\n"
     ]
    },
    {
     "name": "stdout",
     "output_type": "stream",
     "text": [
      "Loaded subject2 data for 'gangstersandcookies'\n"
     ]
    },
    {
     "name": "stdout",
     "output_type": "stream",
     "text": [
      "Loaded subject3 data for 'gangstersandcookies'\n"
     ]
    },
    {
     "name": "stdout",
     "output_type": "stream",
     "text": [
      "Loaded subject2 data for 'theshower'\n"
     ]
    },
    {
     "name": "stdout",
     "output_type": "stream",
     "text": [
      "Loaded subject3 data for 'theshower'\n"
     ]
    },
    {
     "name": "stdout",
     "output_type": "stream",
     "text": [
      "Loaded subject2 data for 'becomingindian'\n"
     ]
    },
    {
     "name": "stdout",
     "output_type": "stream",
     "text": [
      "Loaded subject3 data for 'becomingindian'\n"
     ]
    },
    {
     "name": "stdout",
     "output_type": "stream",
     "text": [
      "Loaded subject2 data for 'cocoonoflove'\n"
     ]
    },
    {
     "name": "stdout",
     "output_type": "stream",
     "text": [
      "Loaded subject3 data for 'cocoonoflove'\n"
     ]
    },
    {
     "name": "stdout",
     "output_type": "stream",
     "text": [
      "Loaded subject2 data for 'adventuresinsayingyes'\n"
     ]
    },
    {
     "name": "stdout",
     "output_type": "stream",
     "text": [
      "Loaded subject3 data for 'adventuresinsayingyes'\n"
     ]
    },
    {
     "name": "stdout",
     "output_type": "stream",
     "text": [
      "Loaded subject2 data for 'sweetaspie'\n"
     ]
    },
    {
     "name": "stdout",
     "output_type": "stream",
     "text": [
      "Loaded subject3 data for 'sweetaspie'\n"
     ]
    },
    {
     "name": "stdout",
     "output_type": "stream",
     "text": [
      "Loaded subject2 data for 'stagefright'\n"
     ]
    },
    {
     "name": "stdout",
     "output_type": "stream",
     "text": [
      "Loaded subject3 data for 'stagefright'\n"
     ]
    },
    {
     "name": "stdout",
     "output_type": "stream",
     "text": [
      "Loaded subject2 data for 'treasureisland'\n"
     ]
    },
    {
     "name": "stdout",
     "output_type": "stream",
     "text": [
      "Loaded subject3 data for 'treasureisland'\n"
     ]
    },
    {
     "name": "stdout",
     "output_type": "stream",
     "text": [
      "Loaded subject2 data for 'onapproachtopluto'\n"
     ]
    },
    {
     "name": "stdout",
     "output_type": "stream",
     "text": [
      "Loaded subject3 data for 'onapproachtopluto'\n"
     ]
    },
    {
     "name": "stdout",
     "output_type": "stream",
     "text": [
      "Loaded subject2 data for 'theadvancedbeginner'\n"
     ]
    },
    {
     "name": "stdout",
     "output_type": "stream",
     "text": [
      "Loaded subject3 data for 'theadvancedbeginner'\n"
     ]
    },
    {
     "name": "stdout",
     "output_type": "stream",
     "text": [
      "Loaded subject2 data for 'undertheinfluence'\n"
     ]
    },
    {
     "name": "stdout",
     "output_type": "stream",
     "text": [
      "Loaded subject3 data for 'undertheinfluence'\n"
     ]
    },
    {
     "name": "stdout",
     "output_type": "stream",
     "text": [
      "Loaded subject2 data for 'shoppinginchina'\n"
     ]
    },
    {
     "name": "stdout",
     "output_type": "stream",
     "text": [
      "Loaded subject3 data for 'shoppinginchina'\n"
     ]
    },
    {
     "name": "stdout",
     "output_type": "stream",
     "text": [
      "Loaded subject2 data for 'notontheusualtour'\n"
     ]
    },
    {
     "name": "stdout",
     "output_type": "stream",
     "text": [
      "Loaded subject3 data for 'notontheusualtour'\n"
     ]
    },
    {
     "name": "stdout",
     "output_type": "stream",
     "text": [
      "Loaded subject2 data for 'kiksuya'\n"
     ]
    },
    {
     "name": "stdout",
     "output_type": "stream",
     "text": [
      "Loaded subject3 data for 'kiksuya'\n"
     ]
    },
    {
     "name": "stdout",
     "output_type": "stream",
     "text": [
      "Loaded subject2 data for 'legacy'\n"
     ]
    },
    {
     "name": "stdout",
     "output_type": "stream",
     "text": [
      "Loaded subject3 data for 'legacy'\n"
     ]
    },
    {
     "name": "stdout",
     "output_type": "stream",
     "text": [
      "Loaded subject2 data for 'food'\n"
     ]
    },
    {
     "name": "stdout",
     "output_type": "stream",
     "text": [
      "Loaded subject3 data for 'food'\n"
     ]
    },
    {
     "name": "stdout",
     "output_type": "stream",
     "text": [
      "Loaded subject2 data for 'haveyoumethimyet'\n"
     ]
    },
    {
     "name": "stdout",
     "output_type": "stream",
     "text": [
      "Loaded subject3 data for 'haveyoumethimyet'\n"
     ]
    },
    {
     "name": "stdout",
     "output_type": "stream",
     "text": [
      "Loaded subject2 data for 'mayorofthefreaks'\n"
     ]
    },
    {
     "name": "stdout",
     "output_type": "stream",
     "text": [
      "Loaded subject3 data for 'mayorofthefreaks'\n"
     ]
    },
    {
     "name": "stdout",
     "output_type": "stream",
     "text": [
      "Loaded subject2 data for 'avatar'\n"
     ]
    },
    {
     "name": "stdout",
     "output_type": "stream",
     "text": [
      "Loaded subject3 data for 'avatar'\n"
     ]
    },
    {
     "name": "stdout",
     "output_type": "stream",
     "text": [
      "Loaded subject2 data for 'thepostmanalwayscalls'\n"
     ]
    },
    {
     "name": "stdout",
     "output_type": "stream",
     "text": [
      "Loaded subject3 data for 'thepostmanalwayscalls'\n"
     ]
    },
    {
     "name": "stdout",
     "output_type": "stream",
     "text": [
      "Loaded subject2 data for 'canplanetearthfeedtenbillionpeoplepart2'\n"
     ]
    },
    {
     "name": "stdout",
     "output_type": "stream",
     "text": [
      "Loaded subject3 data for 'canplanetearthfeedtenbillionpeoplepart2'\n"
     ]
    },
    {
     "name": "stdout",
     "output_type": "stream",
     "text": [
      "Loaded subject2 data for 'goldiethegoldfish'\n"
     ]
    },
    {
     "name": "stdout",
     "output_type": "stream",
     "text": [
      "Loaded subject3 data for 'goldiethegoldfish'\n"
     ]
    },
    {
     "name": "stdout",
     "output_type": "stream",
     "text": [
      "Loaded subject2 data for 'odetostepfather'\n"
     ]
    },
    {
     "name": "stdout",
     "output_type": "stream",
     "text": [
      "Loaded subject3 data for 'odetostepfather'\n"
     ]
    },
    {
     "name": "stdout",
     "output_type": "stream",
     "text": [
      "Loaded subject2 data for 'superheroesjustforeachother'\n"
     ]
    },
    {
     "name": "stdout",
     "output_type": "stream",
     "text": [
      "Loaded subject3 data for 'superheroesjustforeachother'\n"
     ]
    },
    {
     "name": "stdout",
     "output_type": "stream",
     "text": [
      "Loaded subject2 data for 'jugglingandjesus'\n"
     ]
    },
    {
     "name": "stdout",
     "output_type": "stream",
     "text": [
      "Loaded subject3 data for 'jugglingandjesus'\n"
     ]
    },
    {
     "name": "stdout",
     "output_type": "stream",
     "text": [
      "Loaded subject2 data for 'listo'\n"
     ]
    },
    {
     "name": "stdout",
     "output_type": "stream",
     "text": [
      "Loaded subject3 data for 'listo'\n"
     ]
    },
    {
     "name": "stdout",
     "output_type": "stream",
     "text": [
      "Loaded subject2 data for 'quietfire'\n"
     ]
    },
    {
     "name": "stdout",
     "output_type": "stream",
     "text": [
      "Loaded subject3 data for 'quietfire'\n"
     ]
    },
    {
     "name": "stdout",
     "output_type": "stream",
     "text": [
      "Loaded subject2 data for 'thatthingonmyarm'\n"
     ]
    },
    {
     "name": "stdout",
     "output_type": "stream",
     "text": [
      "Loaded subject3 data for 'thatthingonmyarm'\n"
     ]
    },
    {
     "name": "stdout",
     "output_type": "stream",
     "text": [
      "Loaded subject2 data for 'againstthewind'\n"
     ]
    },
    {
     "name": "stdout",
     "output_type": "stream",
     "text": [
      "Loaded subject3 data for 'againstthewind'\n"
     ]
    },
    {
     "name": "stdout",
     "output_type": "stream",
     "text": [
      "Loaded subject2 data for 'leavingbaghdad'\n"
     ]
    },
    {
     "name": "stdout",
     "output_type": "stream",
     "text": [
      "Loaded subject3 data for 'leavingbaghdad'\n"
     ]
    },
    {
     "name": "stdout",
     "output_type": "stream",
     "text": [
      "Loaded subject2 data for 'wheretheressmoke'\n"
     ]
    },
    {
     "name": "stdout",
     "output_type": "stream",
     "text": [
      "Loaded subject3 data for 'wheretheressmoke'\n"
     ]
    },
    {
     "name": "stdout",
     "output_type": "stream",
     "text": [
      "Loaded subject2 data for 'golfclubbing'\n"
     ]
    },
    {
     "name": "stdout",
     "output_type": "stream",
     "text": [
      "Loaded subject3 data for 'golfclubbing'\n"
     ]
    },
    {
     "name": "stdout",
     "output_type": "stream",
     "text": [
      "Loaded subject2 data for 'birthofanation'\n"
     ]
    },
    {
     "name": "stdout",
     "output_type": "stream",
     "text": [
      "Loaded subject3 data for 'birthofanation'\n"
     ]
    },
    {
     "name": "stdout",
     "output_type": "stream",
     "text": [
      "Loaded subject2 data for 'hangtime'\n"
     ]
    },
    {
     "name": "stdout",
     "output_type": "stream",
     "text": [
      "Loaded subject3 data for 'hangtime'\n"
     ]
    },
    {
     "name": "stdout",
     "output_type": "stream",
     "text": [
      "Loaded subject2 data for 'thesecrettomarriage'\n"
     ]
    },
    {
     "name": "stdout",
     "output_type": "stream",
     "text": [
      "Loaded subject3 data for 'thesecrettomarriage'\n"
     ]
    },
    {
     "name": "stdout",
     "output_type": "stream",
     "text": [
      "Loaded subject2 data for 'stumblinginthedark'\n"
     ]
    },
    {
     "name": "stdout",
     "output_type": "stream",
     "text": [
      "Loaded subject3 data for 'stumblinginthedark'\n"
     ]
    },
    {
     "name": "stdout",
     "output_type": "stream",
     "text": [
      "Loaded subject2 data for 'exorcism'\n"
     ]
    },
    {
     "name": "stdout",
     "output_type": "stream",
     "text": [
      "Loaded subject3 data for 'exorcism'\n",
      "\n",
      "Processing test data:\n"
     ]
    },
    {
     "name": "stdout",
     "output_type": "stream",
     "text": [
      "Loaded subject2 data for 'backsideofthestorm'\n"
     ]
    },
    {
     "name": "stdout",
     "output_type": "stream",
     "text": [
      "Loaded subject3 data for 'backsideofthestorm'\n"
     ]
    },
    {
     "name": "stdout",
     "output_type": "stream",
     "text": [
      "Loaded subject2 data for 'escapingfromadirediagnosis'\n"
     ]
    },
    {
     "name": "stdout",
     "output_type": "stream",
     "text": [
      "Loaded subject3 data for 'escapingfromadirediagnosis'\n"
     ]
    },
    {
     "name": "stdout",
     "output_type": "stream",
     "text": [
      "Loaded subject2 data for 'tetris'\n"
     ]
    },
    {
     "name": "stdout",
     "output_type": "stream",
     "text": [
      "Loaded subject3 data for 'tetris'\n"
     ]
    },
    {
     "name": "stdout",
     "output_type": "stream",
     "text": [
      "Loaded subject2 data for 'sloth'\n"
     ]
    },
    {
     "name": "stdout",
     "output_type": "stream",
     "text": [
      "Loaded subject3 data for 'sloth'\n"
     ]
    },
    {
     "name": "stdout",
     "output_type": "stream",
     "text": [
      "Loaded subject2 data for 'thefreedomridersandme'\n"
     ]
    },
    {
     "name": "stdout",
     "output_type": "stream",
     "text": [
      "Loaded subject3 data for 'thefreedomridersandme'\n"
     ]
    },
    {
     "name": "stdout",
     "output_type": "stream",
     "text": [
      "Loaded subject2 data for 'findingmyownrescuer'\n"
     ]
    },
    {
     "name": "stdout",
     "output_type": "stream",
     "text": [
      "Loaded subject3 data for 'findingmyownrescuer'\n"
     ]
    },
    {
     "name": "stdout",
     "output_type": "stream",
     "text": [
      "Loaded subject2 data for 'fromboyhoodtofatherhood'\n"
     ]
    },
    {
     "name": "stdout",
     "output_type": "stream",
     "text": [
      "Loaded subject3 data for 'fromboyhoodtofatherhood'\n"
     ]
    },
    {
     "name": "stdout",
     "output_type": "stream",
     "text": [
      "Loaded subject2 data for 'myfathershands'\n"
     ]
    },
    {
     "name": "stdout",
     "output_type": "stream",
     "text": [
      "Loaded subject3 data for 'myfathershands'\n"
     ]
    },
    {
     "name": "stdout",
     "output_type": "stream",
     "text": [
      "Loaded subject2 data for 'learninghumanityfromdogs'\n"
     ]
    },
    {
     "name": "stdout",
     "output_type": "stream",
     "text": [
      "Loaded subject3 data for 'learninghumanityfromdogs'\n"
     ]
    },
    {
     "name": "stdout",
     "output_type": "stream",
     "text": [
      "Loaded subject2 data for 'theclosetthatateeverything'\n"
     ]
    },
    {
     "name": "stdout",
     "output_type": "stream",
     "text": [
      "Loaded subject3 data for 'theclosetthatateeverything'\n"
     ]
    },
    {
     "name": "stdout",
     "output_type": "stream",
     "text": [
      "Loaded subject2 data for 'lifereimagined'\n"
     ]
    },
    {
     "name": "stdout",
     "output_type": "stream",
     "text": [
      "Loaded subject3 data for 'lifereimagined'\n"
     ]
    },
    {
     "name": "stdout",
     "output_type": "stream",
     "text": [
      "Loaded subject2 data for 'vixenandtheussr'\n"
     ]
    },
    {
     "name": "stdout",
     "output_type": "stream",
     "text": [
      "Loaded subject3 data for 'vixenandtheussr'\n"
     ]
    },
    {
     "name": "stdout",
     "output_type": "stream",
     "text": [
      "Loaded subject2 data for 'breakingupintheageofgoogle'\n"
     ]
    },
    {
     "name": "stdout",
     "output_type": "stream",
     "text": [
      "Loaded subject3 data for 'breakingupintheageofgoogle'\n"
     ]
    },
    {
     "name": "stdout",
     "output_type": "stream",
     "text": [
      "Loaded subject2 data for 'marryamanwholoveshismother'\n"
     ]
    },
    {
     "name": "stdout",
     "output_type": "stream",
     "text": [
      "Loaded subject3 data for 'marryamanwholoveshismother'\n"
     ]
    },
    {
     "name": "stdout",
     "output_type": "stream",
     "text": [
      "Loaded subject2 data for 'thetriangleshirtwaistconnection'\n"
     ]
    },
    {
     "name": "stdout",
     "output_type": "stream",
     "text": [
      "Loaded subject3 data for 'thetriangleshirtwaistconnection'\n"
     ]
    },
    {
     "name": "stdout",
     "output_type": "stream",
     "text": [
      "Loaded subject2 data for 'goingthelibertyway'\n"
     ]
    },
    {
     "name": "stdout",
     "output_type": "stream",
     "text": [
      "Loaded subject3 data for 'goingthelibertyway'\n"
     ]
    },
    {
     "name": "stdout",
     "output_type": "stream",
     "text": [
      "Loaded subject2 data for 'lifeanddeathontheoregontrail'\n"
     ]
    },
    {
     "name": "stdout",
     "output_type": "stream",
     "text": [
      "Loaded subject3 data for 'lifeanddeathontheoregontrail'\n"
     ]
    },
    {
     "name": "stdout",
     "output_type": "stream",
     "text": [
      "Loaded subject2 data for 'cautioneating'\n"
     ]
    },
    {
     "name": "stdout",
     "output_type": "stream",
     "text": [
      "Loaded subject3 data for 'cautioneating'\n"
     ]
    },
    {
     "name": "stdout",
     "output_type": "stream",
     "text": [
      "Loaded subject2 data for 'metsmagic'\n"
     ]
    },
    {
     "name": "stdout",
     "output_type": "stream",
     "text": [
      "Loaded subject3 data for 'metsmagic'\n"
     ]
    },
    {
     "name": "stdout",
     "output_type": "stream",
     "text": [
      "Loaded subject2 data for 'whyimustspeakoutaboutclimatechange'\n"
     ]
    },
    {
     "name": "stdout",
     "output_type": "stream",
     "text": [
      "Loaded subject3 data for 'whyimustspeakoutaboutclimatechange'\n"
     ]
    },
    {
     "name": "stdout",
     "output_type": "stream",
     "text": [
      "Loaded subject2 data for 'waitingtogo'\n"
     ]
    },
    {
     "name": "stdout",
     "output_type": "stream",
     "text": [
      "Loaded subject3 data for 'waitingtogo'\n"
     ]
    },
    {
     "name": "stdout",
     "output_type": "stream",
     "text": [
      "Loaded subject2 data for 'forgettingfear'\n"
     ]
    },
    {
     "name": "stdout",
     "output_type": "stream",
     "text": [
      "Loaded subject3 data for 'forgettingfear'\n"
     ]
    },
    {
     "name": "stdout",
     "output_type": "stream",
     "text": [
      "Loaded subject2 data for 'afearstrippedbare'\n"
     ]
    },
    {
     "name": "stdout",
     "output_type": "stream",
     "text": [
      "Loaded subject3 data for 'afearstrippedbare'\n"
     ]
    },
    {
     "name": "stdout",
     "output_type": "stream",
     "text": [
      "Loaded subject2 data for 'inamoment'\n"
     ]
    },
    {
     "name": "stdout",
     "output_type": "stream",
     "text": [
      "Loaded subject3 data for 'inamoment'\n"
     ]
    },
    {
     "name": "stdout",
     "output_type": "stream",
     "text": [
      "Loaded subject2 data for 'itsabox'\n"
     ]
    },
    {
     "name": "stdout",
     "output_type": "stream",
     "text": [
      "Loaded subject3 data for 'itsabox'\n"
     ]
    },
    {
     "name": "stdout",
     "output_type": "stream",
     "text": [
      "Loaded subject2 data for 'catfishingstrangerstofindmyself'\n"
     ]
    },
    {
     "name": "stdout",
     "output_type": "stream",
     "text": [
      "Loaded subject3 data for 'catfishingstrangerstofindmyself'\n"
     ]
    },
    {
     "name": "stdout",
     "output_type": "stream",
     "text": [
      "Loaded subject2 data for 'ifthishaircouldtalk'\n"
     ]
    },
    {
     "name": "stdout",
     "output_type": "stream",
     "text": [
      "Loaded subject3 data for 'ifthishaircouldtalk'\n"
     ]
    },
    {
     "name": "stdout",
     "output_type": "stream",
     "text": [
      "Loaded subject2 data for 'beneaththemushroomcloud'\n"
     ]
    },
    {
     "name": "stdout",
     "output_type": "stream",
     "text": [
      "Loaded subject3 data for 'beneaththemushroomcloud'\n"
     ]
    },
    {
     "name": "stdout",
     "output_type": "stream",
     "text": [
      "Loaded subject2 data for 'tildeath'\n"
     ]
    },
    {
     "name": "stdout",
     "output_type": "stream",
     "text": [
      "Loaded subject3 data for 'tildeath'\n"
     ]
    },
    {
     "name": "stdout",
     "output_type": "stream",
     "text": [
      "Loaded subject2 data for 'reachingoutbetweenthebars'\n"
     ]
    },
    {
     "name": "stdout",
     "output_type": "stream",
     "text": [
      "Loaded subject3 data for 'reachingoutbetweenthebars'\n"
     ]
    },
    {
     "name": "stdout",
     "output_type": "stream",
     "text": [
      "Loaded subject2 data for 'comingofageondeathrow'\n"
     ]
    },
    {
     "name": "stdout",
     "output_type": "stream",
     "text": [
      "Loaded subject3 data for 'comingofageondeathrow'\n",
      "\n",
      "Dataset Summary:\n",
      "Subject 2 training stories: 70\n",
      "Subject 3 training stories: 70\n",
      "Subject 2 test stories: 31\n",
      "Subject 3 test stories: 31\n",
      "\n",
      "Training stories for Subject 2: ['googlingstrangersandkentuckybluegrass', 'alternateithicatom', 'thumbsup', 'igrewupinthewestborobaptistchurch', 'penpal', 'wildwomenanddancingqueens', 'canplanetearthfeedtenbillionpeoplepart3', 'souls', 'threemonths', 'christmas1940', 'canplanetearthfeedtenbillionpeoplepart1', 'firetestforlove', 'eyespy', 'naked', 'canadageeseandddp', 'theinterview', 'thecurse', 'swimmingwithastronauts', 'adollshouse', 'afatherscover', 'howtodraw', 'life', 'whenmothersbullyback', 'gpsformylostidentity', 'bluehope', 'lawsthatchokecreativity', 'singlewomanseekingmanwich', 'buck', 'thesurprisingthingilearnedsailingsoloaroundtheworld', 'seedpotatoesofleningrad', 'thetiniestbouquet', 'indianapolis', 'mybackseatviewofagreatromance', 'gangstersandcookies', 'theshower', 'becomingindian', 'cocoonoflove', 'adventuresinsayingyes', 'sweetaspie', 'stagefright', 'treasureisland', 'onapproachtopluto', 'theadvancedbeginner', 'undertheinfluence', 'shoppinginchina', 'notontheusualtour', 'kiksuya', 'legacy', 'food', 'haveyoumethimyet', 'mayorofthefreaks', 'avatar', 'thepostmanalwayscalls', 'canplanetearthfeedtenbillionpeoplepart2', 'goldiethegoldfish', 'odetostepfather', 'superheroesjustforeachother', 'jugglingandjesus', 'listo', 'quietfire', 'thatthingonmyarm', 'againstthewind', 'leavingbaghdad', 'wheretheressmoke', 'golfclubbing', 'birthofanation', 'hangtime', 'thesecrettomarriage', 'stumblinginthedark', 'exorcism']\n",
      "Training stories for Subject 3: ['googlingstrangersandkentuckybluegrass', 'alternateithicatom', 'thumbsup', 'igrewupinthewestborobaptistchurch', 'penpal', 'wildwomenanddancingqueens', 'canplanetearthfeedtenbillionpeoplepart3', 'souls', 'threemonths', 'christmas1940', 'canplanetearthfeedtenbillionpeoplepart1', 'firetestforlove', 'eyespy', 'naked', 'canadageeseandddp', 'theinterview', 'thecurse', 'swimmingwithastronauts', 'adollshouse', 'afatherscover', 'howtodraw', 'life', 'whenmothersbullyback', 'gpsformylostidentity', 'bluehope', 'lawsthatchokecreativity', 'singlewomanseekingmanwich', 'buck', 'thesurprisingthingilearnedsailingsoloaroundtheworld', 'seedpotatoesofleningrad', 'thetiniestbouquet', 'indianapolis', 'mybackseatviewofagreatromance', 'gangstersandcookies', 'theshower', 'becomingindian', 'cocoonoflove', 'adventuresinsayingyes', 'sweetaspie', 'stagefright', 'treasureisland', 'onapproachtopluto', 'theadvancedbeginner', 'undertheinfluence', 'shoppinginchina', 'notontheusualtour', 'kiksuya', 'legacy', 'food', 'haveyoumethimyet', 'mayorofthefreaks', 'avatar', 'thepostmanalwayscalls', 'canplanetearthfeedtenbillionpeoplepart2', 'goldiethegoldfish', 'odetostepfather', 'superheroesjustforeachother', 'jugglingandjesus', 'listo', 'quietfire', 'thatthingonmyarm', 'againstthewind', 'leavingbaghdad', 'wheretheressmoke', 'golfclubbing', 'birthofanation', 'hangtime', 'thesecrettomarriage', 'stumblinginthedark', 'exorcism']\n",
      "\n",
      "Test stories for Subject 2: ['backsideofthestorm', 'escapingfromadirediagnosis', 'tetris', 'sloth', 'thefreedomridersandme', 'findingmyownrescuer', 'fromboyhoodtofatherhood', 'myfathershands', 'learninghumanityfromdogs', 'theclosetthatateeverything', 'lifereimagined', 'vixenandtheussr', 'breakingupintheageofgoogle', 'marryamanwholoveshismother', 'thetriangleshirtwaistconnection', 'goingthelibertyway', 'lifeanddeathontheoregontrail', 'cautioneating', 'metsmagic', 'whyimustspeakoutaboutclimatechange', 'waitingtogo', 'forgettingfear', 'afearstrippedbare', 'inamoment', 'itsabox', 'catfishingstrangerstofindmyself', 'ifthishaircouldtalk', 'beneaththemushroomcloud', 'tildeath', 'reachingoutbetweenthebars', 'comingofageondeathrow']\n",
      "Test stories for Subject 3: ['backsideofthestorm', 'escapingfromadirediagnosis', 'tetris', 'sloth', 'thefreedomridersandme', 'findingmyownrescuer', 'fromboyhoodtofatherhood', 'myfathershands', 'learninghumanityfromdogs', 'theclosetthatateeverything', 'lifereimagined', 'vixenandtheussr', 'breakingupintheageofgoogle', 'marryamanwholoveshismother', 'thetriangleshirtwaistconnection', 'goingthelibertyway', 'lifeanddeathontheoregontrail', 'cautioneating', 'metsmagic', 'whyimustspeakoutaboutclimatechange', 'waitingtogo', 'forgettingfear', 'afearstrippedbare', 'inamoment', 'itsabox', 'catfishingstrangerstofindmyself', 'ifthishaircouldtalk', 'beneaththemushroomcloud', 'tildeath', 'reachingoutbetweenthebars', 'comingofageondeathrow']\n",
      "\n",
      "Measurement data shapes:\n",
      "Subject 2 training shape: (434, 94251)\n",
      "Subject 3 training shape: (434, 95556)\n"
     ]
    }
   ],
   "source": [
    "\n",
    "def load_measurement_data_by_subject(story_key):\n",
    "    \"\"\"Load measurement data and return it separated by subject.\"\"\"\n",
    "    base_dir = \"../../../shared/data\"\n",
    "    subject2_file = os.path.join(base_dir, \"subject2\", f\"{story_key}.npy\")\n",
    "    subject3_file = os.path.join(base_dir, \"subject3\", f\"{story_key}.npy\")\n",
    "    \n",
    "    subject2_data = None\n",
    "    subject3_data = None\n",
    "    \n",
    "    if os.path.exists(subject2_file):\n",
    "        subject2_data = np.load(subject2_file)\n",
    "        print(f\"Loaded subject2 data for '{story_key}'\")\n",
    "    \n",
    "    if os.path.exists(subject3_file):\n",
    "        subject3_data = np.load(subject3_file)\n",
    "        print(f\"Loaded subject3 data for '{story_key}'\")\n",
    "    \n",
    "    return subject2_data, subject3_data\n",
    "\n",
    "# Load first 6 keys for train and first 2 keys for test\n",
    "train_keys = list(train_embeddings_pretrained.keys())\n",
    "test_keys = list(test_embeddings_pretrained.keys())\n",
    "\n",
    "# Initialize lists to store data for each subject\n",
    "subject2_train_rows = []\n",
    "subject3_train_rows = []\n",
    "subject2_test_rows = []\n",
    "subject3_test_rows = []\n",
    "\n",
    "# Process training data\n",
    "print(\"\\nProcessing training data:\")\n",
    "for story_key in train_keys:\n",
    "    subject2_data, subject3_data = load_measurement_data_by_subject(story_key)\n",
    "    \n",
    "    if subject2_data is not None:\n",
    "        subject2_train_rows.append({\n",
    "            'story_key': story_key,\n",
    "            'measurement_data': subject2_data\n",
    "        })\n",
    "    \n",
    "    if subject3_data is not None:\n",
    "        subject3_train_rows.append({\n",
    "            'story_key': story_key,\n",
    "            'measurement_data': subject3_data\n",
    "        })\n",
    "\n",
    "# Process test data\n",
    "print(\"\\nProcessing test data:\")\n",
    "for story_key in test_keys:\n",
    "    subject2_data, subject3_data = load_measurement_data_by_subject(story_key)\n",
    "    \n",
    "    if subject2_data is not None:\n",
    "        subject2_test_rows.append({\n",
    "            'story_key': story_key,\n",
    "            'measurement_data': subject2_data\n",
    "        })\n",
    "    \n",
    "    if subject3_data is not None:\n",
    "        subject3_test_rows.append({\n",
    "            'story_key': story_key,\n",
    "            'measurement_data': subject3_data\n",
    "        })\n",
    "\n",
    "# Create DataFrames for each subject\n",
    "train_resp_subject2 = pd.DataFrame(subject2_train_rows).set_index('story_key')\n",
    "train_resp_subject3 = pd.DataFrame(subject3_train_rows).set_index('story_key')\n",
    "test_resp_subject2 = pd.DataFrame(subject2_test_rows).set_index('story_key')\n",
    "test_resp_subject3 = pd.DataFrame(subject3_test_rows).set_index('story_key')\n",
    "\n",
    "# Print summary\n",
    "print(\"\\nDataset Summary:\")\n",
    "print(f\"Subject 2 training stories: {len(train_resp_subject2)}\")\n",
    "print(f\"Subject 3 training stories: {len(train_resp_subject3)}\")\n",
    "print(f\"Subject 2 test stories: {len(test_resp_subject2)}\")\n",
    "print(f\"Subject 3 test stories: {len(test_resp_subject3)}\")\n",
    "\n",
    "print(\"\\nTraining stories for Subject 2:\", list(train_resp_subject2.index))\n",
    "print(\"Training stories for Subject 3:\", list(train_resp_subject3.index))\n",
    "print(\"\\nTest stories for Subject 2:\", list(test_resp_subject2.index))\n",
    "print(\"Test stories for Subject 3:\", list(test_resp_subject3.index))\n",
    "\n",
    "# Print shapes of measurement data\n",
    "print(\"\\nMeasurement data shapes:\")\n",
    "if len(train_resp_subject2) > 0:\n",
    "    print(f\"Subject 2 training shape: {train_resp_subject2.iloc[0]['measurement_data'].shape}\")\n",
    "if len(train_resp_subject3) > 0:\n",
    "    print(f\"Subject 3 training shape: {train_resp_subject3.iloc[0]['measurement_data'].shape}\")"
   ]
  },
  {
   "cell_type": "code",
   "execution_count": 10,
   "metadata": {
    "execution": {
     "iopub.execute_input": "2025-05-05T19:18:07.706343Z",
     "iopub.status.busy": "2025-05-05T19:18:07.706116Z",
     "iopub.status.idle": "2025-05-05T19:38:39.742254Z",
     "shell.execute_reply": "2025-05-05T19:38:39.741749Z"
    }
   },
   "outputs": [
    {
     "name": "stdout",
     "output_type": "stream",
     "text": [
      "\n",
      "==================== Analyzing subject2 ====================\n",
      "\n",
      "==================================================\n",
      "Evaluating BERT embedding for subject2\n",
      "\n",
      "Number of stories - Train: 70, Test: 31\n"
     ]
    },
    {
     "name": "stdout",
     "output_type": "stream",
     "text": [
      "Data dimensions:\n",
      "Training: 24503 timepoints × 3072 features → 94251 voxels\n",
      "Testing:  10283 timepoints × 3072 features → 94251 voxels\n",
      "\n",
      "Running cross-validation...\n"
     ]
    },
    {
     "name": "stdout",
     "output_type": "stream",
     "text": [
      "CV mean CC: 0.0182 (±0.0009)\n",
      "\n",
      "Training final model...\n"
     ]
    },
    {
     "name": "stdout",
     "output_type": "stream",
     "text": [
      "\n",
      "Per-story performance:\n",
      "Story 1: mean CC = 0.0108 ± 0.0110\n",
      "Story 2: mean CC = 0.0140 ± 0.0121\n",
      "Story 3: mean CC = 0.0142 ± 0.0136\n",
      "Story 4: mean CC = 0.0121 ± 0.0123\n",
      "Story 5: mean CC = 0.0139 ± 0.0102\n",
      "Story 6: mean CC = 0.0133 ± 0.0152\n",
      "Story 7: mean CC = 0.0119 ± 0.0104\n",
      "Story 8: mean CC = 0.0168 ± 0.0150\n",
      "Story 9: mean CC = 0.0137 ± 0.0121\n",
      "Story 10: mean CC = 0.0184 ± 0.0129\n",
      "Story 11: mean CC = 0.0180 ± 0.0151\n",
      "Story 12: mean CC = 0.0173 ± 0.0154\n",
      "Story 13: mean CC = 0.0125 ± 0.0099\n",
      "Story 14: mean CC = 0.0144 ± 0.0129\n",
      "Story 15: mean CC = 0.0172 ± 0.0152\n",
      "Story 16: mean CC = 0.0197 ± 0.0202\n",
      "Story 17: mean CC = 0.0147 ± 0.0142\n",
      "Story 18: mean CC = 0.0154 ± 0.0129\n",
      "Story 19: mean CC = 0.0182 ± 0.0148\n",
      "Story 20: mean CC = 0.0150 ± 0.0120\n",
      "Story 21: mean CC = 0.0217 ± 0.0198\n",
      "Story 22: mean CC = 0.0172 ± 0.0159\n",
      "Story 23: mean CC = 0.0145 ± 0.0126\n",
      "Story 24: mean CC = 0.0144 ± 0.0132\n",
      "Story 25: mean CC = 0.0154 ± 0.0146\n",
      "Story 26: mean CC = 0.0178 ± 0.0127\n",
      "Story 27: mean CC = 0.0166 ± 0.0148\n",
      "Story 28: mean CC = 0.0195 ± 0.0175\n",
      "Story 29: mean CC = 0.0166 ± 0.0134\n",
      "Story 30: mean CC = 0.0162 ± 0.0135\n",
      "Story 31: mean CC = 0.0162 ± 0.0142\n"
     ]
    },
    {
     "data": {
      "image/png": "[encoded data removed]",
      "text/plain": [
       "<Figure size 1500x500 with 2 Axes>"
      ]
     },
     "metadata": {},
     "output_type": "display_data"
    },
    {
     "name": "stdout",
     "output_type": "stream",
     "text": [
      "\n",
      "Results Summary:\n",
      "Mean CC: 0.0174\n",
      "Median CC: 0.0157\n",
      "Top 1% CC: 0.0682\n",
      "Top 5% CC: 0.0471\n",
      "Voxels with CC > 0.1: 0.0%\n",
      "\n",
      "==================== Analyzing subject3 ====================\n",
      "\n",
      "==================================================\n",
      "Evaluating BERT embedding for subject3\n",
      "\n",
      "Number of stories - Train: 70, Test: 31\n"
     ]
    },
    {
     "name": "stdout",
     "output_type": "stream",
     "text": [
      "Data dimensions:\n",
      "Training: 24503 timepoints × 3072 features → 95556 voxels\n",
      "Testing:  10283 timepoints × 3072 features → 95556 voxels\n",
      "\n",
      "Running cross-validation...\n"
     ]
    },
    {
     "name": "stdout",
     "output_type": "stream",
     "text": [
      "CV mean CC: 0.0248 (±0.0005)\n",
      "\n",
      "Training final model...\n"
     ]
    },
    {
     "name": "stdout",
     "output_type": "stream",
     "text": [
      "\n",
      "Per-story performance:\n",
      "Story 1: mean CC = 0.0139 ± 0.0116\n",
      "Story 2: mean CC = 0.0151 ± 0.0123\n",
      "Story 3: mean CC = 0.0196 ± 0.0174\n",
      "Story 4: mean CC = 0.0169 ± 0.0119\n",
      "Story 5: mean CC = 0.0361 ± 0.0252\n",
      "Story 6: mean CC = 0.0227 ± 0.0184\n",
      "Story 7: mean CC = 0.0158 ± 0.0102\n",
      "Story 8: mean CC = 0.0236 ± 0.0192\n",
      "Story 9: mean CC = 0.0297 ± 0.0223\n",
      "Story 10: mean CC = 0.0240 ± 0.0245\n",
      "Story 11: mean CC = 0.0151 ± 0.0117\n",
      "Story 12: mean CC = 0.0147 ± 0.0134\n",
      "Story 13: mean CC = 0.0249 ± 0.0196\n",
      "Story 14: mean CC = 0.0328 ± 0.0273\n",
      "Story 15: mean CC = 0.0186 ± 0.0149\n",
      "Story 16: mean CC = 0.0181 ± 0.0165\n",
      "Story 17: mean CC = 0.0146 ± 0.0109\n",
      "Story 18: mean CC = 0.0142 ± 0.0160\n",
      "Story 19: mean CC = 0.0228 ± 0.0180\n",
      "Story 20: mean CC = 0.0203 ± 0.0208\n",
      "Story 21: mean CC = 0.0172 ± 0.0138\n",
      "Story 22: mean CC = 0.0230 ± 0.0220\n",
      "Story 23: mean CC = 0.0181 ± 0.0141\n",
      "Story 24: mean CC = 0.0159 ± 0.0152\n",
      "Story 25: mean CC = 0.0194 ± 0.0161\n",
      "Story 26: mean CC = 0.0259 ± 0.0203\n",
      "Story 27: mean CC = 0.0222 ± 0.0171\n",
      "Story 28: mean CC = 0.0225 ± 0.0155\n",
      "Story 29: mean CC = 0.0187 ± 0.0161\n",
      "Story 30: mean CC = 0.0162 ± 0.0124\n",
      "Story 31: mean CC = 0.0189 ± 0.0166\n"
     ]
    },
    {
     "data": {
      "image/png": "[encoded data removed]",
      "text/plain": [
       "<Figure size 1500x500 with 2 Axes>"
      ]
     },
     "metadata": {},
     "output_type": "display_data"
    },
    {
     "name": "stdout",
     "output_type": "stream",
     "text": [
      "\n",
      "Results Summary:\n",
      "Mean CC: 0.0242\n",
      "Median CC: 0.0206\n",
      "Top 1% CC: 0.0910\n",
      "Top 5% CC: 0.0637\n",
      "Voxels with CC > 0.1: 0.6%\n",
      "\n",
      "=== Final Cross-subject Comparison ===\n",
      "\n",
      "BERT:\n",
      "subject2:\n",
      "  Mean CC: 0.0174\n",
      "  Voxels > 0.1: 0.0%\n",
      "subject3:\n",
      "  Mean CC: 0.0242\n",
      "  Voxels > 0.1: 0.6%\n"
     ]
    }
   ],
   "source": [
    "\n",
    "# Create results directory\n",
    "os.makedirs('../results', exist_ok=True)\n",
    "\n",
    "# Create figs directory\n",
    "os.makedirs('../figs', exist_ok=True)\n",
    "\n",
    "# Constants\n",
    "ALPHAS = np.logspace(1, 3, 3)  # [10, 100, 1000]\n",
    "NBOOTS = 3\n",
    "CHUNKLEN = 10\n",
    "CC_THRESHOLD = 0.1  # Updated threshold from 0.2 to 0.1\n",
    "\n",
    "def evaluate_embedding(train_embed, test_embed, train_resp, test_resp, embed_name, subject_name):\n",
    "    \"\"\"Efficient evaluation with focused output.\"\"\"\n",
    "    print(f\"\\n{'='*50}\")\n",
    "    print(f\"Evaluating {embed_name} embedding for {subject_name}\")\n",
    "    \n",
    "    # Data preparation\n",
    "    train_keys = sorted(set(train_embed.keys()) & set(train_resp.index))\n",
    "    test_keys = sorted(set(test_embed.keys()) & set(test_resp.index))\n",
    "    \n",
    "    print(f\"\\nNumber of stories - Train: {len(train_keys)}, Test: {len(test_keys)}\")\n",
    "    \n",
    "    X_train_list, y_train_list = [], []\n",
    "    X_test_dict, y_test_dict = {}, {}\n",
    "    \n",
    "    # Prepare training data\n",
    "    for key in train_keys:\n",
    "        embed = train_embed[key]\n",
    "        resp = train_resp.loc[key, 'measurement_data']\n",
    "        min_len = min(embed.shape[0], resp.shape[0])\n",
    "        X_train_list.append(embed[:min_len])\n",
    "        y_train_list.append(resp[:min_len])\n",
    "    \n",
    "    # Prepare test data\n",
    "    for key in test_keys:\n",
    "        embed = test_embed[key]\n",
    "        resp = test_resp.loc[key, 'measurement_data']\n",
    "        min_len = min(embed.shape[0], resp.shape[0])\n",
    "        X_test_dict[key] = embed[:min_len]\n",
    "        y_test_dict[key] = resp[:min_len]\n",
    "    \n",
    "    X_train = np.vstack(X_train_list)\n",
    "    y_train = np.vstack(y_train_list)\n",
    "    X_test = np.vstack(list(X_test_dict.values()))\n",
    "    y_test = np.vstack(list(y_test_dict.values()))\n",
    "    \n",
    "    print(f\"Data dimensions:\")\n",
    "    print(f\"Training: {X_train.shape[0]} timepoints × {X_train.shape[1]} features → {y_train.shape[1]} voxels\")\n",
    "    print(f\"Testing:  {X_test.shape[0]} timepoints × {X_test.shape[1]} features → {y_test.shape[1]} voxels\")\n",
    "    \n",
    "    # Cross-validation\n",
    "    n_splits = 3\n",
    "    chunk_size = len(X_train) // n_splits\n",
    "    cv_scores = []\n",
    "    \n",
    "    print(\"\\nRunning cross-validation...\")\n",
    "    for i in range(n_splits):\n",
    "        val_start = i * chunk_size\n",
    "        val_end = (i + 1) * chunk_size\n",
    "        \n",
    "        X_val = X_train[val_start:val_end]\n",
    "        y_val = y_train[val_start:val_end]\n",
    "        X_train_cv = np.vstack([X_train[:val_start], X_train[val_end:]])\n",
    "        y_train_cv = np.vstack([y_train[:val_start], y_train[val_end:]])\n",
    "        \n",
    "        wt_cv, corrs_cv, _, _, _ = bootstrap_ridge(\n",
    "            X_train_cv, y_train_cv, X_val, y_val,\n",
    "            alphas=ALPHAS, nboots=NBOOTS, chunklen=CHUNKLEN,\n",
    "            nchunks=3, corrmin=CC_THRESHOLD, normalpha=True\n",
    "        )\n",
    "        cv_scores.append(np.mean(corrs_cv))\n",
    "    \n",
    "    print(f\"CV mean CC: {np.mean(cv_scores):.4f} (±{np.std(cv_scores):.4f})\")\n",
    "    \n",
    "    # Final model training\n",
    "    print(\"\\nTraining final model...\")\n",
    "    wt, corrs, valphas, allRcorrs, _ = bootstrap_ridge(\n",
    "        X_train, y_train, X_test, y_test,\n",
    "        alphas=ALPHAS, nboots=NBOOTS, chunklen=CHUNKLEN,\n",
    "        nchunks=3, corrmin=CC_THRESHOLD, normalpha=True\n",
    "    )\n",
    "    \n",
    "    # Per-story analysis\n",
    "    story_performances = {}\n",
    "    story_boundaries = np.cumsum([0] + [len(X_test_dict[k]) for k in test_keys])\n",
    "    \n",
    "    print(\"\\nPer-story performance:\")\n",
    "    for i, key in enumerate(test_keys):\n",
    "        story_corrs = corrs[story_boundaries[i]:story_boundaries[i+1]]\n",
    "        story_performances[key] = {\n",
    "            'mean_cc': np.nanmean(story_corrs),\n",
    "            'median_cc': np.nanmedian(story_corrs),\n",
    "            'std_cc': np.nanstd(story_corrs),\n",
    "            'n_voxels': len(story_corrs),\n",
    "            'correlations': story_corrs\n",
    "        }\n",
    "        print(f\"Story {i+1}: mean CC = {story_performances[key]['mean_cc']:.4f} ± {story_performances[key]['std_cc']:.4f}\")\n",
    "    \n",
    "    # Compute metrics\n",
    "    metrics = {\n",
    "        'mean_cc': np.nanmean(corrs),\n",
    "        'median_cc': np.nanmedian(corrs),\n",
    "        'top_1_percentile': np.nanpercentile(corrs, 99),\n",
    "        'top_5_percentile': np.nanpercentile(corrs, 95),\n",
    "        'correlations': corrs,\n",
    "        'cv_scores': cv_scores,\n",
    "        'story_performances': story_performances,\n",
    "        'voxels_above_threshold': np.mean(corrs > CC_THRESHOLD) * 100\n",
    "    }\n",
    "    \n",
    "    # Save model\n",
    "    model_data = {\n",
    "        'weights': wt,\n",
    "        'best_alphas': valphas,\n",
    "        'metrics': metrics,\n",
    "        'training_shapes': {'X': X_train.shape, 'y': y_train.shape}\n",
    "    }\n",
    "    \n",
    "    with open(f'../results/ridge_model_{subject_name}_{embed_name}.pkl', 'wb') as f:\n",
    "        pickle.dump(model_data, f)\n",
    "    \n",
    "    # Plotting\n",
    "    fig, (ax1, ax2) = plt.subplots(1, 2, figsize=(15, 5))\n",
    "    \n",
    "    # CC Distribution\n",
    "    sns.histplot(corrs[~np.isnan(corrs)], bins=50, kde=True, ax=ax1)\n",
    "    ax1.axvline(x=CC_THRESHOLD, color='r', linestyle='--', label=f'CC={CC_THRESHOLD}')\n",
    "    ax1.set_title(f'CC Distribution\\n{subject_name} - {embed_name}')\n",
    "    ax1.set_xlabel('Correlation Coefficient')\n",
    "    ax1.legend()\n",
    "    \n",
    "    # Story Performance with numerical indices\n",
    "    story_means = [perf['mean_cc'] for perf in story_performances.values()]\n",
    "    story_stds = [perf['std_cc'] for perf in story_performances.values()]\n",
    "    x_pos = np.arange(1, len(story_means) + 1)\n",
    "    \n",
    "    ax2.bar(x_pos, story_means, yerr=story_stds, capsize=5)\n",
    "    ax2.set_title('Per-story Performance')\n",
    "    ax2.set_xlabel('Story Number')\n",
    "    ax2.set_ylabel('Mean CC (with std)')\n",
    "    ax2.set_xticks(x_pos)\n",
    "    \n",
    "    plt.tight_layout()\n",
    "    \n",
    "    # Save figure as PNG in ../figs directory\n",
    "    fig.savefig(os.path.join('../figs', f\"{subject_name}_{embed_name}.png\"), dpi=300)\n",
    "    \n",
    "    # Display figure\n",
    "    plt.show()\n",
    "    \n",
    "    # Print final results\n",
    "    print(\"\\nResults Summary:\")\n",
    "    print(f\"Mean CC: {metrics['mean_cc']:.4f}\")\n",
    "    print(f\"Median CC: {metrics['median_cc']:.4f}\")\n",
    "    print(f\"Top 1% CC: {metrics['top_1_percentile']:.4f}\")\n",
    "    print(f\"Top 5% CC: {metrics['top_5_percentile']:.4f}\")\n",
    "    print(f\"Voxels with CC > {CC_THRESHOLD}: {metrics['voxels_above_threshold']:.1f}%\")\n",
    "    \n",
    "    return metrics\n",
    "\n",
    "# Main execution\n",
    "subjects_to_analyze = {\n",
    "    'subject2': (train_resp_subject2, test_resp_subject2),\n",
    "    'subject3': (train_resp_subject3, test_resp_subject3)\n",
    "}\n",
    "\n",
    "embedding_pairs = {\n",
    "    'BERT': (train_embeddings_pretrained, test_embeddings_pretrained)\n",
    "}\n",
    "\n",
    "# Run analysis\n",
    "all_results = {}\n",
    "for subject_name, (train_resp, test_resp) in subjects_to_analyze.items():\n",
    "    print(f\"\\n{'='*20} Analyzing {subject_name} {'='*20}\")\n",
    "    \n",
    "    subject_results = {}\n",
    "    for embed_name, (train_embed, test_embed) in embedding_pairs.items():\n",
    "        subject_results[embed_name] = evaluate_embedding(\n",
    "            train_embed, test_embed,\n",
    "            train_resp, test_resp,\n",
    "            embed_name, subject_name\n",
    "        )\n",
    "    \n",
    "    all_results[subject_name] = subject_results\n",
    "\n",
    "# Final cross-subject comparison\n",
    "print(\"\\n=== Final Cross-subject Comparison ===\")\n",
    "for embed_name in embedding_pairs:\n",
    "    print(f\"\\n{embed_name}:\")\n",
    "    for subject_name in subjects_to_analyze:\n",
    "        metrics = all_results[subject_name][embed_name]\n",
    "        print(f\"{subject_name}:\")\n",
    "        print(f\"  Mean CC: {metrics['mean_cc']:.4f}\")\n",
    "        print(f\"  Voxels > {CC_THRESHOLD}: {metrics['voxels_above_threshold']:.1f}%\")"
   ]
  }
 ],
 "metadata": {
  "kernelspec": {
   "display_name": "Python (lab3_214)",
   "language": "python",
   "name": "lab3_214"
  },
  "language_info": {
   "codemirror_mode": {
    "name": "ipython",
    "version": 3
   },
   "file_extension": ".py",
   "mimetype": "text/x-python",
   "name": "python",
   "nbconvert_exporter": "python",
   "pygments_lexer": "ipython3",
   "version": "3.11.11"
  }
 },
 "nbformat": 4,
 "nbformat_minor": 2
}
