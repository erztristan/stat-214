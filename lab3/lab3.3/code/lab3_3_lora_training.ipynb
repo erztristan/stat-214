{
 "cells": [
  {
   "cell_type": "code",
   "execution_count": 1,
   "metadata": {},
   "outputs": [],
   "source": [
    "import pickle\n",
    "import numpy as np\n",
    "from sklearn.model_selection import train_test_split\n",
    "import data\n",
    "import embedding\n",
    "import os\n",
    "import pandas as pd\n",
    "import matplotlib.pyplot as plt\n",
    "import seaborn as sns\n",
    "from ridge_utils.ridge import bootstrap_ridge, ridge_corr, ridge_corr_pred, zs\n",
    "from transformers import (\n",
    "    BertTokenizer, BertForMaskedLM,\n",
    "    Trainer, TrainingArguments,\n",
    "    DataCollatorForLanguageModeling,\n",
    "    BertTokenizerFast\n",
    ")\n",
    "from datasets import Dataset\n",
    "from peft import PeftModel, get_peft_model, LoraConfig, TaskType\n",
    "import torch"
   ]
  },
  {
   "cell_type": "code",
   "execution_count": 2,
   "metadata": {},
   "outputs": [],
   "source": [
    "with open(\"../data/raw_text.pkl\", \"rb\") as file:\n",
    "    rawdata = pickle.load(file)"
   ]
  },
  {
   "cell_type": "code",
   "execution_count": 3,
   "metadata": {},
   "outputs": [],
   "source": [
    "del rawdata['dialogue1']\n",
    "del rawdata['dialogue2']\n",
    "del rawdata['dialogue3']\n",
    "del rawdata['dialogue4']\n",
    "del rawdata['dialogue5']\n",
    "del rawdata['dialogue6']\n",
    "del rawdata['myfirstdaywiththeyankees']\n",
    "del rawdata['onlyonewaytofindout']"
   ]
  },
  {
   "cell_type": "code",
   "execution_count": 4,
   "metadata": {},
   "outputs": [
    {
     "name": "stdout",
     "output_type": "stream",
     "text": [
      "70\n",
      "31\n",
      "49\n",
      "21\n"
     ]
    }
   ],
   "source": [
    "full_stories = list(rawdata.keys())\n",
    "train_stories, test_stories = train_test_split(full_stories, test_size = 0.3, random_state = 1)\n",
    "\n",
    "print(len(train_stories))\n",
    "print(len(test_stories))\n",
    "\n",
    "model_train_stories, model_eval_stories = train_test_split(train_stories, test_size = 0.3, random_state = 1)\n",
    "\n",
    "print(len(model_train_stories))\n",
    "print(len(model_eval_stories))"
   ]
  },
  {
   "cell_type": "code",
   "execution_count": 5,
   "metadata": {},
   "outputs": [],
   "source": [
    "train_sentences = data.split_based_on_flags(rawdata, model_train_stories, 0.7, 30, 100)\n",
    "eval_sentences = data.split_based_on_flags(rawdata, model_eval_stories, 0.7, 30, 100)"
   ]
  },
  {
   "cell_type": "code",
   "execution_count": null,
   "metadata": {},
   "outputs": [
    {
     "data": {
      "application/vnd.jupyter.widget-view+json": {
       "model_id": "a7a23990f79f40a78d9661ac6110bb00",
       "version_major": 2,
       "version_minor": 0
      },
      "text/plain": [
       "Map:   0%|          | 0/2278 [00:00<?, ? examples/s]"
      ]
     },
     "metadata": {},
     "output_type": "display_data"
    },
    {
     "data": {
      "application/vnd.jupyter.widget-view+json": {
       "model_id": "d6525291c2ab450e830e8abb983ba51e",
       "version_major": 2,
       "version_minor": 0
      },
      "text/plain": [
       "Map:   0%|          | 0/1025 [00:00<?, ? examples/s]"
      ]
     },
     "metadata": {},
     "output_type": "display_data"
    },
    {
     "name": "stderr",
     "output_type": "stream",
     "text": [
      "BertForMaskedLM has generative capabilities, as `prepare_inputs_for_generation` is explicitly overwritten. However, it doesn't directly inherit from `GenerationMixin`. From 👉v4.50👈 onwards, `PreTrainedModel` will NOT inherit from `GenerationMixin`, and this model will lose the ability to call `generate` and other related functions.\n",
      "  - If you're using `trust_remote_code=True`, you can get rid of this warning by loading the model with an auto class. See https://huggingface.co/docs/transformers/en/model_doc/auto#auto-classes\n",
      "  - If you are the owner of the model architecture code, please modify your model class such that it inherits from `GenerationMixin` (after `PreTrainedModel`, otherwise you'll get an exception).\n",
      "  - If you are not the owner of the model architecture class, please contact the model code owner to update it.\n",
      "Some weights of the model checkpoint at bert-base-uncased were not used when initializing BertForMaskedLM: ['bert.pooler.dense.bias', 'bert.pooler.dense.weight', 'cls.seq_relationship.bias', 'cls.seq_relationship.weight']\n",
      "- This IS expected if you are initializing BertForMaskedLM from the checkpoint of a model trained on another task or with another architecture (e.g. initializing a BertForSequenceClassification model from a BertForPreTraining model).\n",
      "- This IS NOT expected if you are initializing BertForMaskedLM from the checkpoint of a model that you expect to be exactly identical (initializing a BertForSequenceClassification model from a BertForSequenceClassification model).\n",
      "/Users/taiki/Desktop/cal_venv/cal/lib/python3.11/site-packages/transformers/training_args.py:1575: FutureWarning: `evaluation_strategy` is deprecated and will be removed in version 4.46 of 🤗 Transformers. Use `eval_strategy` instead\n",
      "  warnings.warn(\n",
      "/var/folders/lb/z9764xcx5ln9g8srzvm0h51r0000gn/T/ipykernel_38893/3555410208.py:47: FutureWarning: `tokenizer` is deprecated and will be removed in version 5.0.0 for `Trainer.__init__`. Use `processing_class` instead.\n",
      "  trainer = Trainer(\n",
      "\u001b[34m\u001b[1mwandb\u001b[0m: \u001b[33mWARNING\u001b[0m The `run_name` is currently set to the same value as `TrainingArguments.output_dir`. If this was not intended, please specify a different run name by setting the `TrainingArguments.run_name` parameter.\n",
      "\u001b[34m\u001b[1mwandb\u001b[0m: Using wandb-core as the SDK backend.  Please refer to https://wandb.me/wandb-core for more information.\n",
      "\u001b[34m\u001b[1mwandb\u001b[0m: Currently logged in as: \u001b[33mtaiki_kubo\u001b[0m (\u001b[33mtaiki_kubo-university-of-california-berkeley\u001b[0m) to \u001b[32mhttps://api.wandb.ai\u001b[0m. Use \u001b[1m`wandb login --relogin`\u001b[0m to force relogin\n"
     ]
    },
    {
     "data": {
      "text/html": [
       "Tracking run with wandb version 0.19.8"
      ],
      "text/plain": [
       "<IPython.core.display.HTML object>"
      ]
     },
     "metadata": {},
     "output_type": "display_data"
    },
    {
     "data": {
      "text/html": [
       "Run data is saved locally in <code>/Users/taiki/Desktop/lab3_3/stat-214/lab3/lab3.3/code/wandb/run-20250504_232613-0ue0faj1</code>"
      ],
      "text/plain": [
       "<IPython.core.display.HTML object>"
      ]
     },
     "metadata": {},
     "output_type": "display_data"
    },
    {
     "data": {
      "text/html": [
       "Syncing run <strong><a href='https://wandb.ai/taiki_kubo-university-of-california-berkeley/huggingface/runs/0ue0faj1' target=\"_blank\">./lora-bert-mlm</a></strong> to <a href='https://wandb.ai/taiki_kubo-university-of-california-berkeley/huggingface' target=\"_blank\">Weights & Biases</a> (<a href='https://wandb.me/developer-guide' target=\"_blank\">docs</a>)<br>"
      ],
      "text/plain": [
       "<IPython.core.display.HTML object>"
      ]
     },
     "metadata": {},
     "output_type": "display_data"
    },
    {
     "data": {
      "text/html": [
       " View project at <a href='https://wandb.ai/taiki_kubo-university-of-california-berkeley/huggingface' target=\"_blank\">https://wandb.ai/taiki_kubo-university-of-california-berkeley/huggingface</a>"
      ],
      "text/plain": [
       "<IPython.core.display.HTML object>"
      ]
     },
     "metadata": {},
     "output_type": "display_data"
    },
    {
     "data": {
      "text/html": [
       " View run at <a href='https://wandb.ai/taiki_kubo-university-of-california-berkeley/huggingface/runs/0ue0faj1' target=\"_blank\">https://wandb.ai/taiki_kubo-university-of-california-berkeley/huggingface/runs/0ue0faj1</a>"
      ],
      "text/plain": [
       "<IPython.core.display.HTML object>"
      ]
     },
     "metadata": {},
     "output_type": "display_data"
    },
    {
     "data": {
      "application/vnd.jupyter.widget-view+json": {
       "model_id": "32aa571fb7694ec4a2751ed35c648ec6",
       "version_major": 2,
       "version_minor": 0
      },
      "text/plain": [
       "  0%|          | 0/2850 [00:00<?, ?it/s]"
      ]
     },
     "metadata": {},
     "output_type": "display_data"
    },
    {
     "name": "stdout",
     "output_type": "stream",
     "text": [
      "{'loss': 2.6853, 'grad_norm': 5.5580973625183105, 'learning_rate': 0.0001649122807017544, 'epoch': 0.88}\n"
     ]
    },
    {
     "data": {
      "application/vnd.jupyter.widget-view+json": {
       "model_id": "8ecc3a4cd6f147d9a67766fb9341d34b",
       "version_major": 2,
       "version_minor": 0
      },
      "text/plain": [
       "  0%|          | 0/257 [00:00<?, ?it/s]"
      ]
     },
     "metadata": {},
     "output_type": "display_data"
    },
    {
     "name": "stdout",
     "output_type": "stream",
     "text": [
      "{'eval_loss': 2.4195563793182373, 'eval_runtime': 92.0091, 'eval_samples_per_second': 11.14, 'eval_steps_per_second': 2.793, 'epoch': 1.0}\n",
      "{'loss': 2.5962, 'grad_norm': 6.568733215332031, 'learning_rate': 0.0001298245614035088, 'epoch': 1.75}\n"
     ]
    },
    {
     "data": {
      "application/vnd.jupyter.widget-view+json": {
       "model_id": "06697389658a478ab8a442a14846e4b1",
       "version_major": 2,
       "version_minor": 0
      },
      "text/plain": [
       "  0%|          | 0/257 [00:00<?, ?it/s]"
      ]
     },
     "metadata": {},
     "output_type": "display_data"
    },
    {
     "name": "stdout",
     "output_type": "stream",
     "text": [
      "{'eval_loss': 2.3729665279388428, 'eval_runtime': 116.0928, 'eval_samples_per_second': 8.829, 'eval_steps_per_second': 2.214, 'epoch': 2.0}\n",
      "{'loss': 2.468, 'grad_norm': 5.166666030883789, 'learning_rate': 9.473684210526316e-05, 'epoch': 2.63}\n"
     ]
    },
    {
     "data": {
      "application/vnd.jupyter.widget-view+json": {
       "model_id": "17cada4ae99749a68deaa863caf60141",
       "version_major": 2,
       "version_minor": 0
      },
      "text/plain": [
       "  0%|          | 0/257 [00:00<?, ?it/s]"
      ]
     },
     "metadata": {},
     "output_type": "display_data"
    },
    {
     "name": "stdout",
     "output_type": "stream",
     "text": [
      "{'eval_loss': 2.285646915435791, 'eval_runtime': 87.9047, 'eval_samples_per_second': 11.66, 'eval_steps_per_second': 2.924, 'epoch': 3.0}\n",
      "{'loss': 2.5328, 'grad_norm': 5.008162975311279, 'learning_rate': 5.9649122807017544e-05, 'epoch': 3.51}\n"
     ]
    },
    {
     "data": {
      "application/vnd.jupyter.widget-view+json": {
       "model_id": "7f4588449d54432ab808ef81b5e3f98b",
       "version_major": 2,
       "version_minor": 0
      },
      "text/plain": [
       "  0%|          | 0/257 [00:00<?, ?it/s]"
      ]
     },
     "metadata": {},
     "output_type": "display_data"
    },
    {
     "name": "stdout",
     "output_type": "stream",
     "text": [
      "{'eval_loss': 2.4378578662872314, 'eval_runtime': 81.2395, 'eval_samples_per_second': 12.617, 'eval_steps_per_second': 3.163, 'epoch': 4.0}\n",
      "{'loss': 2.5036, 'grad_norm': 5.775305271148682, 'learning_rate': 2.456140350877193e-05, 'epoch': 4.39}\n"
     ]
    },
    {
     "data": {
      "application/vnd.jupyter.widget-view+json": {
       "model_id": "26562c86d3a344efb92aa54f91e76e6f",
       "version_major": 2,
       "version_minor": 0
      },
      "text/plain": [
       "  0%|          | 0/257 [00:00<?, ?it/s]"
      ]
     },
     "metadata": {},
     "output_type": "display_data"
    },
    {
     "name": "stdout",
     "output_type": "stream",
     "text": [
      "{'eval_loss': 2.4063055515289307, 'eval_runtime': 83.1816, 'eval_samples_per_second': 12.322, 'eval_steps_per_second': 3.09, 'epoch': 5.0}\n",
      "{'train_runtime': 2891.2559, 'train_samples_per_second': 3.939, 'train_steps_per_second': 0.986, 'train_loss': 2.549360779879386, 'epoch': 5.0}\n"
     ]
    },
    {
     "data": {
      "text/plain": [
       "TrainOutput(global_step=2850, training_loss=2.549360779879386, metrics={'train_runtime': 2891.2559, 'train_samples_per_second': 3.939, 'train_steps_per_second': 0.986, 'total_flos': 750765578757120.0, 'train_loss': 2.549360779879386, 'epoch': 5.0})"
      ]
     },
     "execution_count": 6,
     "metadata": {},
     "output_type": "execute_result"
    }
   ],
   "source": [
    "tokenizer = BertTokenizer.from_pretrained(\"bert-base-uncased\")\n",
    "\n",
    "def tokenize_function(sentences):\n",
    "    return tokenizer(sentences[\"text\"], is_split_into_words=True, truncation=True, padding=\"max_length\", max_length=128)\n",
    "\n",
    "train_dataset = Dataset.from_dict({\"text\": train_sentences})\n",
    "eval_dataset = Dataset.from_dict({\"text\": eval_sentences})\n",
    "\n",
    "train_dataset = train_dataset.map(tokenize_function, batched=True)\n",
    "eval_dataset = eval_dataset.map(tokenize_function, batched=True)\n",
    "\n",
    "data_collator = DataCollatorForLanguageModeling(\n",
    "    tokenizer=tokenizer,\n",
    "    mlm=True,\n",
    "    mlm_probability=0.15  # Mask 15% of all tokens\n",
    ")\n",
    "\n",
    "# Define Base Model\n",
    "model = BertForMaskedLM.from_pretrained(\"bert-base-uncased\")\n",
    "\n",
    "# Define LoRA (MLM training)\n",
    "peft_config = LoraConfig(\n",
    "    task_type=TaskType.FEATURE_EXTRACTION,  # Masked Language Model\n",
    "    inference_mode=False,\n",
    "    r=4,  # Rank\n",
    "    lora_alpha=16,\n",
    "    lora_dropout=0.1,\n",
    "    target_modules=[\"query\", \"value\"]  # Where to use LoRA\n",
    ")\n",
    "\n",
    "model = get_peft_model(model, peft_config)\n",
    "\n",
    "\n",
    "training_args = TrainingArguments(\n",
    "    output_dir=\"./lora-bert-mlm\",\n",
    "    evaluation_strategy=\"epoch\",\n",
    "    per_device_train_batch_size=4,\n",
    "    per_device_eval_batch_size=4,\n",
    "    num_train_epochs=5,\n",
    "    learning_rate=2e-4,\n",
    "    logging_dir=\"./logs\",\n",
    "    save_strategy=\"epoch\",\n",
    "    label_names=[\"labels\"],\n",
    ")\n",
    "\n",
    "# Define Trainer\n",
    "trainer = Trainer(\n",
    "    model=model,\n",
    "    args=training_args,\n",
    "    train_dataset=train_dataset,\n",
    "    eval_dataset=eval_dataset,\n",
    "    data_collator=data_collator, \n",
    "    tokenizer=tokenizer,\n",
    ")\n",
    "\n",
    "trainer.train()"
   ]
  },
  {
   "cell_type": "code",
   "execution_count": null,
   "metadata": {},
   "outputs": [],
   "source": [
    "model.save_pretrained(\"./lora-bert-mlm-final\")\n",
    "tokenizer.save_pretrained(\"./lora-bert-mlm-final\")"
   ]
  },
  {
   "cell_type": "code",
   "execution_count": null,
   "metadata": {},
   "outputs": [
    {
     "name": "stderr",
     "output_type": "stream",
     "text": [
      "Some weights of the model checkpoint at bert-base-uncased were not used when initializing BertForMaskedLM: ['bert.pooler.dense.bias', 'bert.pooler.dense.weight', 'cls.seq_relationship.bias', 'cls.seq_relationship.weight']\n",
      "- This IS expected if you are initializing BertForMaskedLM from the checkpoint of a model trained on another task or with another architecture (e.g. initializing a BertForSequenceClassification model from a BertForPreTraining model).\n",
      "- This IS NOT expected if you are initializing BertForMaskedLM from the checkpoint of a model that you expect to be exactly identical (initializing a BertForSequenceClassification model from a BertForSequenceClassification model).\n"
     ]
    }
   ],
   "source": [
    "base_model = BertForMaskedLM.from_pretrained(\"bert-base-uncased\")\n",
    "model = PeftModel.from_pretrained(base_model, \"./lora-bert-mlm-final\")\n",
    "model.eval()  \n",
    "\n",
    "\n",
    "tokenizer = BertTokenizerFast.from_pretrained(\"bert-base-uncased\")"
   ]
  },
  {
   "cell_type": "code",
   "execution_count": 14,
   "metadata": {},
   "outputs": [],
   "source": [
    "def auto_embeddings_pretrained(data, model, tokenizer, stories, delay = [1, 2, 3, 4]):\n",
    "\n",
    "    dict_embeddings = {}\n",
    "\n",
    "    for story in stories:\n",
    "        text = data[story].data\n",
    "        encoded_input = tokenizer(text, is_split_into_words=True, return_overflowing_tokens=True,\n",
    "                            return_token_type_ids=True, padding=True, truncation=True, return_tensors='pt')\n",
    "        \n",
    "        inputs = {\n",
    "            \"input_ids\": encoded_input[\"input_ids\"],\n",
    "            \"attention_mask\": encoded_input[\"attention_mask\"],\n",
    "        }\n",
    "\n",
    "        with torch.no_grad():\n",
    "            output = model.bert(**inputs)\n",
    "        \n",
    "        hidden_state = output.last_hidden_state.cpu().numpy()\n",
    "        embed = np.zeros((len(text), len(hidden_state[0][0])))\n",
    "        count = np.zeros(len(text))\n",
    "\n",
    "        for i in range(len(hidden_state)):\n",
    "            word_ids = encoded_input.word_ids(batch_index = i)\n",
    "            for j in range(len(hidden_state[i])):\n",
    "                idx = word_ids[j]\n",
    "                if idx is not None:\n",
    "                    embed[idx, :] += hidden_state[i][j, :]\n",
    "                    count[idx] += 1\n",
    "                \n",
    "        embed = np.where(count[:, np.newaxis] != 0, embed / count[:, np.newaxis], 0)\n",
    "        dict_embeddings[story] = embed\n",
    "\n",
    "\n",
    "    dict_embeddings = embedding.dict_downsample(data, dict_embeddings)\n",
    "    dict_embeddings = embedding.dict_makedelayed(dict_embeddings, delay)\n",
    "\n",
    "    return dict_embeddings"
   ]
  },
  {
   "cell_type": "code",
   "execution_count": 15,
   "metadata": {},
   "outputs": [
    {
     "name": "stderr",
     "output_type": "stream",
     "text": [
      "/var/folders/lb/z9764xcx5ln9g8srzvm0h51r0000gn/T/ipykernel_38893/1428686195.py:30: RuntimeWarning: invalid value encountered in divide\n",
      "  embed = np.where(count[:, np.newaxis] != 0, embed / count[:, np.newaxis], 0)\n"
     ]
    }
   ],
   "source": [
    "finetuned_embedding = auto_embeddings_pretrained(rawdata, model, tokenizer, train_stories)"
   ]
  },
  {
   "cell_type": "code",
   "execution_count": 16,
   "metadata": {},
   "outputs": [
    {
     "data": {
      "text/plain": [
       "array([[ 0.        ,  0.        ,  0.        , ...,  0.        ,\n",
       "         0.        ,  0.        ],\n",
       "       [-0.0324818 , -0.10738009,  1.08426415, ...,  0.        ,\n",
       "         0.        ,  0.        ],\n",
       "       [-3.30375685,  0.07242581,  1.86833126, ...,  0.        ,\n",
       "         0.        ,  0.        ],\n",
       "       ...,\n",
       "       [-0.10034275,  0.3476674 ,  1.22564087, ..., -4.73889171,\n",
       "        -1.42923256,  0.65081707],\n",
       "       [ 0.05154551, -0.56172777,  1.49509351, ..., -2.14137482,\n",
       "         0.62682603,  0.01403062],\n",
       "       [ 1.66828381, -0.24144794,  0.7808191 , ...,  0.40249676,\n",
       "        -0.01989881, -0.0352881 ]])"
      ]
     },
     "execution_count": 16,
     "metadata": {},
     "output_type": "execute_result"
    }
   ],
   "source": [
    "finetuned_embedding[\"sweetaspie\"]"
   ]
  }
 ],
 "metadata": {
  "kernelspec": {
   "display_name": "cal",
   "language": "python",
   "name": "python3"
  },
  "language_info": {
   "codemirror_mode": {
    "name": "ipython",
    "version": 3
   },
   "file_extension": ".py",
   "mimetype": "text/x-python",
   "name": "python",
   "nbconvert_exporter": "python",
   "pygments_lexer": "ipython3",
   "version": "3.11.9"
  }
 },
 "nbformat": 4,
 "nbformat_minor": 2
}
